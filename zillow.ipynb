{
 "cells": [
  {
   "cell_type": "code",
   "execution_count": 1,
   "id": "879dc95c",
   "metadata": {},
   "outputs": [],
   "source": [
    "import acquire as a\n",
    "\n",
    "import pandas as pd\n",
    "import numpy as np\n",
    "import matplotlib.pyplot as plt\n",
    "import seaborn as sns\n",
    "\n",
    "import warnings\n",
    "warnings.filterwarnings('ignore')\n",
    "\n",
    "from sklearn.model_selection import train_test_split\n",
    "from sklearn.preprocessing import MinMaxScaler"
   ]
  },
  {
   "cell_type": "markdown",
   "id": "7c4b9597",
   "metadata": {},
   "source": [
    "## Acquire/Visualize:"
   ]
  },
  {
   "cell_type": "code",
   "execution_count": 2,
   "id": "41c74baf",
   "metadata": {},
   "outputs": [
    {
     "name": "stdout",
     "output_type": "stream",
     "text": [
      "Using cached csv\n"
     ]
    }
   ],
   "source": [
    "# 1. Acquisition of zillow data given the needed parameters\n",
    "zillow = a.acquire_zillow()"
   ]
  },
  {
   "cell_type": "code",
   "execution_count": 3,
   "id": "21b50f22",
   "metadata": {},
   "outputs": [],
   "source": [
    "zillow.head()\n",
    "zillow = zillow.drop(columns='id')"
   ]
  },
  {
   "cell_type": "code",
   "execution_count": 4,
   "id": "ae385e87",
   "metadata": {},
   "outputs": [
    {
     "data": {
      "text/plain": [
       "(77574, 67)"
      ]
     },
     "execution_count": 4,
     "metadata": {},
     "output_type": "execute_result"
    }
   ],
   "source": [
    "zillow.shape"
   ]
  },
  {
   "cell_type": "code",
   "execution_count": 5,
   "id": "f85735da",
   "metadata": {},
   "outputs": [
    {
     "name": "stdout",
     "output_type": "stream",
     "text": [
      "<class 'pandas.core.frame.DataFrame'>\n",
      "RangeIndex: 77574 entries, 0 to 77573\n",
      "Data columns (total 67 columns):\n",
      " #   Column                        Non-Null Count  Dtype  \n",
      "---  ------                        --------------  -----  \n",
      " 0   parcelid                      77574 non-null  int64  \n",
      " 1   airconditioningtypeid         25006 non-null  float64\n",
      " 2   architecturalstyletypeid      206 non-null    float64\n",
      " 3   basementsqft                  50 non-null     float64\n",
      " 4   bathroomcnt                   77574 non-null  float64\n",
      " 5   bedroomcnt                    77574 non-null  float64\n",
      " 6   buildingclasstypeid           15 non-null     float64\n",
      " 7   buildingqualitytypeid         49808 non-null  float64\n",
      " 8   calculatedbathnbr             76959 non-null  float64\n",
      " 9   decktypeid                    614 non-null    float64\n",
      " 10  finishedfloor1squarefeet      6035 non-null   float64\n",
      " 11  calculatedfinishedsquarefeet  77374 non-null  float64\n",
      " 12  finishedsquarefeet12          73919 non-null  float64\n",
      " 13  finishedsquarefeet13          42 non-null     float64\n",
      " 14  finishedsquarefeet15          3027 non-null   float64\n",
      " 15  finishedsquarefeet50          6035 non-null   float64\n",
      " 16  finishedsquarefeet6           386 non-null    float64\n",
      " 17  fips                          77574 non-null  float64\n",
      " 18  fireplacecnt                  8287 non-null   float64\n",
      " 19  fullbathcnt                   76959 non-null  float64\n",
      " 20  garagecarcnt                  25517 non-null  float64\n",
      " 21  garagetotalsqft               25517 non-null  float64\n",
      " 22  hashottuborspa                1539 non-null   float64\n",
      " 23  heatingorsystemtypeid         49569 non-null  float64\n",
      " 24  latitude                      77574 non-null  float64\n",
      " 25  longitude                     77574 non-null  float64\n",
      " 26  lotsizesquarefeet             69317 non-null  float64\n",
      " 27  poolcnt                       16173 non-null  float64\n",
      " 28  poolsizesum                   869 non-null    float64\n",
      " 29  pooltypeid10                  465 non-null    float64\n",
      " 30  pooltypeid2                   1074 non-null   float64\n",
      " 31  pooltypeid7                   15078 non-null  float64\n",
      " 32  propertycountylandusecode     77574 non-null  object \n",
      " 33  propertylandusetypeid         77574 non-null  float64\n",
      " 34  propertyzoningdesc            50474 non-null  object \n",
      " 35  rawcensustractandblock        77574 non-null  float64\n",
      " 36  regionidcity                  76102 non-null  float64\n",
      " 37  regionidcounty                77574 non-null  float64\n",
      " 38  regionidneighborhood          30973 non-null  float64\n",
      " 39  regionidzip                   77524 non-null  float64\n",
      " 40  roomcnt                       77574 non-null  float64\n",
      " 41  storytypeid                   50 non-null     float64\n",
      " 42  threequarterbathnbr           10105 non-null  float64\n",
      " 43  typeconstructiontypeid        222 non-null    float64\n",
      " 44  unitcnt                       50702 non-null  float64\n",
      " 45  yardbuildingsqft17            2393 non-null   float64\n",
      " 46  yardbuildingsqft26            70 non-null     float64\n",
      " 47  yearbuilt                     77305 non-null  float64\n",
      " 48  numberofstories               17596 non-null  float64\n",
      " 49  fireplaceflag                 172 non-null    float64\n",
      " 50  structuretaxvaluedollarcnt    77459 non-null  float64\n",
      " 51  taxvaluedollarcnt             77573 non-null  float64\n",
      " 52  assessmentyear                77574 non-null  float64\n",
      " 53  landtaxvaluedollarcnt         77572 non-null  float64\n",
      " 54  taxamount                     77569 non-null  float64\n",
      " 55  taxdelinquencyflag            2900 non-null   object \n",
      " 56  taxdelinquencyyear            2900 non-null   float64\n",
      " 57  censustractandblock           77327 non-null  float64\n",
      " 58  logerror                      77574 non-null  float64\n",
      " 59  transactiondate               77574 non-null  object \n",
      " 60  airconditioningdesc           25006 non-null  object \n",
      " 61  architecturalstyledesc        206 non-null    object \n",
      " 62  buildingclassdesc             15 non-null     object \n",
      " 63  heatingorsystemdesc           49569 non-null  object \n",
      " 64  propertylandusedesc           77574 non-null  object \n",
      " 65  storydesc                     50 non-null     object \n",
      " 66  typeconstructiondesc          222 non-null    object \n",
      "dtypes: float64(55), int64(1), object(11)\n",
      "memory usage: 39.7+ MB\n"
     ]
    }
   ],
   "source": [
    "zillow.info()"
   ]
  },
  {
   "cell_type": "code",
   "execution_count": 6,
   "id": "498e666b",
   "metadata": {},
   "outputs": [
    {
     "data": {
      "text/plain": [
       "buildingclasstypeid             77559\n",
       "buildingclassdesc               77559\n",
       "finishedsquarefeet13            77532\n",
       "basementsqft                    77524\n",
       "storydesc                       77524\n",
       "storytypeid                     77524\n",
       "yardbuildingsqft26              77504\n",
       "fireplaceflag                   77402\n",
       "architecturalstyletypeid        77368\n",
       "architecturalstyledesc          77368\n",
       "typeconstructiontypeid          77352\n",
       "typeconstructiondesc            77352\n",
       "finishedsquarefeet6             77188\n",
       "pooltypeid10                    77109\n",
       "decktypeid                      76960\n",
       "poolsizesum                     76705\n",
       "pooltypeid2                     76500\n",
       "hashottuborspa                  76035\n",
       "yardbuildingsqft17              75181\n",
       "taxdelinquencyflag              74674\n",
       "taxdelinquencyyear              74674\n",
       "finishedsquarefeet15            74547\n",
       "finishedsquarefeet50            71539\n",
       "finishedfloor1squarefeet        71539\n",
       "fireplacecnt                    69287\n",
       "threequarterbathnbr             67469\n",
       "pooltypeid7                     62496\n",
       "poolcnt                         61401\n",
       "numberofstories                 59978\n",
       "airconditioningdesc             52568\n",
       "airconditioningtypeid           52568\n",
       "garagetotalsqft                 52057\n",
       "garagecarcnt                    52057\n",
       "regionidneighborhood            46601\n",
       "heatingorsystemtypeid           28005\n",
       "heatingorsystemdesc             28005\n",
       "buildingqualitytypeid           27766\n",
       "propertyzoningdesc              27100\n",
       "unitcnt                         26872\n",
       "lotsizesquarefeet                8257\n",
       "finishedsquarefeet12             3655\n",
       "regionidcity                     1472\n",
       "calculatedbathnbr                 615\n",
       "fullbathcnt                       615\n",
       "yearbuilt                         269\n",
       "censustractandblock               247\n",
       "calculatedfinishedsquarefeet      200\n",
       "structuretaxvaluedollarcnt        115\n",
       "regionidzip                        50\n",
       "taxamount                           5\n",
       "dtype: int64"
      ]
     },
     "execution_count": 6,
     "metadata": {},
     "output_type": "execute_result"
    }
   ],
   "source": [
    "zillow.isnull().sum().sort_values(ascending=False)[:50]"
   ]
  },
  {
   "cell_type": "code",
   "execution_count": 7,
   "id": "7df43f9a",
   "metadata": {},
   "outputs": [],
   "source": [
    "# Let's do some visualizations\n",
    "def plot_cats_and_cons(df, conts, cats):\n",
    "    for col in conts:\n",
    "        sns.displot(x=col, data=df, kind='kde')\n",
    "        plt.show()\n",
    "        sns.boxplot(df[col])\n",
    "        plt.show()\n",
    "        sns.histplot(df[col])\n",
    "        plt.show()\n",
    "    for col in cats:\n",
    "        sns.countplot(x=col, data=df)\n",
    "        plt.show()"
   ]
  },
  {
   "cell_type": "code",
   "execution_count": 8,
   "id": "ab7753ae",
   "metadata": {},
   "outputs": [
    {
     "data": {
      "image/png": "[encoded data removed]",
      "text/plain": [
       "<Figure size 360x360 with 1 Axes>"
      ]
     },
     "metadata": {
      "needs_background": "light"
     },
     "output_type": "display_data"
    },
    {
     "data": {
      "image/png": "[encoded data removed]",
      "text/plain": [
       "<Figure size 432x288 with 1 Axes>"
      ]
     },
     "metadata": {
      "needs_background": "light"
     },
     "output_type": "display_data"
    },
    {
     "data": {
      "image/png": "[encoded data removed]",
      "text/plain": [
       "<Figure size 432x288 with 1 Axes>"
      ]
     },
     "metadata": {
      "needs_background": "light"
     },
     "output_type": "display_data"
    },
    {
     "data": {
      "image/png": "[encoded data removed]",
      "text/plain": [
       "<Figure size 360x360 with 1 Axes>"
      ]
     },
     "metadata": {
      "needs_background": "light"
     },
     "output_type": "display_data"
    },
    {
     "data": {
      "image/png": "[encoded data removed]",
      "text/plain": [
       "<Figure size 432x288 with 1 Axes>"
      ]
     },
     "metadata": {
      "needs_background": "light"
     },
     "output_type": "display_data"
    },
    {
     "data": {
      "image/png": "[encoded data removed]",
      "text/plain": [
       "<Figure size 432x288 with 1 Axes>"
      ]
     },
     "metadata": {
      "needs_background": "light"
     },
     "output_type": "display_data"
    },
    {
     "data": {
      "image/png": "[encoded data removed]",
      "text/plain": [
       "<Figure size 360x360 with 1 Axes>"
      ]
     },
     "metadata": {
      "needs_background": "light"
     },
     "output_type": "display_data"
    },
    {
     "data": {
      "image/png": "[encoded data removed]",
      "text/plain": [
       "<Figure size 432x288 with 1 Axes>"
      ]
     },
     "metadata": {
      "needs_background": "light"
     },
     "output_type": "display_data"
    },
    {
     "data": {
      "image/png": "[encoded data removed]",
      "text/plain": [
       "<Figure size 432x288 with 1 Axes>"
      ]
     },
     "metadata": {
      "needs_background": "light"
     },
     "output_type": "display_data"
    },
    {
     "data": {
      "image/png": "[encoded data removed]",
      "text/plain": [
       "<Figure size 360x360 with 1 Axes>"
      ]
     },
     "metadata": {
      "needs_background": "light"
     },
     "output_type": "display_data"
    },
    {
     "data": {
      "image/png": "[encoded data removed]",
      "text/plain": [
       "<Figure size 432x288 with 1 Axes>"
      ]
     },
     "metadata": {
      "needs_background": "light"
     },
     "output_type": "display_data"
    },
    {
     "data": {
      "image/png": "[encoded data removed]",
      "text/plain": [
       "<Figure size 432x288 with 1 Axes>"
      ]
     },
     "metadata": {
      "needs_background": "light"
     },
     "output_type": "display_data"
    },
    {
     "data": {
      "image/png": "[encoded data removed]",
      "text/plain": [
       "<Figure size 432x288 with 1 Axes>"
      ]
     },
     "metadata": {
      "needs_background": "light"
     },
     "output_type": "display_data"
    },
    {
     "data": {
      "image/png": "[encoded data removed]",
      "text/plain": [
       "<Figure size 432x288 with 1 Axes>"
      ]
     },
     "metadata": {
      "needs_background": "light"
     },
     "output_type": "display_data"
    }
   ],
   "source": [
    "conts = ['bedroomcnt', 'bathroomcnt', 'calculatedfinishedsquarefeet', 'taxamount']\n",
    "cats = ['fips', 'hashottuborspa']\n",
    "plot_cats_and_cons(zillow, conts, cats)"
   ]
  },
  {
   "cell_type": "code",
   "execution_count": 9,
   "id": "ba8f7c56",
   "metadata": {},
   "outputs": [
    {
     "data": {
      "image/png": "[encoded data removed]",
      "text/plain": [
       "<Figure size 1152x648 with 3 Axes>"
      ]
     },
     "metadata": {
      "needs_background": "light"
     },
     "output_type": "display_data"
    }
   ],
   "source": [
    "plt.figure(figsize=(16,9))\n",
    "plt.subplot(221)\n",
    "plt.hist(zillow.lotsizesquarefeet, bins= 100)\n",
    "plt.title('Lot Size')\n",
    "\n",
    "plt.subplot(222)\n",
    "plt.hist(zillow.bedroomcnt, bins=10)\n",
    "plt.title('Bedrooms')\n",
    "\n",
    "plt.subplot(223)\n",
    "plt.hist(zillow.logerror, bins = 100)\n",
    "plt.title('Logerror')\n",
    "\n",
    "plt.tight_layout()"
   ]
  },
  {
   "cell_type": "code",
   "execution_count": 10,
   "id": "7979b277",
   "metadata": {},
   "outputs": [
    {
     "data": {
      "text/html": [
       "<div>\n",
       "<style scoped>\n",
       "    .dataframe tbody tr th:only-of-type {\n",
       "        vertical-align: middle;\n",
       "    }\n",
       "\n",
       "    .dataframe tbody tr th {\n",
       "        vertical-align: top;\n",
       "    }\n",
       "\n",
       "    .dataframe thead th {\n",
       "        text-align: right;\n",
       "    }\n",
       "</style>\n",
       "<table border=\"1\" class=\"dataframe\">\n",
       "  <thead>\n",
       "    <tr style=\"text-align: right;\">\n",
       "      <th></th>\n",
       "      <th>parcelid</th>\n",
       "      <th>airconditioningtypeid</th>\n",
       "      <th>architecturalstyletypeid</th>\n",
       "      <th>basementsqft</th>\n",
       "      <th>bathroomcnt</th>\n",
       "      <th>bedroomcnt</th>\n",
       "      <th>buildingclasstypeid</th>\n",
       "      <th>buildingqualitytypeid</th>\n",
       "      <th>calculatedbathnbr</th>\n",
       "      <th>decktypeid</th>\n",
       "      <th>...</th>\n",
       "      <th>numberofstories</th>\n",
       "      <th>fireplaceflag</th>\n",
       "      <th>structuretaxvaluedollarcnt</th>\n",
       "      <th>taxvaluedollarcnt</th>\n",
       "      <th>assessmentyear</th>\n",
       "      <th>landtaxvaluedollarcnt</th>\n",
       "      <th>taxamount</th>\n",
       "      <th>taxdelinquencyyear</th>\n",
       "      <th>censustractandblock</th>\n",
       "      <th>logerror</th>\n",
       "    </tr>\n",
       "  </thead>\n",
       "  <tbody>\n",
       "    <tr>\n",
       "      <th>count</th>\n",
       "      <td>7.757400e+04</td>\n",
       "      <td>25006.000000</td>\n",
       "      <td>206.000000</td>\n",
       "      <td>50.000000</td>\n",
       "      <td>77574.000000</td>\n",
       "      <td>77574.000000</td>\n",
       "      <td>15.000000</td>\n",
       "      <td>49808.000000</td>\n",
       "      <td>76959.000000</td>\n",
       "      <td>614.0</td>\n",
       "      <td>...</td>\n",
       "      <td>17596.000000</td>\n",
       "      <td>172.0</td>\n",
       "      <td>7.745900e+04</td>\n",
       "      <td>7.757300e+04</td>\n",
       "      <td>77574.0</td>\n",
       "      <td>7.757200e+04</td>\n",
       "      <td>77569.000000</td>\n",
       "      <td>2900.000000</td>\n",
       "      <td>7.732700e+04</td>\n",
       "      <td>77574.000000</td>\n",
       "    </tr>\n",
       "    <tr>\n",
       "      <th>mean</th>\n",
       "      <td>1.300630e+07</td>\n",
       "      <td>1.812045</td>\n",
       "      <td>7.388350</td>\n",
       "      <td>679.720000</td>\n",
       "      <td>2.298521</td>\n",
       "      <td>3.053252</td>\n",
       "      <td>3.933333</td>\n",
       "      <td>6.533830</td>\n",
       "      <td>2.316389</td>\n",
       "      <td>66.0</td>\n",
       "      <td>...</td>\n",
       "      <td>1.434246</td>\n",
       "      <td>1.0</td>\n",
       "      <td>1.892829e+05</td>\n",
       "      <td>4.901477e+05</td>\n",
       "      <td>2016.0</td>\n",
       "      <td>3.011468e+05</td>\n",
       "      <td>5995.855691</td>\n",
       "      <td>14.088276</td>\n",
       "      <td>6.049666e+13</td>\n",
       "      <td>0.016805</td>\n",
       "    </tr>\n",
       "    <tr>\n",
       "      <th>std</th>\n",
       "      <td>3.478043e+06</td>\n",
       "      <td>2.965823</td>\n",
       "      <td>2.734542</td>\n",
       "      <td>689.703546</td>\n",
       "      <td>0.996706</td>\n",
       "      <td>1.140447</td>\n",
       "      <td>0.258199</td>\n",
       "      <td>1.722041</td>\n",
       "      <td>0.979690</td>\n",
       "      <td>0.0</td>\n",
       "      <td>...</td>\n",
       "      <td>0.544518</td>\n",
       "      <td>0.0</td>\n",
       "      <td>2.304149e+05</td>\n",
       "      <td>6.538059e+05</td>\n",
       "      <td>0.0</td>\n",
       "      <td>4.927317e+05</td>\n",
       "      <td>7628.912331</td>\n",
       "      <td>2.181281</td>\n",
       "      <td>1.533386e+12</td>\n",
       "      <td>0.170742</td>\n",
       "    </tr>\n",
       "    <tr>\n",
       "      <th>min</th>\n",
       "      <td>1.071186e+07</td>\n",
       "      <td>1.000000</td>\n",
       "      <td>2.000000</td>\n",
       "      <td>38.000000</td>\n",
       "      <td>0.000000</td>\n",
       "      <td>0.000000</td>\n",
       "      <td>3.000000</td>\n",
       "      <td>1.000000</td>\n",
       "      <td>1.000000</td>\n",
       "      <td>66.0</td>\n",
       "      <td>...</td>\n",
       "      <td>1.000000</td>\n",
       "      <td>1.0</td>\n",
       "      <td>4.400000e+01</td>\n",
       "      <td>1.000000e+03</td>\n",
       "      <td>2016.0</td>\n",
       "      <td>1.610000e+02</td>\n",
       "      <td>19.920000</td>\n",
       "      <td>3.000000</td>\n",
       "      <td>6.037101e+13</td>\n",
       "      <td>-4.655420</td>\n",
       "    </tr>\n",
       "    <tr>\n",
       "      <th>25%</th>\n",
       "      <td>1.153819e+07</td>\n",
       "      <td>1.000000</td>\n",
       "      <td>7.000000</td>\n",
       "      <td>273.000000</td>\n",
       "      <td>2.000000</td>\n",
       "      <td>2.000000</td>\n",
       "      <td>4.000000</td>\n",
       "      <td>6.000000</td>\n",
       "      <td>2.000000</td>\n",
       "      <td>66.0</td>\n",
       "      <td>...</td>\n",
       "      <td>1.000000</td>\n",
       "      <td>1.0</td>\n",
       "      <td>8.418200e+04</td>\n",
       "      <td>2.068980e+05</td>\n",
       "      <td>2016.0</td>\n",
       "      <td>8.529200e+04</td>\n",
       "      <td>2712.610000</td>\n",
       "      <td>14.000000</td>\n",
       "      <td>6.037311e+13</td>\n",
       "      <td>-0.024310</td>\n",
       "    </tr>\n",
       "    <tr>\n",
       "      <th>50%</th>\n",
       "      <td>1.253050e+07</td>\n",
       "      <td>1.000000</td>\n",
       "      <td>7.000000</td>\n",
       "      <td>515.000000</td>\n",
       "      <td>2.000000</td>\n",
       "      <td>3.000000</td>\n",
       "      <td>4.000000</td>\n",
       "      <td>6.000000</td>\n",
       "      <td>2.000000</td>\n",
       "      <td>66.0</td>\n",
       "      <td>...</td>\n",
       "      <td>1.000000</td>\n",
       "      <td>1.0</td>\n",
       "      <td>1.364070e+05</td>\n",
       "      <td>3.588790e+05</td>\n",
       "      <td>2016.0</td>\n",
       "      <td>2.031810e+05</td>\n",
       "      <td>4448.300000</td>\n",
       "      <td>15.000000</td>\n",
       "      <td>6.037603e+13</td>\n",
       "      <td>0.006673</td>\n",
       "    </tr>\n",
       "    <tr>\n",
       "      <th>75%</th>\n",
       "      <td>1.421124e+07</td>\n",
       "      <td>1.000000</td>\n",
       "      <td>7.000000</td>\n",
       "      <td>796.500000</td>\n",
       "      <td>3.000000</td>\n",
       "      <td>4.000000</td>\n",
       "      <td>4.000000</td>\n",
       "      <td>8.000000</td>\n",
       "      <td>3.000000</td>\n",
       "      <td>66.0</td>\n",
       "      <td>...</td>\n",
       "      <td>2.000000</td>\n",
       "      <td>1.0</td>\n",
       "      <td>2.187340e+05</td>\n",
       "      <td>5.690000e+05</td>\n",
       "      <td>2016.0</td>\n",
       "      <td>3.667610e+05</td>\n",
       "      <td>6926.820000</td>\n",
       "      <td>15.000000</td>\n",
       "      <td>6.059042e+13</td>\n",
       "      <td>0.039292</td>\n",
       "    </tr>\n",
       "    <tr>\n",
       "      <th>max</th>\n",
       "      <td>1.676893e+08</td>\n",
       "      <td>13.000000</td>\n",
       "      <td>21.000000</td>\n",
       "      <td>3560.000000</td>\n",
       "      <td>18.000000</td>\n",
       "      <td>16.000000</td>\n",
       "      <td>4.000000</td>\n",
       "      <td>12.000000</td>\n",
       "      <td>18.000000</td>\n",
       "      <td>66.0</td>\n",
       "      <td>...</td>\n",
       "      <td>6.000000</td>\n",
       "      <td>1.0</td>\n",
       "      <td>1.142179e+07</td>\n",
       "      <td>4.906124e+07</td>\n",
       "      <td>2016.0</td>\n",
       "      <td>4.895220e+07</td>\n",
       "      <td>586639.300000</td>\n",
       "      <td>99.000000</td>\n",
       "      <td>4.830301e+14</td>\n",
       "      <td>5.262999</td>\n",
       "    </tr>\n",
       "  </tbody>\n",
       "</table>\n",
       "<p>8 rows × 56 columns</p>\n",
       "</div>"
      ],
      "text/plain": [
       "           parcelid  airconditioningtypeid  architecturalstyletypeid  \\\n",
       "count  7.757400e+04           25006.000000                206.000000   \n",
       "mean   1.300630e+07               1.812045                  7.388350   \n",
       "std    3.478043e+06               2.965823                  2.734542   \n",
       "min    1.071186e+07               1.000000                  2.000000   \n",
       "25%    1.153819e+07               1.000000                  7.000000   \n",
       "50%    1.253050e+07               1.000000                  7.000000   \n",
       "75%    1.421124e+07               1.000000                  7.000000   \n",
       "max    1.676893e+08              13.000000                 21.000000   \n",
       "\n",
       "       basementsqft   bathroomcnt    bedroomcnt  buildingclasstypeid  \\\n",
       "count     50.000000  77574.000000  77574.000000            15.000000   \n",
       "mean     679.720000      2.298521      3.053252             3.933333   \n",
       "std      689.703546      0.996706      1.140447             0.258199   \n",
       "min       38.000000      0.000000      0.000000             3.000000   \n",
       "25%      273.000000      2.000000      2.000000             4.000000   \n",
       "50%      515.000000      2.000000      3.000000             4.000000   \n",
       "75%      796.500000      3.000000      4.000000             4.000000   \n",
       "max     3560.000000     18.000000     16.000000             4.000000   \n",
       "\n",
       "       buildingqualitytypeid  calculatedbathnbr  decktypeid  ...  \\\n",
       "count           49808.000000       76959.000000       614.0  ...   \n",
       "mean                6.533830           2.316389        66.0  ...   \n",
       "std                 1.722041           0.979690         0.0  ...   \n",
       "min                 1.000000           1.000000        66.0  ...   \n",
       "25%                 6.000000           2.000000        66.0  ...   \n",
       "50%                 6.000000           2.000000        66.0  ...   \n",
       "75%                 8.000000           3.000000        66.0  ...   \n",
       "max                12.000000          18.000000        66.0  ...   \n",
       "\n",
       "       numberofstories  fireplaceflag  structuretaxvaluedollarcnt  \\\n",
       "count     17596.000000          172.0                7.745900e+04   \n",
       "mean          1.434246            1.0                1.892829e+05   \n",
       "std           0.544518            0.0                2.304149e+05   \n",
       "min           1.000000            1.0                4.400000e+01   \n",
       "25%           1.000000            1.0                8.418200e+04   \n",
       "50%           1.000000            1.0                1.364070e+05   \n",
       "75%           2.000000            1.0                2.187340e+05   \n",
       "max           6.000000            1.0                1.142179e+07   \n",
       "\n",
       "       taxvaluedollarcnt  assessmentyear  landtaxvaluedollarcnt  \\\n",
       "count       7.757300e+04         77574.0           7.757200e+04   \n",
       "mean        4.901477e+05          2016.0           3.011468e+05   \n",
       "std         6.538059e+05             0.0           4.927317e+05   \n",
       "min         1.000000e+03          2016.0           1.610000e+02   \n",
       "25%         2.068980e+05          2016.0           8.529200e+04   \n",
       "50%         3.588790e+05          2016.0           2.031810e+05   \n",
       "75%         5.690000e+05          2016.0           3.667610e+05   \n",
       "max         4.906124e+07          2016.0           4.895220e+07   \n",
       "\n",
       "           taxamount  taxdelinquencyyear  censustractandblock      logerror  \n",
       "count   77569.000000         2900.000000         7.732700e+04  77574.000000  \n",
       "mean     5995.855691           14.088276         6.049666e+13      0.016805  \n",
       "std      7628.912331            2.181281         1.533386e+12      0.170742  \n",
       "min        19.920000            3.000000         6.037101e+13     -4.655420  \n",
       "25%      2712.610000           14.000000         6.037311e+13     -0.024310  \n",
       "50%      4448.300000           15.000000         6.037603e+13      0.006673  \n",
       "75%      6926.820000           15.000000         6.059042e+13      0.039292  \n",
       "max    586639.300000           99.000000         4.830301e+14      5.262999  \n",
       "\n",
       "[8 rows x 56 columns]"
      ]
     },
     "execution_count": 10,
     "metadata": {},
     "output_type": "execute_result"
    }
   ],
   "source": [
    "zillow.describe()"
   ]
  },
  {
   "cell_type": "markdown",
   "id": "6fab5f20",
   "metadata": {},
   "source": [
    "3. Write a function that takes in a dataframe of observations and attributes and returns a dataframe where each row is an atttribute name, the first column is the number of rows with missing values for that attribute, and the second column is percent of total rows that have missing values for that attribute. Run the function and document takeaways from this on how you want to handle missing values."
   ]
  },
  {
   "cell_type": "code",
   "execution_count": 11,
   "id": "1bd5504f",
   "metadata": {},
   "outputs": [],
   "source": [
    "def nulls_col(df):\n",
    "    nulls = pd.DataFrame({\n",
    "        'count_nulls': df.isna().sum(),\n",
    "        'pct_rows_null': df.isna().mean()\n",
    "    })\n",
    "    return nulls"
   ]
  },
  {
   "cell_type": "code",
   "execution_count": 12,
   "id": "ebf84552",
   "metadata": {},
   "outputs": [],
   "source": [
    "nulls = nulls_col(zillow)"
   ]
  },
  {
   "cell_type": "code",
   "execution_count": 34,
   "id": "94009725",
   "metadata": {},
   "outputs": [
    {
     "data": {
      "text/html": [
       "<div>\n",
       "<style scoped>\n",
       "    .dataframe tbody tr th:only-of-type {\n",
       "        vertical-align: middle;\n",
       "    }\n",
       "\n",
       "    .dataframe tbody tr th {\n",
       "        vertical-align: top;\n",
       "    }\n",
       "\n",
       "    .dataframe thead th {\n",
       "        text-align: right;\n",
       "    }\n",
       "</style>\n",
       "<table border=\"1\" class=\"dataframe\">\n",
       "  <thead>\n",
       "    <tr style=\"text-align: right;\">\n",
       "      <th></th>\n",
       "      <th>count_nulls</th>\n",
       "      <th>pct_rows_null</th>\n",
       "    </tr>\n",
       "  </thead>\n",
       "  <tbody>\n",
       "    <tr>\n",
       "      <th>buildingclasstypeid</th>\n",
       "      <td>77559</td>\n",
       "      <td>0.999807</td>\n",
       "    </tr>\n",
       "    <tr>\n",
       "      <th>buildingclassdesc</th>\n",
       "      <td>77559</td>\n",
       "      <td>0.999807</td>\n",
       "    </tr>\n",
       "    <tr>\n",
       "      <th>finishedsquarefeet13</th>\n",
       "      <td>77532</td>\n",
       "      <td>0.999459</td>\n",
       "    </tr>\n",
       "    <tr>\n",
       "      <th>basementsqft</th>\n",
       "      <td>77524</td>\n",
       "      <td>0.999355</td>\n",
       "    </tr>\n",
       "    <tr>\n",
       "      <th>storydesc</th>\n",
       "      <td>77524</td>\n",
       "      <td>0.999355</td>\n",
       "    </tr>\n",
       "    <tr>\n",
       "      <th>storytypeid</th>\n",
       "      <td>77524</td>\n",
       "      <td>0.999355</td>\n",
       "    </tr>\n",
       "    <tr>\n",
       "      <th>yardbuildingsqft26</th>\n",
       "      <td>77504</td>\n",
       "      <td>0.999098</td>\n",
       "    </tr>\n",
       "    <tr>\n",
       "      <th>fireplaceflag</th>\n",
       "      <td>77402</td>\n",
       "      <td>0.997783</td>\n",
       "    </tr>\n",
       "    <tr>\n",
       "      <th>architecturalstyletypeid</th>\n",
       "      <td>77368</td>\n",
       "      <td>0.997344</td>\n",
       "    </tr>\n",
       "    <tr>\n",
       "      <th>architecturalstyledesc</th>\n",
       "      <td>77368</td>\n",
       "      <td>0.997344</td>\n",
       "    </tr>\n",
       "    <tr>\n",
       "      <th>typeconstructiontypeid</th>\n",
       "      <td>77352</td>\n",
       "      <td>0.997138</td>\n",
       "    </tr>\n",
       "    <tr>\n",
       "      <th>typeconstructiondesc</th>\n",
       "      <td>77352</td>\n",
       "      <td>0.997138</td>\n",
       "    </tr>\n",
       "    <tr>\n",
       "      <th>finishedsquarefeet6</th>\n",
       "      <td>77188</td>\n",
       "      <td>0.995024</td>\n",
       "    </tr>\n",
       "    <tr>\n",
       "      <th>pooltypeid10</th>\n",
       "      <td>77109</td>\n",
       "      <td>0.994006</td>\n",
       "    </tr>\n",
       "    <tr>\n",
       "      <th>decktypeid</th>\n",
       "      <td>76960</td>\n",
       "      <td>0.992085</td>\n",
       "    </tr>\n",
       "    <tr>\n",
       "      <th>poolsizesum</th>\n",
       "      <td>76705</td>\n",
       "      <td>0.988798</td>\n",
       "    </tr>\n",
       "    <tr>\n",
       "      <th>pooltypeid2</th>\n",
       "      <td>76500</td>\n",
       "      <td>0.986155</td>\n",
       "    </tr>\n",
       "    <tr>\n",
       "      <th>hashottuborspa</th>\n",
       "      <td>76035</td>\n",
       "      <td>0.980161</td>\n",
       "    </tr>\n",
       "    <tr>\n",
       "      <th>yardbuildingsqft17</th>\n",
       "      <td>75181</td>\n",
       "      <td>0.969152</td>\n",
       "    </tr>\n",
       "    <tr>\n",
       "      <th>taxdelinquencyflag</th>\n",
       "      <td>74674</td>\n",
       "      <td>0.962616</td>\n",
       "    </tr>\n",
       "    <tr>\n",
       "      <th>taxdelinquencyyear</th>\n",
       "      <td>74674</td>\n",
       "      <td>0.962616</td>\n",
       "    </tr>\n",
       "    <tr>\n",
       "      <th>finishedsquarefeet15</th>\n",
       "      <td>74547</td>\n",
       "      <td>0.960979</td>\n",
       "    </tr>\n",
       "    <tr>\n",
       "      <th>finishedsquarefeet50</th>\n",
       "      <td>71539</td>\n",
       "      <td>0.922203</td>\n",
       "    </tr>\n",
       "    <tr>\n",
       "      <th>finishedfloor1squarefeet</th>\n",
       "      <td>71539</td>\n",
       "      <td>0.922203</td>\n",
       "    </tr>\n",
       "    <tr>\n",
       "      <th>fireplacecnt</th>\n",
       "      <td>69287</td>\n",
       "      <td>0.893173</td>\n",
       "    </tr>\n",
       "    <tr>\n",
       "      <th>threequarterbathnbr</th>\n",
       "      <td>67469</td>\n",
       "      <td>0.869737</td>\n",
       "    </tr>\n",
       "    <tr>\n",
       "      <th>pooltypeid7</th>\n",
       "      <td>62496</td>\n",
       "      <td>0.805631</td>\n",
       "    </tr>\n",
       "    <tr>\n",
       "      <th>poolcnt</th>\n",
       "      <td>61401</td>\n",
       "      <td>0.791515</td>\n",
       "    </tr>\n",
       "    <tr>\n",
       "      <th>numberofstories</th>\n",
       "      <td>59978</td>\n",
       "      <td>0.773171</td>\n",
       "    </tr>\n",
       "    <tr>\n",
       "      <th>airconditioningdesc</th>\n",
       "      <td>52568</td>\n",
       "      <td>0.677650</td>\n",
       "    </tr>\n",
       "    <tr>\n",
       "      <th>airconditioningtypeid</th>\n",
       "      <td>52568</td>\n",
       "      <td>0.677650</td>\n",
       "    </tr>\n",
       "    <tr>\n",
       "      <th>garagetotalsqft</th>\n",
       "      <td>52057</td>\n",
       "      <td>0.671062</td>\n",
       "    </tr>\n",
       "    <tr>\n",
       "      <th>garagecarcnt</th>\n",
       "      <td>52057</td>\n",
       "      <td>0.671062</td>\n",
       "    </tr>\n",
       "    <tr>\n",
       "      <th>regionidneighborhood</th>\n",
       "      <td>46601</td>\n",
       "      <td>0.600730</td>\n",
       "    </tr>\n",
       "    <tr>\n",
       "      <th>heatingorsystemtypeid</th>\n",
       "      <td>28005</td>\n",
       "      <td>0.361010</td>\n",
       "    </tr>\n",
       "    <tr>\n",
       "      <th>heatingorsystemdesc</th>\n",
       "      <td>28005</td>\n",
       "      <td>0.361010</td>\n",
       "    </tr>\n",
       "    <tr>\n",
       "      <th>buildingqualitytypeid</th>\n",
       "      <td>27766</td>\n",
       "      <td>0.357929</td>\n",
       "    </tr>\n",
       "    <tr>\n",
       "      <th>propertyzoningdesc</th>\n",
       "      <td>27100</td>\n",
       "      <td>0.349344</td>\n",
       "    </tr>\n",
       "    <tr>\n",
       "      <th>unitcnt</th>\n",
       "      <td>26872</td>\n",
       "      <td>0.346405</td>\n",
       "    </tr>\n",
       "    <tr>\n",
       "      <th>lotsizesquarefeet</th>\n",
       "      <td>8257</td>\n",
       "      <td>0.106440</td>\n",
       "    </tr>\n",
       "    <tr>\n",
       "      <th>finishedsquarefeet12</th>\n",
       "      <td>3655</td>\n",
       "      <td>0.047116</td>\n",
       "    </tr>\n",
       "    <tr>\n",
       "      <th>regionidcity</th>\n",
       "      <td>1472</td>\n",
       "      <td>0.018975</td>\n",
       "    </tr>\n",
       "    <tr>\n",
       "      <th>calculatedbathnbr</th>\n",
       "      <td>615</td>\n",
       "      <td>0.007928</td>\n",
       "    </tr>\n",
       "    <tr>\n",
       "      <th>fullbathcnt</th>\n",
       "      <td>615</td>\n",
       "      <td>0.007928</td>\n",
       "    </tr>\n",
       "    <tr>\n",
       "      <th>yearbuilt</th>\n",
       "      <td>269</td>\n",
       "      <td>0.003468</td>\n",
       "    </tr>\n",
       "    <tr>\n",
       "      <th>censustractandblock</th>\n",
       "      <td>247</td>\n",
       "      <td>0.003184</td>\n",
       "    </tr>\n",
       "    <tr>\n",
       "      <th>calculatedfinishedsquarefeet</th>\n",
       "      <td>200</td>\n",
       "      <td>0.002578</td>\n",
       "    </tr>\n",
       "    <tr>\n",
       "      <th>structuretaxvaluedollarcnt</th>\n",
       "      <td>115</td>\n",
       "      <td>0.001482</td>\n",
       "    </tr>\n",
       "    <tr>\n",
       "      <th>regionidzip</th>\n",
       "      <td>50</td>\n",
       "      <td>0.000645</td>\n",
       "    </tr>\n",
       "    <tr>\n",
       "      <th>taxamount</th>\n",
       "      <td>5</td>\n",
       "      <td>0.000064</td>\n",
       "    </tr>\n",
       "  </tbody>\n",
       "</table>\n",
       "</div>"
      ],
      "text/plain": [
       "                              count_nulls  pct_rows_null\n",
       "buildingclasstypeid                 77559       0.999807\n",
       "buildingclassdesc                   77559       0.999807\n",
       "finishedsquarefeet13                77532       0.999459\n",
       "basementsqft                        77524       0.999355\n",
       "storydesc                           77524       0.999355\n",
       "storytypeid                         77524       0.999355\n",
       "yardbuildingsqft26                  77504       0.999098\n",
       "fireplaceflag                       77402       0.997783\n",
       "architecturalstyletypeid            77368       0.997344\n",
       "architecturalstyledesc              77368       0.997344\n",
       "typeconstructiontypeid              77352       0.997138\n",
       "typeconstructiondesc                77352       0.997138\n",
       "finishedsquarefeet6                 77188       0.995024\n",
       "pooltypeid10                        77109       0.994006\n",
       "decktypeid                          76960       0.992085\n",
       "poolsizesum                         76705       0.988798\n",
       "pooltypeid2                         76500       0.986155\n",
       "hashottuborspa                      76035       0.980161\n",
       "yardbuildingsqft17                  75181       0.969152\n",
       "taxdelinquencyflag                  74674       0.962616\n",
       "taxdelinquencyyear                  74674       0.962616\n",
       "finishedsquarefeet15                74547       0.960979\n",
       "finishedsquarefeet50                71539       0.922203\n",
       "finishedfloor1squarefeet            71539       0.922203\n",
       "fireplacecnt                        69287       0.893173\n",
       "threequarterbathnbr                 67469       0.869737\n",
       "pooltypeid7                         62496       0.805631\n",
       "poolcnt                             61401       0.791515\n",
       "numberofstories                     59978       0.773171\n",
       "airconditioningdesc                 52568       0.677650\n",
       "airconditioningtypeid               52568       0.677650\n",
       "garagetotalsqft                     52057       0.671062\n",
       "garagecarcnt                        52057       0.671062\n",
       "regionidneighborhood                46601       0.600730\n",
       "heatingorsystemtypeid               28005       0.361010\n",
       "heatingorsystemdesc                 28005       0.361010\n",
       "buildingqualitytypeid               27766       0.357929\n",
       "propertyzoningdesc                  27100       0.349344\n",
       "unitcnt                             26872       0.346405\n",
       "lotsizesquarefeet                    8257       0.106440\n",
       "finishedsquarefeet12                 3655       0.047116\n",
       "regionidcity                         1472       0.018975\n",
       "calculatedbathnbr                     615       0.007928\n",
       "fullbathcnt                           615       0.007928\n",
       "yearbuilt                             269       0.003468\n",
       "censustractandblock                   247       0.003184\n",
       "calculatedfinishedsquarefeet          200       0.002578\n",
       "structuretaxvaluedollarcnt            115       0.001482\n",
       "regionidzip                            50       0.000645\n",
       "taxamount                               5       0.000064"
      ]
     },
     "execution_count": 34,
     "metadata": {},
     "output_type": "execute_result"
    }
   ],
   "source": [
    "nulls.sort_values(by='pct_rows_null', ascending=False).head(50)"
   ]
  },
  {
   "cell_type": "markdown",
   "id": "dbf4d835",
   "metadata": {},
   "source": [
    "4. Write a function that takes in a dataframe and returns a dataframe with 3 columns: the number of columns missing, percent of columns missing, and number of rows with n columns missing. Run the function and document takeaways from this on how you want to handle missing values."
   ]
  },
  {
   "cell_type": "code",
   "execution_count": 14,
   "id": "436c55c2",
   "metadata": {},
   "outputs": [],
   "source": [
    "def cols_missing(df):\n",
    "    df2 = pd.DataFrame(df.isnull().sum(axis=1), columns = ['num_cols_missing']).reset_index()\\\n",
    "    .groupby('num_cols_missing').count().reset_index().\\\n",
    "    rename(columns = {'index': 'num_rows'})\n",
    "    df2['pct_cols_missing'] = df2.num_cols_missing/df.shape[1]\n",
    "    return df2"
   ]
  },
  {
   "cell_type": "code",
   "execution_count": 15,
   "id": "954b903a",
   "metadata": {},
   "outputs": [],
   "source": [
    "def cols_missing2(df):\n",
    "    df2 = pd.concat([\n",
    "    df.isna().sum(axis=1).rename('n_missing'),\n",
    "    df.isna().mean(axis=1).rename('percent_missing'),\n",
    "], axis=1).value_counts().sort_index()\n",
    "    return df2"
   ]
  },
  {
   "cell_type": "code",
   "execution_count": 16,
   "id": "c0d59655",
   "metadata": {},
   "outputs": [
    {
     "data": {
      "text/html": [
       "<div>\n",
       "<style scoped>\n",
       "    .dataframe tbody tr th:only-of-type {\n",
       "        vertical-align: middle;\n",
       "    }\n",
       "\n",
       "    .dataframe tbody tr th {\n",
       "        vertical-align: top;\n",
       "    }\n",
       "\n",
       "    .dataframe thead th {\n",
       "        text-align: right;\n",
       "    }\n",
       "</style>\n",
       "<table border=\"1\" class=\"dataframe\">\n",
       "  <thead>\n",
       "    <tr style=\"text-align: right;\">\n",
       "      <th></th>\n",
       "      <th>num_cols_missing</th>\n",
       "      <th>num_rows</th>\n",
       "      <th>pct_cols_missing</th>\n",
       "    </tr>\n",
       "  </thead>\n",
       "  <tbody>\n",
       "    <tr>\n",
       "      <th>0</th>\n",
       "      <td>23</td>\n",
       "      <td>2</td>\n",
       "      <td>0.343284</td>\n",
       "    </tr>\n",
       "    <tr>\n",
       "      <th>1</th>\n",
       "      <td>24</td>\n",
       "      <td>13</td>\n",
       "      <td>0.358209</td>\n",
       "    </tr>\n",
       "    <tr>\n",
       "      <th>2</th>\n",
       "      <td>25</td>\n",
       "      <td>24</td>\n",
       "      <td>0.373134</td>\n",
       "    </tr>\n",
       "    <tr>\n",
       "      <th>3</th>\n",
       "      <td>26</td>\n",
       "      <td>65</td>\n",
       "      <td>0.388060</td>\n",
       "    </tr>\n",
       "    <tr>\n",
       "      <th>4</th>\n",
       "      <td>27</td>\n",
       "      <td>316</td>\n",
       "      <td>0.402985</td>\n",
       "    </tr>\n",
       "    <tr>\n",
       "      <th>5</th>\n",
       "      <td>28</td>\n",
       "      <td>457</td>\n",
       "      <td>0.417910</td>\n",
       "    </tr>\n",
       "    <tr>\n",
       "      <th>6</th>\n",
       "      <td>29</td>\n",
       "      <td>5285</td>\n",
       "      <td>0.432836</td>\n",
       "    </tr>\n",
       "    <tr>\n",
       "      <th>7</th>\n",
       "      <td>30</td>\n",
       "      <td>3465</td>\n",
       "      <td>0.447761</td>\n",
       "    </tr>\n",
       "    <tr>\n",
       "      <th>8</th>\n",
       "      <td>31</td>\n",
       "      <td>9911</td>\n",
       "      <td>0.462687</td>\n",
       "    </tr>\n",
       "    <tr>\n",
       "      <th>9</th>\n",
       "      <td>32</td>\n",
       "      <td>12606</td>\n",
       "      <td>0.477612</td>\n",
       "    </tr>\n",
       "    <tr>\n",
       "      <th>10</th>\n",
       "      <td>33</td>\n",
       "      <td>14817</td>\n",
       "      <td>0.492537</td>\n",
       "    </tr>\n",
       "    <tr>\n",
       "      <th>11</th>\n",
       "      <td>34</td>\n",
       "      <td>13356</td>\n",
       "      <td>0.507463</td>\n",
       "    </tr>\n",
       "    <tr>\n",
       "      <th>12</th>\n",
       "      <td>35</td>\n",
       "      <td>5163</td>\n",
       "      <td>0.522388</td>\n",
       "    </tr>\n",
       "    <tr>\n",
       "      <th>13</th>\n",
       "      <td>36</td>\n",
       "      <td>5793</td>\n",
       "      <td>0.537313</td>\n",
       "    </tr>\n",
       "    <tr>\n",
       "      <th>14</th>\n",
       "      <td>37</td>\n",
       "      <td>3630</td>\n",
       "      <td>0.552239</td>\n",
       "    </tr>\n",
       "    <tr>\n",
       "      <th>15</th>\n",
       "      <td>38</td>\n",
       "      <td>1932</td>\n",
       "      <td>0.567164</td>\n",
       "    </tr>\n",
       "    <tr>\n",
       "      <th>16</th>\n",
       "      <td>39</td>\n",
       "      <td>285</td>\n",
       "      <td>0.582090</td>\n",
       "    </tr>\n",
       "    <tr>\n",
       "      <th>17</th>\n",
       "      <td>40</td>\n",
       "      <td>230</td>\n",
       "      <td>0.597015</td>\n",
       "    </tr>\n",
       "    <tr>\n",
       "      <th>18</th>\n",
       "      <td>41</td>\n",
       "      <td>29</td>\n",
       "      <td>0.611940</td>\n",
       "    </tr>\n",
       "    <tr>\n",
       "      <th>19</th>\n",
       "      <td>42</td>\n",
       "      <td>26</td>\n",
       "      <td>0.626866</td>\n",
       "    </tr>\n",
       "    <tr>\n",
       "      <th>20</th>\n",
       "      <td>43</td>\n",
       "      <td>29</td>\n",
       "      <td>0.641791</td>\n",
       "    </tr>\n",
       "    <tr>\n",
       "      <th>21</th>\n",
       "      <td>44</td>\n",
       "      <td>79</td>\n",
       "      <td>0.656716</td>\n",
       "    </tr>\n",
       "    <tr>\n",
       "      <th>22</th>\n",
       "      <td>45</td>\n",
       "      <td>50</td>\n",
       "      <td>0.671642</td>\n",
       "    </tr>\n",
       "    <tr>\n",
       "      <th>23</th>\n",
       "      <td>46</td>\n",
       "      <td>5</td>\n",
       "      <td>0.686567</td>\n",
       "    </tr>\n",
       "    <tr>\n",
       "      <th>24</th>\n",
       "      <td>47</td>\n",
       "      <td>3</td>\n",
       "      <td>0.701493</td>\n",
       "    </tr>\n",
       "    <tr>\n",
       "      <th>25</th>\n",
       "      <td>48</td>\n",
       "      <td>3</td>\n",
       "      <td>0.716418</td>\n",
       "    </tr>\n",
       "  </tbody>\n",
       "</table>\n",
       "</div>"
      ],
      "text/plain": [
       "    num_cols_missing  num_rows  pct_cols_missing\n",
       "0                 23         2          0.343284\n",
       "1                 24        13          0.358209\n",
       "2                 25        24          0.373134\n",
       "3                 26        65          0.388060\n",
       "4                 27       316          0.402985\n",
       "5                 28       457          0.417910\n",
       "6                 29      5285          0.432836\n",
       "7                 30      3465          0.447761\n",
       "8                 31      9911          0.462687\n",
       "9                 32     12606          0.477612\n",
       "10                33     14817          0.492537\n",
       "11                34     13356          0.507463\n",
       "12                35      5163          0.522388\n",
       "13                36      5793          0.537313\n",
       "14                37      3630          0.552239\n",
       "15                38      1932          0.567164\n",
       "16                39       285          0.582090\n",
       "17                40       230          0.597015\n",
       "18                41        29          0.611940\n",
       "19                42        26          0.626866\n",
       "20                43        29          0.641791\n",
       "21                44        79          0.656716\n",
       "22                45        50          0.671642\n",
       "23                46         5          0.686567\n",
       "24                47         3          0.701493\n",
       "25                48         3          0.716418"
      ]
     },
     "execution_count": 16,
     "metadata": {},
     "output_type": "execute_result"
    }
   ],
   "source": [
    "cols_missing(zillow)"
   ]
  },
  {
   "cell_type": "code",
   "execution_count": 17,
   "id": "96d6238c",
   "metadata": {},
   "outputs": [
    {
     "data": {
      "text/plain": [
       "n_missing  percent_missing\n",
       "23         0.343284               2\n",
       "24         0.358209              13\n",
       "25         0.373134              24\n",
       "26         0.388060              65\n",
       "27         0.402985             316\n",
       "28         0.417910             457\n",
       "29         0.432836            5285\n",
       "30         0.447761            3465\n",
       "31         0.462687            9911\n",
       "32         0.477612           12606\n",
       "33         0.492537           14817\n",
       "34         0.507463           13356\n",
       "35         0.522388            5163\n",
       "36         0.537313            5793\n",
       "37         0.552239            3630\n",
       "38         0.567164            1932\n",
       "39         0.582090             285\n",
       "40         0.597015             230\n",
       "41         0.611940              29\n",
       "42         0.626866              26\n",
       "43         0.641791              29\n",
       "44         0.656716              79\n",
       "45         0.671642              50\n",
       "46         0.686567               5\n",
       "47         0.701493               3\n",
       "48         0.716418               3\n",
       "dtype: int64"
      ]
     },
     "execution_count": 17,
     "metadata": {},
     "output_type": "execute_result"
    }
   ],
   "source": [
    "cols_missing2(zillow)"
   ]
  },
  {
   "cell_type": "markdown",
   "id": "cc402af9",
   "metadata": {},
   "source": [
    "## Prepare:\n",
    "\n",
    "1. Remove any properties that are likely to be something other than single unit properties. (e.g. no duplexes, no land/lot, ...). There are multiple ways to estimate that a property is a single unit, and there is not a single \"right\" answer. But for this exercise, do not purely filter by unitcnt as we did previously. Add some new logic that will reduce the number of properties that are falsely removed. You might want to use # bedrooms, square feet, unit type or the like to then identify those with unitcnt not defined."
   ]
  },
  {
   "cell_type": "code",
   "execution_count": 18,
   "id": "04975c6b",
   "metadata": {},
   "outputs": [
    {
     "name": "stdout",
     "output_type": "stream",
     "text": [
      "<class 'pandas.core.frame.DataFrame'>\n",
      "RangeIndex: 77574 entries, 0 to 77573\n",
      "Data columns (total 67 columns):\n",
      " #   Column                        Non-Null Count  Dtype  \n",
      "---  ------                        --------------  -----  \n",
      " 0   parcelid                      77574 non-null  int64  \n",
      " 1   airconditioningtypeid         25006 non-null  float64\n",
      " 2   architecturalstyletypeid      206 non-null    float64\n",
      " 3   basementsqft                  50 non-null     float64\n",
      " 4   bathroomcnt                   77574 non-null  float64\n",
      " 5   bedroomcnt                    77574 non-null  float64\n",
      " 6   buildingclasstypeid           15 non-null     float64\n",
      " 7   buildingqualitytypeid         49808 non-null  float64\n",
      " 8   calculatedbathnbr             76959 non-null  float64\n",
      " 9   decktypeid                    614 non-null    float64\n",
      " 10  finishedfloor1squarefeet      6035 non-null   float64\n",
      " 11  calculatedfinishedsquarefeet  77374 non-null  float64\n",
      " 12  finishedsquarefeet12          73919 non-null  float64\n",
      " 13  finishedsquarefeet13          42 non-null     float64\n",
      " 14  finishedsquarefeet15          3027 non-null   float64\n",
      " 15  finishedsquarefeet50          6035 non-null   float64\n",
      " 16  finishedsquarefeet6           386 non-null    float64\n",
      " 17  fips                          77574 non-null  float64\n",
      " 18  fireplacecnt                  8287 non-null   float64\n",
      " 19  fullbathcnt                   76959 non-null  float64\n",
      " 20  garagecarcnt                  25517 non-null  float64\n",
      " 21  garagetotalsqft               25517 non-null  float64\n",
      " 22  hashottuborspa                1539 non-null   float64\n",
      " 23  heatingorsystemtypeid         49569 non-null  float64\n",
      " 24  latitude                      77574 non-null  float64\n",
      " 25  longitude                     77574 non-null  float64\n",
      " 26  lotsizesquarefeet             69317 non-null  float64\n",
      " 27  poolcnt                       16173 non-null  float64\n",
      " 28  poolsizesum                   869 non-null    float64\n",
      " 29  pooltypeid10                  465 non-null    float64\n",
      " 30  pooltypeid2                   1074 non-null   float64\n",
      " 31  pooltypeid7                   15078 non-null  float64\n",
      " 32  propertycountylandusecode     77574 non-null  object \n",
      " 33  propertylandusetypeid         77574 non-null  float64\n",
      " 34  propertyzoningdesc            50474 non-null  object \n",
      " 35  rawcensustractandblock        77574 non-null  float64\n",
      " 36  regionidcity                  76102 non-null  float64\n",
      " 37  regionidcounty                77574 non-null  float64\n",
      " 38  regionidneighborhood          30973 non-null  float64\n",
      " 39  regionidzip                   77524 non-null  float64\n",
      " 40  roomcnt                       77574 non-null  float64\n",
      " 41  storytypeid                   50 non-null     float64\n",
      " 42  threequarterbathnbr           10105 non-null  float64\n",
      " 43  typeconstructiontypeid        222 non-null    float64\n",
      " 44  unitcnt                       50702 non-null  float64\n",
      " 45  yardbuildingsqft17            2393 non-null   float64\n",
      " 46  yardbuildingsqft26            70 non-null     float64\n",
      " 47  yearbuilt                     77305 non-null  float64\n",
      " 48  numberofstories               17596 non-null  float64\n",
      " 49  fireplaceflag                 172 non-null    float64\n",
      " 50  structuretaxvaluedollarcnt    77459 non-null  float64\n",
      " 51  taxvaluedollarcnt             77573 non-null  float64\n",
      " 52  assessmentyear                77574 non-null  float64\n",
      " 53  landtaxvaluedollarcnt         77572 non-null  float64\n",
      " 54  taxamount                     77569 non-null  float64\n",
      " 55  taxdelinquencyflag            2900 non-null   object \n",
      " 56  taxdelinquencyyear            2900 non-null   float64\n",
      " 57  censustractandblock           77327 non-null  float64\n",
      " 58  logerror                      77574 non-null  float64\n",
      " 59  transactiondate               77574 non-null  object \n",
      " 60  airconditioningdesc           25006 non-null  object \n",
      " 61  architecturalstyledesc        206 non-null    object \n",
      " 62  buildingclassdesc             15 non-null     object \n",
      " 63  heatingorsystemdesc           49569 non-null  object \n",
      " 64  propertylandusedesc           77574 non-null  object \n",
      " 65  storydesc                     50 non-null     object \n",
      " 66  typeconstructiondesc          222 non-null    object \n",
      "dtypes: float64(55), int64(1), object(11)\n",
      "memory usage: 39.7+ MB\n"
     ]
    }
   ],
   "source": [
    "zillow.info()"
   ]
  },
  {
   "cell_type": "code",
   "execution_count": 19,
   "id": "6b08e2f0",
   "metadata": {},
   "outputs": [
    {
     "data": {
      "text/plain": [
       "6.037137e+13    60\n",
       "6.037277e+13    51\n",
       "6.059032e+13    44\n",
       "6.037920e+13    41\n",
       "6.059063e+13    41\n",
       "                ..\n",
       "6.037406e+13     1\n",
       "6.037430e+13     1\n",
       "6.037604e+13     1\n",
       "6.037187e+13     1\n",
       "6.037503e+13     1\n",
       "Name: censustractandblock, Length: 39006, dtype: int64"
      ]
     },
     "execution_count": 19,
     "metadata": {},
     "output_type": "execute_result"
    }
   ],
   "source": [
    "zillow.censustractandblock.value_counts()"
   ]
  },
  {
   "cell_type": "code",
   "execution_count": 20,
   "id": "051adaf2",
   "metadata": {},
   "outputs": [
    {
     "data": {
      "text/plain": [
       "2.0     18637\n",
       "1.0      5689\n",
       "3.0       632\n",
       "4.0       256\n",
       "0.0       230\n",
       "5.0        45\n",
       "6.0        14\n",
       "7.0         4\n",
       "10.0        3\n",
       "8.0         2\n",
       "9.0         2\n",
       "11.0        1\n",
       "13.0        1\n",
       "14.0        1\n",
       "Name: garagecarcnt, dtype: int64"
      ]
     },
     "execution_count": 20,
     "metadata": {},
     "output_type": "execute_result"
    }
   ],
   "source": [
    "zillow.garagecarcnt.value_counts().head(40)"
   ]
  },
  {
   "cell_type": "code",
   "execution_count": 21,
   "id": "5b101ab4",
   "metadata": {},
   "outputs": [
    {
     "data": {
      "text/plain": [
       "1.0      47412\n",
       "NaN      26872\n",
       "2.0       2031\n",
       "4.0        726\n",
       "3.0        529\n",
       "45.0         1\n",
       "42.0         1\n",
       "6.0          1\n",
       "237.0        1\n",
       "Name: unitcnt, dtype: int64"
      ]
     },
     "execution_count": 21,
     "metadata": {},
     "output_type": "execute_result"
    }
   ],
   "source": [
    "zillow.unitcnt.value_counts(dropna = False)"
   ]
  },
  {
   "cell_type": "code",
   "execution_count": 22,
   "id": "be940e88",
   "metadata": {},
   "outputs": [
    {
     "data": {
      "text/plain": [
       "261.0    52438\n",
       "266.0    19341\n",
       "246.0     2021\n",
       "269.0     1947\n",
       "248.0      729\n",
       "247.0      539\n",
       "265.0      335\n",
       "263.0       74\n",
       "275.0       59\n",
       "260.0       41\n",
       "267.0       29\n",
       "31.0        15\n",
       "264.0        6\n",
       "Name: propertylandusetypeid, dtype: int64"
      ]
     },
     "execution_count": 22,
     "metadata": {},
     "output_type": "execute_result"
    }
   ],
   "source": [
    "zillow.propertylandusetypeid.value_counts()"
   ]
  },
  {
   "cell_type": "code",
   "execution_count": 23,
   "id": "a6652471",
   "metadata": {},
   "outputs": [],
   "source": [
    "# Identifying which landusetypeid are not single units\n",
    "not_single = [246, 248, 247, 267, 31]"
   ]
  },
  {
   "cell_type": "code",
   "execution_count": 25,
   "id": "86830916",
   "metadata": {},
   "outputs": [],
   "source": [
    "zillow2 = zillow[~zillow.propertylandusetypeid.isin(not_single)] "
   ]
  },
  {
   "cell_type": "code",
   "execution_count": 26,
   "id": "0469d77f",
   "metadata": {},
   "outputs": [
    {
     "data": {
      "text/plain": [
       "261.0    52438\n",
       "266.0    19341\n",
       "269.0     1947\n",
       "265.0      335\n",
       "263.0       74\n",
       "275.0       59\n",
       "260.0       41\n",
       "264.0        6\n",
       "Name: propertylandusetypeid, dtype: int64"
      ]
     },
     "execution_count": 26,
     "metadata": {},
     "output_type": "execute_result"
    }
   ],
   "source": [
    "zillow2.propertylandusetypeid.value_counts()"
   ]
  },
  {
   "cell_type": "code",
   "execution_count": 27,
   "id": "20a095f2",
   "metadata": {},
   "outputs": [],
   "source": [
    "# Making sure properties has at least one bathroom, one bedroom, unitcnt\n",
    "zillow2 = zillow2[(zillow2.bedroomcnt > 0) & (zillow2.bathroomcnt > 0) & ((zillow2.unitcnt <= 1) | zillow2.unitcnt.isnull())]"
   ]
  },
  {
   "cell_type": "code",
   "execution_count": 28,
   "id": "43b85094",
   "metadata": {},
   "outputs": [
    {
     "data": {
      "text/plain": [
       "(73691, 67)"
      ]
     },
     "execution_count": 28,
     "metadata": {},
     "output_type": "execute_result"
    }
   ],
   "source": [
    "zillow2.shape"
   ]
  },
  {
   "cell_type": "code",
   "execution_count": 33,
   "id": "6480fd0c",
   "metadata": {},
   "outputs": [
    {
     "data": {
      "text/plain": [
       "360.0    4\n",
       "380.0    2\n",
       "300.0    1\n",
       "242.0    1\n",
       "326.0    1\n",
       "384.0    1\n",
       "372.0    1\n",
       "378.0    1\n",
       "152.0    1\n",
       "Name: calculatedfinishedsquarefeet, dtype: int64"
      ]
     },
     "execution_count": 33,
     "metadata": {},
     "output_type": "execute_result"
    }
   ],
   "source": [
    "zillow2.calculatedfinishedsquarefeet[zillow.calculatedfinishedsquarefeet < 400].value_counts(ascending = False, dropna=False).head(50)"
   ]
  },
  {
   "cell_type": "code",
   "execution_count": 37,
   "id": "df42d0d7",
   "metadata": {},
   "outputs": [],
   "source": [
    "# Dropping insanely low sqft \n",
    "zillow2 = zillow2[zillow2.calculatedfinishedsquarefeet > 300]"
   ]
  },
  {
   "cell_type": "code",
   "execution_count": 38,
   "id": "216b2c86",
   "metadata": {},
   "outputs": [
    {
     "data": {
      "text/plain": [
       "(73677, 67)"
      ]
     },
     "execution_count": 38,
     "metadata": {},
     "output_type": "execute_result"
    }
   ],
   "source": [
    "zillow2.shape"
   ]
  },
  {
   "cell_type": "code",
   "execution_count": 47,
   "id": "6cab0c7e",
   "metadata": {},
   "outputs": [
    {
     "ename": "IndexingError",
     "evalue": "Unalignable boolean Series provided as indexer (index of the boolean Series and of the indexed object do not match).",
     "output_type": "error",
     "traceback": [
      "\u001b[0;31m---------------------------------------------------------------------------\u001b[0m",
      "\u001b[0;31mIndexingError\u001b[0m                             Traceback (most recent call last)",
      "\u001b[0;32m/var/folders/pt/3m3r1rq55pdgzpmnqzkdjb240000gn/T/ipykernel_17829/1032258684.py\u001b[0m in \u001b[0;36m<module>\u001b[0;34m\u001b[0m\n\u001b[0;32m----> 1\u001b[0;31m \u001b[0mzil_dupes\u001b[0m \u001b[0;34m=\u001b[0m \u001b[0mzillow2\u001b[0m\u001b[0;34m[\u001b[0m\u001b[0mzillow2\u001b[0m\u001b[0;34m.\u001b[0m\u001b[0mparcelid\u001b[0m\u001b[0;34m.\u001b[0m\u001b[0mvalue_counts\u001b[0m\u001b[0;34m(\u001b[0m\u001b[0;34m)\u001b[0m \u001b[0;34m>\u001b[0m \u001b[0;36m1\u001b[0m\u001b[0;34m]\u001b[0m\u001b[0;34m\u001b[0m\u001b[0;34m\u001b[0m\u001b[0m\n\u001b[0m",
      "\u001b[0;32m/opt/homebrew/anaconda3/lib/python3.9/site-packages/pandas/core/frame.py\u001b[0m in \u001b[0;36m__getitem__\u001b[0;34m(self, key)\u001b[0m\n\u001b[1;32m   3447\u001b[0m         \u001b[0;31m# Do we have a (boolean) 1d indexer?\u001b[0m\u001b[0;34m\u001b[0m\u001b[0;34m\u001b[0m\u001b[0m\n\u001b[1;32m   3448\u001b[0m         \u001b[0;32mif\u001b[0m \u001b[0mcom\u001b[0m\u001b[0;34m.\u001b[0m\u001b[0mis_bool_indexer\u001b[0m\u001b[0;34m(\u001b[0m\u001b[0mkey\u001b[0m\u001b[0;34m)\u001b[0m\u001b[0;34m:\u001b[0m\u001b[0;34m\u001b[0m\u001b[0;34m\u001b[0m\u001b[0m\n\u001b[0;32m-> 3449\u001b[0;31m             \u001b[0;32mreturn\u001b[0m \u001b[0mself\u001b[0m\u001b[0;34m.\u001b[0m\u001b[0m_getitem_bool_array\u001b[0m\u001b[0;34m(\u001b[0m\u001b[0mkey\u001b[0m\u001b[0;34m)\u001b[0m\u001b[0;34m\u001b[0m\u001b[0;34m\u001b[0m\u001b[0m\n\u001b[0m\u001b[1;32m   3450\u001b[0m \u001b[0;34m\u001b[0m\u001b[0m\n\u001b[1;32m   3451\u001b[0m         \u001b[0;31m# We are left with two options: a single key, and a collection of keys,\u001b[0m\u001b[0;34m\u001b[0m\u001b[0;34m\u001b[0m\u001b[0m\n",
      "\u001b[0;32m/opt/homebrew/anaconda3/lib/python3.9/site-packages/pandas/core/frame.py\u001b[0m in \u001b[0;36m_getitem_bool_array\u001b[0;34m(self, key)\u001b[0m\n\u001b[1;32m   3500\u001b[0m         \u001b[0;31m# check_bool_indexer will throw exception if Series key cannot\u001b[0m\u001b[0;34m\u001b[0m\u001b[0;34m\u001b[0m\u001b[0m\n\u001b[1;32m   3501\u001b[0m         \u001b[0;31m# be reindexed to match DataFrame rows\u001b[0m\u001b[0;34m\u001b[0m\u001b[0;34m\u001b[0m\u001b[0m\n\u001b[0;32m-> 3502\u001b[0;31m         \u001b[0mkey\u001b[0m \u001b[0;34m=\u001b[0m \u001b[0mcheck_bool_indexer\u001b[0m\u001b[0;34m(\u001b[0m\u001b[0mself\u001b[0m\u001b[0;34m.\u001b[0m\u001b[0mindex\u001b[0m\u001b[0;34m,\u001b[0m \u001b[0mkey\u001b[0m\u001b[0;34m)\u001b[0m\u001b[0;34m\u001b[0m\u001b[0;34m\u001b[0m\u001b[0m\n\u001b[0m\u001b[1;32m   3503\u001b[0m         \u001b[0mindexer\u001b[0m \u001b[0;34m=\u001b[0m \u001b[0mkey\u001b[0m\u001b[0;34m.\u001b[0m\u001b[0mnonzero\u001b[0m\u001b[0;34m(\u001b[0m\u001b[0;34m)\u001b[0m\u001b[0;34m[\u001b[0m\u001b[0;36m0\u001b[0m\u001b[0;34m]\u001b[0m\u001b[0;34m\u001b[0m\u001b[0;34m\u001b[0m\u001b[0m\n\u001b[1;32m   3504\u001b[0m         \u001b[0;32mreturn\u001b[0m \u001b[0mself\u001b[0m\u001b[0;34m.\u001b[0m\u001b[0m_take_with_is_copy\u001b[0m\u001b[0;34m(\u001b[0m\u001b[0mindexer\u001b[0m\u001b[0;34m,\u001b[0m \u001b[0maxis\u001b[0m\u001b[0;34m=\u001b[0m\u001b[0;36m0\u001b[0m\u001b[0;34m)\u001b[0m\u001b[0;34m\u001b[0m\u001b[0;34m\u001b[0m\u001b[0m\n",
      "\u001b[0;32m/opt/homebrew/anaconda3/lib/python3.9/site-packages/pandas/core/indexing.py\u001b[0m in \u001b[0;36mcheck_bool_indexer\u001b[0;34m(index, key)\u001b[0m\n\u001b[1;32m   2386\u001b[0m         \u001b[0mmask\u001b[0m \u001b[0;34m=\u001b[0m \u001b[0misna\u001b[0m\u001b[0;34m(\u001b[0m\u001b[0mresult\u001b[0m\u001b[0;34m.\u001b[0m\u001b[0m_values\u001b[0m\u001b[0;34m)\u001b[0m\u001b[0;34m\u001b[0m\u001b[0;34m\u001b[0m\u001b[0m\n\u001b[1;32m   2387\u001b[0m         \u001b[0;32mif\u001b[0m \u001b[0mmask\u001b[0m\u001b[0;34m.\u001b[0m\u001b[0many\u001b[0m\u001b[0;34m(\u001b[0m\u001b[0;34m)\u001b[0m\u001b[0;34m:\u001b[0m\u001b[0;34m\u001b[0m\u001b[0;34m\u001b[0m\u001b[0m\n\u001b[0;32m-> 2388\u001b[0;31m             raise IndexingError(\n\u001b[0m\u001b[1;32m   2389\u001b[0m                 \u001b[0;34m\"Unalignable boolean Series provided as \"\u001b[0m\u001b[0;34m\u001b[0m\u001b[0;34m\u001b[0m\u001b[0m\n\u001b[1;32m   2390\u001b[0m                 \u001b[0;34m\"indexer (index of the boolean Series and of \"\u001b[0m\u001b[0;34m\u001b[0m\u001b[0;34m\u001b[0m\u001b[0m\n",
      "\u001b[0;31mIndexingError\u001b[0m: Unalignable boolean Series provided as indexer (index of the boolean Series and of the indexed object do not match)."
     ]
    }
   ],
   "source": [
    "zil_dupes = zillow2[zillow2.parcelid.value_counts() > 1]"
   ]
  },
  {
   "cell_type": "code",
   "execution_count": 42,
   "id": "8cbbcb50",
   "metadata": {},
   "outputs": [
    {
     "data": {
      "text/plain": [
       "(73677, 67)"
      ]
     },
     "execution_count": 42,
     "metadata": {},
     "output_type": "execute_result"
    }
   ],
   "source": [
    "zillow2.shape"
   ]
  },
  {
   "cell_type": "code",
   "execution_count": 50,
   "id": "950688e5",
   "metadata": {},
   "outputs": [],
   "source": [
    "# Have duplicate parcelids\n",
    "zillow2.drop_duplicates(subset = 'parcelid', inplace=True)"
   ]
  },
  {
   "cell_type": "code",
   "execution_count": 51,
   "id": "7e59cf2c",
   "metadata": {},
   "outputs": [
    {
     "data": {
      "text/plain": [
       "(73511, 67)"
      ]
     },
     "execution_count": 51,
     "metadata": {},
     "output_type": "execute_result"
    }
   ],
   "source": [
    "zillow2.shape"
   ]
  },
  {
   "cell_type": "code",
   "execution_count": 57,
   "id": "f64a231a",
   "metadata": {},
   "outputs": [],
   "source": [
    "def handle_missing_values(df, prop_required_column, prop_required_row):\n",
    "    n_required_column = round(df.shape[0] * prop_required_column)\n",
    "    n_required_row = round(df.shape[1] * prop_required_row)\n",
    "    df = df.dropna(axis=0, thresh=n_required_row)\n",
    "    df = df.dropna(axis=1, thresh=n_required_column)\n",
    "    return df"
   ]
  },
  {
   "cell_type": "code",
   "execution_count": 61,
   "id": "6c037604",
   "metadata": {},
   "outputs": [],
   "source": [
    "zillow2 = handle_missing_values(zillow2, prop_required_column=.5, prop_required_row=.5)"
   ]
  },
  {
   "cell_type": "code",
   "execution_count": 62,
   "id": "28dae771",
   "metadata": {},
   "outputs": [
    {
     "data": {
      "text/plain": [
       "(45931, 30)"
      ]
     },
     "execution_count": 62,
     "metadata": {},
     "output_type": "execute_result"
    }
   ],
   "source": [
    "zillow2.shape"
   ]
  },
  {
   "cell_type": "markdown",
   "id": "51c00808",
   "metadata": {},
   "source": [
    "^^^ The above done after initial null culling will result in losing more of the data than necessarily intended bc you are now trimming already trimmed data with a 50% metric. (That 50% is now applied to already pruned, meaning you are now causing over-pruning than if 'handle-missing-values()' was done first. "
   ]
  },
  {
   "cell_type": "code",
   "execution_count": null,
   "id": "6938647a",
   "metadata": {},
   "outputs": [],
   "source": []
  }
 ],
 "metadata": {
  "kernelspec": {
   "display_name": "Python 3.9.7 64-bit ('base': conda)",
   "language": "python",
   "name": "python397jvsc74a57bd038cca0c38332a56087b24af0bc80247f4fced29cb4f7f437d91dc159adec9c4e"
  },
  "language_info": {
   "codemirror_mode": {
    "name": "ipython",
    "version": 3
   },
   "file_extension": ".py",
   "mimetype": "text/x-python",
   "name": "python",
   "nbconvert_exporter": "python",
   "pygments_lexer": "ipython3",
   "version": "3.9.7"
  }
 },
 "nbformat": 4,
 "nbformat_minor": 5
}
