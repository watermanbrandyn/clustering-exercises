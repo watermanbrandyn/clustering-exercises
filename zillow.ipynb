{
 "cells": [
  {
   "cell_type": "code",
   "execution_count": 1,
   "id": "879dc95c",
   "metadata": {},
   "outputs": [],
   "source": [
    "import acquire as a\n",
    "\n",
    "import pandas as pd\n",
    "import numpy as np\n",
    "import matplotlib.pyplot as plt\n",
    "import seaborn as sns\n",
    "\n",
    "import warnings\n",
    "warnings.filterwarnings('ignore')\n",
    "\n",
    "from sklearn.model_selection import train_test_split\n",
    "from sklearn.preprocessing import MinMaxScaler"
   ]
  },
  {
   "cell_type": "markdown",
   "id": "7c4b9597",
   "metadata": {},
   "source": [
    "## Acquire/Visualize:"
   ]
  },
  {
   "cell_type": "code",
   "execution_count": 2,
   "id": "41c74baf",
   "metadata": {},
   "outputs": [
    {
     "name": "stdout",
     "output_type": "stream",
     "text": [
      "Using cached csv\n"
     ]
    }
   ],
   "source": [
    "# 1. Acquisition of zillow data given the needed parameters\n",
    "zillow = a.acquire_zillow()"
   ]
  },
  {
   "cell_type": "code",
   "execution_count": 3,
   "id": "21b50f22",
   "metadata": {},
   "outputs": [],
   "source": [
    "zillow.head()\n",
    "zillow = zillow.drop(columns='id')"
   ]
  },
  {
   "cell_type": "code",
   "execution_count": 4,
   "id": "ae385e87",
   "metadata": {},
   "outputs": [
    {
     "data": {
      "text/plain": [
       "(77574, 67)"
      ]
     },
     "execution_count": 4,
     "metadata": {},
     "output_type": "execute_result"
    }
   ],
   "source": [
    "zillow.shape"
   ]
  },
  {
   "cell_type": "code",
   "execution_count": 5,
   "id": "f85735da",
   "metadata": {},
   "outputs": [
    {
     "name": "stdout",
     "output_type": "stream",
     "text": [
      "<class 'pandas.core.frame.DataFrame'>\n",
      "RangeIndex: 77574 entries, 0 to 77573\n",
      "Data columns (total 67 columns):\n",
      " #   Column                        Non-Null Count  Dtype  \n",
      "---  ------                        --------------  -----  \n",
      " 0   parcelid                      77574 non-null  int64  \n",
      " 1   airconditioningtypeid         25006 non-null  float64\n",
      " 2   architecturalstyletypeid      206 non-null    float64\n",
      " 3   basementsqft                  50 non-null     float64\n",
      " 4   bathroomcnt                   77574 non-null  float64\n",
      " 5   bedroomcnt                    77574 non-null  float64\n",
      " 6   buildingclasstypeid           15 non-null     float64\n",
      " 7   buildingqualitytypeid         49808 non-null  float64\n",
      " 8   calculatedbathnbr             76959 non-null  float64\n",
      " 9   decktypeid                    614 non-null    float64\n",
      " 10  finishedfloor1squarefeet      6035 non-null   float64\n",
      " 11  calculatedfinishedsquarefeet  77374 non-null  float64\n",
      " 12  finishedsquarefeet12          73919 non-null  float64\n",
      " 13  finishedsquarefeet13          42 non-null     float64\n",
      " 14  finishedsquarefeet15          3027 non-null   float64\n",
      " 15  finishedsquarefeet50          6035 non-null   float64\n",
      " 16  finishedsquarefeet6           386 non-null    float64\n",
      " 17  fips                          77574 non-null  float64\n",
      " 18  fireplacecnt                  8287 non-null   float64\n",
      " 19  fullbathcnt                   76959 non-null  float64\n",
      " 20  garagecarcnt                  25517 non-null  float64\n",
      " 21  garagetotalsqft               25517 non-null  float64\n",
      " 22  hashottuborspa                1539 non-null   float64\n",
      " 23  heatingorsystemtypeid         49569 non-null  float64\n",
      " 24  latitude                      77574 non-null  float64\n",
      " 25  longitude                     77574 non-null  float64\n",
      " 26  lotsizesquarefeet             69317 non-null  float64\n",
      " 27  poolcnt                       16173 non-null  float64\n",
      " 28  poolsizesum                   869 non-null    float64\n",
      " 29  pooltypeid10                  465 non-null    float64\n",
      " 30  pooltypeid2                   1074 non-null   float64\n",
      " 31  pooltypeid7                   15078 non-null  float64\n",
      " 32  propertycountylandusecode     77574 non-null  object \n",
      " 33  propertylandusetypeid         77574 non-null  float64\n",
      " 34  propertyzoningdesc            50474 non-null  object \n",
      " 35  rawcensustractandblock        77574 non-null  float64\n",
      " 36  regionidcity                  76102 non-null  float64\n",
      " 37  regionidcounty                77574 non-null  float64\n",
      " 38  regionidneighborhood          30973 non-null  float64\n",
      " 39  regionidzip                   77524 non-null  float64\n",
      " 40  roomcnt                       77574 non-null  float64\n",
      " 41  storytypeid                   50 non-null     float64\n",
      " 42  threequarterbathnbr           10105 non-null  float64\n",
      " 43  typeconstructiontypeid        222 non-null    float64\n",
      " 44  unitcnt                       50702 non-null  float64\n",
      " 45  yardbuildingsqft17            2393 non-null   float64\n",
      " 46  yardbuildingsqft26            70 non-null     float64\n",
      " 47  yearbuilt                     77305 non-null  float64\n",
      " 48  numberofstories               17596 non-null  float64\n",
      " 49  fireplaceflag                 172 non-null    float64\n",
      " 50  structuretaxvaluedollarcnt    77459 non-null  float64\n",
      " 51  taxvaluedollarcnt             77573 non-null  float64\n",
      " 52  assessmentyear                77574 non-null  float64\n",
      " 53  landtaxvaluedollarcnt         77572 non-null  float64\n",
      " 54  taxamount                     77569 non-null  float64\n",
      " 55  taxdelinquencyflag            2900 non-null   object \n",
      " 56  taxdelinquencyyear            2900 non-null   float64\n",
      " 57  censustractandblock           77327 non-null  float64\n",
      " 58  logerror                      77574 non-null  float64\n",
      " 59  transactiondate               77574 non-null  object \n",
      " 60  airconditioningdesc           25006 non-null  object \n",
      " 61  architecturalstyledesc        206 non-null    object \n",
      " 62  buildingclassdesc             15 non-null     object \n",
      " 63  heatingorsystemdesc           49569 non-null  object \n",
      " 64  propertylandusedesc           77574 non-null  object \n",
      " 65  storydesc                     50 non-null     object \n",
      " 66  typeconstructiondesc          222 non-null    object \n",
      "dtypes: float64(55), int64(1), object(11)\n",
      "memory usage: 39.7+ MB\n"
     ]
    }
   ],
   "source": [
    "zillow.info()"
   ]
  },
  {
   "cell_type": "code",
   "execution_count": 6,
   "id": "498e666b",
   "metadata": {},
   "outputs": [
    {
     "data": {
      "text/plain": [
       "buildingclasstypeid             77559\n",
       "buildingclassdesc               77559\n",
       "finishedsquarefeet13            77532\n",
       "basementsqft                    77524\n",
       "storydesc                       77524\n",
       "storytypeid                     77524\n",
       "yardbuildingsqft26              77504\n",
       "fireplaceflag                   77402\n",
       "architecturalstyletypeid        77368\n",
       "architecturalstyledesc          77368\n",
       "typeconstructiontypeid          77352\n",
       "typeconstructiondesc            77352\n",
       "finishedsquarefeet6             77188\n",
       "pooltypeid10                    77109\n",
       "decktypeid                      76960\n",
       "poolsizesum                     76705\n",
       "pooltypeid2                     76500\n",
       "hashottuborspa                  76035\n",
       "yardbuildingsqft17              75181\n",
       "taxdelinquencyflag              74674\n",
       "taxdelinquencyyear              74674\n",
       "finishedsquarefeet15            74547\n",
       "finishedsquarefeet50            71539\n",
       "finishedfloor1squarefeet        71539\n",
       "fireplacecnt                    69287\n",
       "threequarterbathnbr             67469\n",
       "pooltypeid7                     62496\n",
       "poolcnt                         61401\n",
       "numberofstories                 59978\n",
       "airconditioningdesc             52568\n",
       "airconditioningtypeid           52568\n",
       "garagetotalsqft                 52057\n",
       "garagecarcnt                    52057\n",
       "regionidneighborhood            46601\n",
       "heatingorsystemtypeid           28005\n",
       "heatingorsystemdesc             28005\n",
       "buildingqualitytypeid           27766\n",
       "propertyzoningdesc              27100\n",
       "unitcnt                         26872\n",
       "lotsizesquarefeet                8257\n",
       "finishedsquarefeet12             3655\n",
       "regionidcity                     1472\n",
       "calculatedbathnbr                 615\n",
       "fullbathcnt                       615\n",
       "yearbuilt                         269\n",
       "censustractandblock               247\n",
       "calculatedfinishedsquarefeet      200\n",
       "structuretaxvaluedollarcnt        115\n",
       "regionidzip                        50\n",
       "taxamount                           5\n",
       "dtype: int64"
      ]
     },
     "execution_count": 6,
     "metadata": {},
     "output_type": "execute_result"
    }
   ],
   "source": [
    "zillow.isnull().sum().sort_values(ascending=False)[:50]"
   ]
  },
  {
   "cell_type": "code",
   "execution_count": 6,
   "id": "7df43f9a",
   "metadata": {},
   "outputs": [],
   "source": [
    "# Let's do some visualizations\n",
    "def plot_cats_and_cons(df, conts, cats):\n",
    "    for col in conts:\n",
    "        sns.displot(x=col, data=df, kind='kde')\n",
    "        plt.show()\n",
    "        sns.boxplot(df[col])\n",
    "        plt.show()\n",
    "        sns.histplot(df[col])\n",
    "        plt.show()\n",
    "    for col in cats:\n",
    "        sns.countplot(x=col, data=df)\n",
    "        plt.show()"
   ]
  },
  {
   "cell_type": "code",
   "execution_count": 7,
   "id": "ab7753ae",
   "metadata": {},
   "outputs": [
    {
     "data": {
      "image/png": "[encoded data removed]",
      "text/plain": [
       "<Figure size 360x360 with 1 Axes>"
      ]
     },
     "metadata": {
      "needs_background": "light"
     },
     "output_type": "display_data"
    },
    {
     "data": {
      "image/png": "[encoded data removed]",
      "text/plain": [
       "<Figure size 432x288 with 1 Axes>"
      ]
     },
     "metadata": {
      "needs_background": "light"
     },
     "output_type": "display_data"
    },
    {
     "data": {
      "image/png": "[encoded data removed]",
      "text/plain": [
       "<Figure size 432x288 with 1 Axes>"
      ]
     },
     "metadata": {
      "needs_background": "light"
     },
     "output_type": "display_data"
    },
    {
     "data": {
      "image/png": "[encoded data removed]",
      "text/plain": [
       "<Figure size 360x360 with 1 Axes>"
      ]
     },
     "metadata": {
      "needs_background": "light"
     },
     "output_type": "display_data"
    },
    {
     "data": {
      "image/png": "[encoded data removed]",
      "text/plain": [
       "<Figure size 432x288 with 1 Axes>"
      ]
     },
     "metadata": {
      "needs_background": "light"
     },
     "output_type": "display_data"
    },
    {
     "data": {
      "image/png": "[encoded data removed]",
      "text/plain": [
       "<Figure size 432x288 with 1 Axes>"
      ]
     },
     "metadata": {
      "needs_background": "light"
     },
     "output_type": "display_data"
    },
    {
     "data": {
      "image/png": "[encoded data removed]",
      "text/plain": [
       "<Figure size 360x360 with 1 Axes>"
      ]
     },
     "metadata": {
      "needs_background": "light"
     },
     "output_type": "display_data"
    },
    {
     "data": {
      "image/png": "[encoded data removed]",
      "text/plain": [
       "<Figure size 432x288 with 1 Axes>"
      ]
     },
     "metadata": {
      "needs_background": "light"
     },
     "output_type": "display_data"
    },
    {
     "data": {
      "image/png": "[encoded data removed]",
      "text/plain": [
       "<Figure size 432x288 with 1 Axes>"
      ]
     },
     "metadata": {
      "needs_background": "light"
     },
     "output_type": "display_data"
    },
    {
     "data": {
      "image/png": "[encoded data removed]",
      "text/plain": [
       "<Figure size 360x360 with 1 Axes>"
      ]
     },
     "metadata": {
      "needs_background": "light"
     },
     "output_type": "display_data"
    },
    {
     "data": {
      "image/png": "[encoded data removed]",
      "text/plain": [
       "<Figure size 432x288 with 1 Axes>"
      ]
     },
     "metadata": {
      "needs_background": "light"
     },
     "output_type": "display_data"
    },
    {
     "data": {
      "image/png": "[encoded data removed]",
      "text/plain": [
       "<Figure size 432x288 with 1 Axes>"
      ]
     },
     "metadata": {
      "needs_background": "light"
     },
     "output_type": "display_data"
    },
    {
     "data": {
      "image/png": "[encoded data removed]",
      "text/plain": [
       "<Figure size 432x288 with 1 Axes>"
      ]
     },
     "metadata": {
      "needs_background": "light"
     },
     "output_type": "display_data"
    },
    {
     "data": {
      "image/png": "[encoded data removed]",
      "text/plain": [
       "<Figure size 432x288 with 1 Axes>"
      ]
     },
     "metadata": {
      "needs_background": "light"
     },
     "output_type": "display_data"
    }
   ],
   "source": [
    "conts = ['bedroomcnt', 'bathroomcnt', 'calculatedfinishedsquarefeet', 'taxamount']\n",
    "cats = ['fips', 'hashottuborspa']\n",
    "plot_cats_and_cons(zillow, conts, cats)"
   ]
  },
  {
   "cell_type": "code",
   "execution_count": 8,
   "id": "ba8f7c56",
   "metadata": {},
   "outputs": [
    {
     "data": {
      "image/png": "[encoded data removed]",
      "text/plain": [
       "<Figure size 1152x648 with 3 Axes>"
      ]
     },
     "metadata": {
      "needs_background": "light"
     },
     "output_type": "display_data"
    }
   ],
   "source": [
    "plt.figure(figsize=(16,9))\n",
    "plt.subplot(221)\n",
    "plt.hist(zillow.lotsizesquarefeet, bins= 100)\n",
    "plt.title('Lot Size')\n",
    "\n",
    "plt.subplot(222)\n",
    "plt.hist(zillow.bedroomcnt, bins=10)\n",
    "plt.title('Bedrooms')\n",
    "\n",
    "plt.subplot(223)\n",
    "plt.hist(zillow.logerror, bins = 100)\n",
    "plt.title('Logerror')\n",
    "\n",
    "plt.tight_layout()"
   ]
  },
  {
   "cell_type": "code",
   "execution_count": 9,
   "id": "7979b277",
   "metadata": {},
   "outputs": [
    {
     "data": {
      "text/html": [
       "<div>\n",
       "<style scoped>\n",
       "    .dataframe tbody tr th:only-of-type {\n",
       "        vertical-align: middle;\n",
       "    }\n",
       "\n",
       "    .dataframe tbody tr th {\n",
       "        vertical-align: top;\n",
       "    }\n",
       "\n",
       "    .dataframe thead th {\n",
       "        text-align: right;\n",
       "    }\n",
       "</style>\n",
       "<table border=\"1\" class=\"dataframe\">\n",
       "  <thead>\n",
       "    <tr style=\"text-align: right;\">\n",
       "      <th></th>\n",
       "      <th>parcelid</th>\n",
       "      <th>airconditioningtypeid</th>\n",
       "      <th>architecturalstyletypeid</th>\n",
       "      <th>basementsqft</th>\n",
       "      <th>bathroomcnt</th>\n",
       "      <th>bedroomcnt</th>\n",
       "      <th>buildingclasstypeid</th>\n",
       "      <th>buildingqualitytypeid</th>\n",
       "      <th>calculatedbathnbr</th>\n",
       "      <th>decktypeid</th>\n",
       "      <th>...</th>\n",
       "      <th>numberofstories</th>\n",
       "      <th>fireplaceflag</th>\n",
       "      <th>structuretaxvaluedollarcnt</th>\n",
       "      <th>taxvaluedollarcnt</th>\n",
       "      <th>assessmentyear</th>\n",
       "      <th>landtaxvaluedollarcnt</th>\n",
       "      <th>taxamount</th>\n",
       "      <th>taxdelinquencyyear</th>\n",
       "      <th>censustractandblock</th>\n",
       "      <th>logerror</th>\n",
       "    </tr>\n",
       "  </thead>\n",
       "  <tbody>\n",
       "    <tr>\n",
       "      <th>count</th>\n",
       "      <td>7.757400e+04</td>\n",
       "      <td>25006.000000</td>\n",
       "      <td>206.000000</td>\n",
       "      <td>50.000000</td>\n",
       "      <td>77574.000000</td>\n",
       "      <td>77574.000000</td>\n",
       "      <td>15.000000</td>\n",
       "      <td>49808.000000</td>\n",
       "      <td>76959.000000</td>\n",
       "      <td>614.0</td>\n",
       "      <td>...</td>\n",
       "      <td>17596.000000</td>\n",
       "      <td>172.0</td>\n",
       "      <td>7.745900e+04</td>\n",
       "      <td>7.757300e+04</td>\n",
       "      <td>77574.0</td>\n",
       "      <td>7.757200e+04</td>\n",
       "      <td>77569.000000</td>\n",
       "      <td>2900.000000</td>\n",
       "      <td>7.732700e+04</td>\n",
       "      <td>77574.000000</td>\n",
       "    </tr>\n",
       "    <tr>\n",
       "      <th>mean</th>\n",
       "      <td>1.300630e+07</td>\n",
       "      <td>1.812045</td>\n",
       "      <td>7.388350</td>\n",
       "      <td>679.720000</td>\n",
       "      <td>2.298521</td>\n",
       "      <td>3.053252</td>\n",
       "      <td>3.933333</td>\n",
       "      <td>6.533830</td>\n",
       "      <td>2.316389</td>\n",
       "      <td>66.0</td>\n",
       "      <td>...</td>\n",
       "      <td>1.434246</td>\n",
       "      <td>1.0</td>\n",
       "      <td>1.892829e+05</td>\n",
       "      <td>4.901477e+05</td>\n",
       "      <td>2016.0</td>\n",
       "      <td>3.011468e+05</td>\n",
       "      <td>5995.855691</td>\n",
       "      <td>14.088276</td>\n",
       "      <td>6.049666e+13</td>\n",
       "      <td>0.016805</td>\n",
       "    </tr>\n",
       "    <tr>\n",
       "      <th>std</th>\n",
       "      <td>3.478043e+06</td>\n",
       "      <td>2.965823</td>\n",
       "      <td>2.734542</td>\n",
       "      <td>689.703546</td>\n",
       "      <td>0.996706</td>\n",
       "      <td>1.140447</td>\n",
       "      <td>0.258199</td>\n",
       "      <td>1.722041</td>\n",
       "      <td>0.979690</td>\n",
       "      <td>0.0</td>\n",
       "      <td>...</td>\n",
       "      <td>0.544518</td>\n",
       "      <td>0.0</td>\n",
       "      <td>2.304149e+05</td>\n",
       "      <td>6.538059e+05</td>\n",
       "      <td>0.0</td>\n",
       "      <td>4.927317e+05</td>\n",
       "      <td>7628.912331</td>\n",
       "      <td>2.181281</td>\n",
       "      <td>1.533386e+12</td>\n",
       "      <td>0.170742</td>\n",
       "    </tr>\n",
       "    <tr>\n",
       "      <th>min</th>\n",
       "      <td>1.071186e+07</td>\n",
       "      <td>1.000000</td>\n",
       "      <td>2.000000</td>\n",
       "      <td>38.000000</td>\n",
       "      <td>0.000000</td>\n",
       "      <td>0.000000</td>\n",
       "      <td>3.000000</td>\n",
       "      <td>1.000000</td>\n",
       "      <td>1.000000</td>\n",
       "      <td>66.0</td>\n",
       "      <td>...</td>\n",
       "      <td>1.000000</td>\n",
       "      <td>1.0</td>\n",
       "      <td>4.400000e+01</td>\n",
       "      <td>1.000000e+03</td>\n",
       "      <td>2016.0</td>\n",
       "      <td>1.610000e+02</td>\n",
       "      <td>19.920000</td>\n",
       "      <td>3.000000</td>\n",
       "      <td>6.037101e+13</td>\n",
       "      <td>-4.655420</td>\n",
       "    </tr>\n",
       "    <tr>\n",
       "      <th>25%</th>\n",
       "      <td>1.153819e+07</td>\n",
       "      <td>1.000000</td>\n",
       "      <td>7.000000</td>\n",
       "      <td>273.000000</td>\n",
       "      <td>2.000000</td>\n",
       "      <td>2.000000</td>\n",
       "      <td>4.000000</td>\n",
       "      <td>6.000000</td>\n",
       "      <td>2.000000</td>\n",
       "      <td>66.0</td>\n",
       "      <td>...</td>\n",
       "      <td>1.000000</td>\n",
       "      <td>1.0</td>\n",
       "      <td>8.418200e+04</td>\n",
       "      <td>2.068980e+05</td>\n",
       "      <td>2016.0</td>\n",
       "      <td>8.529200e+04</td>\n",
       "      <td>2712.610000</td>\n",
       "      <td>14.000000</td>\n",
       "      <td>6.037311e+13</td>\n",
       "      <td>-0.024310</td>\n",
       "    </tr>\n",
       "    <tr>\n",
       "      <th>50%</th>\n",
       "      <td>1.253050e+07</td>\n",
       "      <td>1.000000</td>\n",
       "      <td>7.000000</td>\n",
       "      <td>515.000000</td>\n",
       "      <td>2.000000</td>\n",
       "      <td>3.000000</td>\n",
       "      <td>4.000000</td>\n",
       "      <td>6.000000</td>\n",
       "      <td>2.000000</td>\n",
       "      <td>66.0</td>\n",
       "      <td>...</td>\n",
       "      <td>1.000000</td>\n",
       "      <td>1.0</td>\n",
       "      <td>1.364070e+05</td>\n",
       "      <td>3.588790e+05</td>\n",
       "      <td>2016.0</td>\n",
       "      <td>2.031810e+05</td>\n",
       "      <td>4448.300000</td>\n",
       "      <td>15.000000</td>\n",
       "      <td>6.037603e+13</td>\n",
       "      <td>0.006673</td>\n",
       "    </tr>\n",
       "    <tr>\n",
       "      <th>75%</th>\n",
       "      <td>1.421124e+07</td>\n",
       "      <td>1.000000</td>\n",
       "      <td>7.000000</td>\n",
       "      <td>796.500000</td>\n",
       "      <td>3.000000</td>\n",
       "      <td>4.000000</td>\n",
       "      <td>4.000000</td>\n",
       "      <td>8.000000</td>\n",
       "      <td>3.000000</td>\n",
       "      <td>66.0</td>\n",
       "      <td>...</td>\n",
       "      <td>2.000000</td>\n",
       "      <td>1.0</td>\n",
       "      <td>2.187340e+05</td>\n",
       "      <td>5.690000e+05</td>\n",
       "      <td>2016.0</td>\n",
       "      <td>3.667610e+05</td>\n",
       "      <td>6926.820000</td>\n",
       "      <td>15.000000</td>\n",
       "      <td>6.059042e+13</td>\n",
       "      <td>0.039292</td>\n",
       "    </tr>\n",
       "    <tr>\n",
       "      <th>max</th>\n",
       "      <td>1.676893e+08</td>\n",
       "      <td>13.000000</td>\n",
       "      <td>21.000000</td>\n",
       "      <td>3560.000000</td>\n",
       "      <td>18.000000</td>\n",
       "      <td>16.000000</td>\n",
       "      <td>4.000000</td>\n",
       "      <td>12.000000</td>\n",
       "      <td>18.000000</td>\n",
       "      <td>66.0</td>\n",
       "      <td>...</td>\n",
       "      <td>6.000000</td>\n",
       "      <td>1.0</td>\n",
       "      <td>1.142179e+07</td>\n",
       "      <td>4.906124e+07</td>\n",
       "      <td>2016.0</td>\n",
       "      <td>4.895220e+07</td>\n",
       "      <td>586639.300000</td>\n",
       "      <td>99.000000</td>\n",
       "      <td>4.830301e+14</td>\n",
       "      <td>5.262999</td>\n",
       "    </tr>\n",
       "  </tbody>\n",
       "</table>\n",
       "<p>8 rows × 56 columns</p>\n",
       "</div>"
      ],
      "text/plain": [
       "           parcelid  airconditioningtypeid  architecturalstyletypeid  \\\n",
       "count  7.757400e+04           25006.000000                206.000000   \n",
       "mean   1.300630e+07               1.812045                  7.388350   \n",
       "std    3.478043e+06               2.965823                  2.734542   \n",
       "min    1.071186e+07               1.000000                  2.000000   \n",
       "25%    1.153819e+07               1.000000                  7.000000   \n",
       "50%    1.253050e+07               1.000000                  7.000000   \n",
       "75%    1.421124e+07               1.000000                  7.000000   \n",
       "max    1.676893e+08              13.000000                 21.000000   \n",
       "\n",
       "       basementsqft   bathroomcnt    bedroomcnt  buildingclasstypeid  \\\n",
       "count     50.000000  77574.000000  77574.000000            15.000000   \n",
       "mean     679.720000      2.298521      3.053252             3.933333   \n",
       "std      689.703546      0.996706      1.140447             0.258199   \n",
       "min       38.000000      0.000000      0.000000             3.000000   \n",
       "25%      273.000000      2.000000      2.000000             4.000000   \n",
       "50%      515.000000      2.000000      3.000000             4.000000   \n",
       "75%      796.500000      3.000000      4.000000             4.000000   \n",
       "max     3560.000000     18.000000     16.000000             4.000000   \n",
       "\n",
       "       buildingqualitytypeid  calculatedbathnbr  decktypeid  ...  \\\n",
       "count           49808.000000       76959.000000       614.0  ...   \n",
       "mean                6.533830           2.316389        66.0  ...   \n",
       "std                 1.722041           0.979690         0.0  ...   \n",
       "min                 1.000000           1.000000        66.0  ...   \n",
       "25%                 6.000000           2.000000        66.0  ...   \n",
       "50%                 6.000000           2.000000        66.0  ...   \n",
       "75%                 8.000000           3.000000        66.0  ...   \n",
       "max                12.000000          18.000000        66.0  ...   \n",
       "\n",
       "       numberofstories  fireplaceflag  structuretaxvaluedollarcnt  \\\n",
       "count     17596.000000          172.0                7.745900e+04   \n",
       "mean          1.434246            1.0                1.892829e+05   \n",
       "std           0.544518            0.0                2.304149e+05   \n",
       "min           1.000000            1.0                4.400000e+01   \n",
       "25%           1.000000            1.0                8.418200e+04   \n",
       "50%           1.000000            1.0                1.364070e+05   \n",
       "75%           2.000000            1.0                2.187340e+05   \n",
       "max           6.000000            1.0                1.142179e+07   \n",
       "\n",
       "       taxvaluedollarcnt  assessmentyear  landtaxvaluedollarcnt  \\\n",
       "count       7.757300e+04         77574.0           7.757200e+04   \n",
       "mean        4.901477e+05          2016.0           3.011468e+05   \n",
       "std         6.538059e+05             0.0           4.927317e+05   \n",
       "min         1.000000e+03          2016.0           1.610000e+02   \n",
       "25%         2.068980e+05          2016.0           8.529200e+04   \n",
       "50%         3.588790e+05          2016.0           2.031810e+05   \n",
       "75%         5.690000e+05          2016.0           3.667610e+05   \n",
       "max         4.906124e+07          2016.0           4.895220e+07   \n",
       "\n",
       "           taxamount  taxdelinquencyyear  censustractandblock      logerror  \n",
       "count   77569.000000         2900.000000         7.732700e+04  77574.000000  \n",
       "mean     5995.855691           14.088276         6.049666e+13      0.016805  \n",
       "std      7628.912331            2.181281         1.533386e+12      0.170742  \n",
       "min        19.920000            3.000000         6.037101e+13     -4.655420  \n",
       "25%      2712.610000           14.000000         6.037311e+13     -0.024310  \n",
       "50%      4448.300000           15.000000         6.037603e+13      0.006673  \n",
       "75%      6926.820000           15.000000         6.059042e+13      0.039292  \n",
       "max    586639.300000           99.000000         4.830301e+14      5.262999  \n",
       "\n",
       "[8 rows x 56 columns]"
      ]
     },
     "execution_count": 9,
     "metadata": {},
     "output_type": "execute_result"
    }
   ],
   "source": [
    "zillow.describe()"
   ]
  },
  {
   "cell_type": "markdown",
   "id": "6fab5f20",
   "metadata": {},
   "source": [
    "3. Write a function that takes in a dataframe of observations and attributes and returns a dataframe where each row is an atttribute name, the first column is the number of rows with missing values for that attribute, and the second column is percent of total rows that have missing values for that attribute. Run the function and document takeaways from this on how you want to handle missing values."
   ]
  },
  {
   "cell_type": "code",
   "execution_count": 5,
   "id": "1bd5504f",
   "metadata": {},
   "outputs": [],
   "source": [
    "def nulls_col(df):\n",
    "    nulls = pd.DataFrame({\n",
    "        'count_nulls': df.isna().sum(),\n",
    "        'pct_rows_null': df.isna().mean()\n",
    "    })\n",
    "    return nulls"
   ]
  },
  {
   "cell_type": "code",
   "execution_count": 6,
   "id": "ebf84552",
   "metadata": {},
   "outputs": [],
   "source": [
    "nulls = nulls_col(zillow)"
   ]
  },
  {
   "cell_type": "code",
   "execution_count": 7,
   "id": "94009725",
   "metadata": {},
   "outputs": [
    {
     "data": {
      "text/html": [
       "<div>\n",
       "<style scoped>\n",
       "    .dataframe tbody tr th:only-of-type {\n",
       "        vertical-align: middle;\n",
       "    }\n",
       "\n",
       "    .dataframe tbody tr th {\n",
       "        vertical-align: top;\n",
       "    }\n",
       "\n",
       "    .dataframe thead th {\n",
       "        text-align: right;\n",
       "    }\n",
       "</style>\n",
       "<table border=\"1\" class=\"dataframe\">\n",
       "  <thead>\n",
       "    <tr style=\"text-align: right;\">\n",
       "      <th></th>\n",
       "      <th>count_nulls</th>\n",
       "      <th>pct_rows_null</th>\n",
       "    </tr>\n",
       "  </thead>\n",
       "  <tbody>\n",
       "    <tr>\n",
       "      <th>buildingclasstypeid</th>\n",
       "      <td>77559</td>\n",
       "      <td>0.999807</td>\n",
       "    </tr>\n",
       "    <tr>\n",
       "      <th>buildingclassdesc</th>\n",
       "      <td>77559</td>\n",
       "      <td>0.999807</td>\n",
       "    </tr>\n",
       "    <tr>\n",
       "      <th>finishedsquarefeet13</th>\n",
       "      <td>77532</td>\n",
       "      <td>0.999459</td>\n",
       "    </tr>\n",
       "    <tr>\n",
       "      <th>basementsqft</th>\n",
       "      <td>77524</td>\n",
       "      <td>0.999355</td>\n",
       "    </tr>\n",
       "    <tr>\n",
       "      <th>storydesc</th>\n",
       "      <td>77524</td>\n",
       "      <td>0.999355</td>\n",
       "    </tr>\n",
       "    <tr>\n",
       "      <th>storytypeid</th>\n",
       "      <td>77524</td>\n",
       "      <td>0.999355</td>\n",
       "    </tr>\n",
       "    <tr>\n",
       "      <th>yardbuildingsqft26</th>\n",
       "      <td>77504</td>\n",
       "      <td>0.999098</td>\n",
       "    </tr>\n",
       "    <tr>\n",
       "      <th>fireplaceflag</th>\n",
       "      <td>77402</td>\n",
       "      <td>0.997783</td>\n",
       "    </tr>\n",
       "    <tr>\n",
       "      <th>architecturalstyletypeid</th>\n",
       "      <td>77368</td>\n",
       "      <td>0.997344</td>\n",
       "    </tr>\n",
       "    <tr>\n",
       "      <th>architecturalstyledesc</th>\n",
       "      <td>77368</td>\n",
       "      <td>0.997344</td>\n",
       "    </tr>\n",
       "    <tr>\n",
       "      <th>typeconstructiontypeid</th>\n",
       "      <td>77352</td>\n",
       "      <td>0.997138</td>\n",
       "    </tr>\n",
       "    <tr>\n",
       "      <th>typeconstructiondesc</th>\n",
       "      <td>77352</td>\n",
       "      <td>0.997138</td>\n",
       "    </tr>\n",
       "    <tr>\n",
       "      <th>finishedsquarefeet6</th>\n",
       "      <td>77188</td>\n",
       "      <td>0.995024</td>\n",
       "    </tr>\n",
       "    <tr>\n",
       "      <th>pooltypeid10</th>\n",
       "      <td>77109</td>\n",
       "      <td>0.994006</td>\n",
       "    </tr>\n",
       "    <tr>\n",
       "      <th>decktypeid</th>\n",
       "      <td>76960</td>\n",
       "      <td>0.992085</td>\n",
       "    </tr>\n",
       "    <tr>\n",
       "      <th>poolsizesum</th>\n",
       "      <td>76705</td>\n",
       "      <td>0.988798</td>\n",
       "    </tr>\n",
       "    <tr>\n",
       "      <th>pooltypeid2</th>\n",
       "      <td>76500</td>\n",
       "      <td>0.986155</td>\n",
       "    </tr>\n",
       "    <tr>\n",
       "      <th>hashottuborspa</th>\n",
       "      <td>76035</td>\n",
       "      <td>0.980161</td>\n",
       "    </tr>\n",
       "    <tr>\n",
       "      <th>yardbuildingsqft17</th>\n",
       "      <td>75181</td>\n",
       "      <td>0.969152</td>\n",
       "    </tr>\n",
       "    <tr>\n",
       "      <th>taxdelinquencyflag</th>\n",
       "      <td>74674</td>\n",
       "      <td>0.962616</td>\n",
       "    </tr>\n",
       "    <tr>\n",
       "      <th>taxdelinquencyyear</th>\n",
       "      <td>74674</td>\n",
       "      <td>0.962616</td>\n",
       "    </tr>\n",
       "    <tr>\n",
       "      <th>finishedsquarefeet15</th>\n",
       "      <td>74547</td>\n",
       "      <td>0.960979</td>\n",
       "    </tr>\n",
       "    <tr>\n",
       "      <th>finishedsquarefeet50</th>\n",
       "      <td>71539</td>\n",
       "      <td>0.922203</td>\n",
       "    </tr>\n",
       "    <tr>\n",
       "      <th>finishedfloor1squarefeet</th>\n",
       "      <td>71539</td>\n",
       "      <td>0.922203</td>\n",
       "    </tr>\n",
       "    <tr>\n",
       "      <th>fireplacecnt</th>\n",
       "      <td>69287</td>\n",
       "      <td>0.893173</td>\n",
       "    </tr>\n",
       "    <tr>\n",
       "      <th>threequarterbathnbr</th>\n",
       "      <td>67469</td>\n",
       "      <td>0.869737</td>\n",
       "    </tr>\n",
       "    <tr>\n",
       "      <th>pooltypeid7</th>\n",
       "      <td>62496</td>\n",
       "      <td>0.805631</td>\n",
       "    </tr>\n",
       "    <tr>\n",
       "      <th>poolcnt</th>\n",
       "      <td>61401</td>\n",
       "      <td>0.791515</td>\n",
       "    </tr>\n",
       "    <tr>\n",
       "      <th>numberofstories</th>\n",
       "      <td>59978</td>\n",
       "      <td>0.773171</td>\n",
       "    </tr>\n",
       "    <tr>\n",
       "      <th>airconditioningdesc</th>\n",
       "      <td>52568</td>\n",
       "      <td>0.677650</td>\n",
       "    </tr>\n",
       "    <tr>\n",
       "      <th>airconditioningtypeid</th>\n",
       "      <td>52568</td>\n",
       "      <td>0.677650</td>\n",
       "    </tr>\n",
       "    <tr>\n",
       "      <th>garagetotalsqft</th>\n",
       "      <td>52057</td>\n",
       "      <td>0.671062</td>\n",
       "    </tr>\n",
       "    <tr>\n",
       "      <th>garagecarcnt</th>\n",
       "      <td>52057</td>\n",
       "      <td>0.671062</td>\n",
       "    </tr>\n",
       "    <tr>\n",
       "      <th>regionidneighborhood</th>\n",
       "      <td>46601</td>\n",
       "      <td>0.600730</td>\n",
       "    </tr>\n",
       "    <tr>\n",
       "      <th>heatingorsystemtypeid</th>\n",
       "      <td>28005</td>\n",
       "      <td>0.361010</td>\n",
       "    </tr>\n",
       "    <tr>\n",
       "      <th>heatingorsystemdesc</th>\n",
       "      <td>28005</td>\n",
       "      <td>0.361010</td>\n",
       "    </tr>\n",
       "    <tr>\n",
       "      <th>buildingqualitytypeid</th>\n",
       "      <td>27766</td>\n",
       "      <td>0.357929</td>\n",
       "    </tr>\n",
       "    <tr>\n",
       "      <th>propertyzoningdesc</th>\n",
       "      <td>27100</td>\n",
       "      <td>0.349344</td>\n",
       "    </tr>\n",
       "    <tr>\n",
       "      <th>unitcnt</th>\n",
       "      <td>26872</td>\n",
       "      <td>0.346405</td>\n",
       "    </tr>\n",
       "    <tr>\n",
       "      <th>lotsizesquarefeet</th>\n",
       "      <td>8257</td>\n",
       "      <td>0.106440</td>\n",
       "    </tr>\n",
       "    <tr>\n",
       "      <th>finishedsquarefeet12</th>\n",
       "      <td>3655</td>\n",
       "      <td>0.047116</td>\n",
       "    </tr>\n",
       "    <tr>\n",
       "      <th>regionidcity</th>\n",
       "      <td>1472</td>\n",
       "      <td>0.018975</td>\n",
       "    </tr>\n",
       "    <tr>\n",
       "      <th>calculatedbathnbr</th>\n",
       "      <td>615</td>\n",
       "      <td>0.007928</td>\n",
       "    </tr>\n",
       "    <tr>\n",
       "      <th>fullbathcnt</th>\n",
       "      <td>615</td>\n",
       "      <td>0.007928</td>\n",
       "    </tr>\n",
       "    <tr>\n",
       "      <th>yearbuilt</th>\n",
       "      <td>269</td>\n",
       "      <td>0.003468</td>\n",
       "    </tr>\n",
       "    <tr>\n",
       "      <th>censustractandblock</th>\n",
       "      <td>247</td>\n",
       "      <td>0.003184</td>\n",
       "    </tr>\n",
       "    <tr>\n",
       "      <th>calculatedfinishedsquarefeet</th>\n",
       "      <td>200</td>\n",
       "      <td>0.002578</td>\n",
       "    </tr>\n",
       "    <tr>\n",
       "      <th>structuretaxvaluedollarcnt</th>\n",
       "      <td>115</td>\n",
       "      <td>0.001482</td>\n",
       "    </tr>\n",
       "    <tr>\n",
       "      <th>regionidzip</th>\n",
       "      <td>50</td>\n",
       "      <td>0.000645</td>\n",
       "    </tr>\n",
       "    <tr>\n",
       "      <th>taxamount</th>\n",
       "      <td>5</td>\n",
       "      <td>0.000064</td>\n",
       "    </tr>\n",
       "  </tbody>\n",
       "</table>\n",
       "</div>"
      ],
      "text/plain": [
       "                              count_nulls  pct_rows_null\n",
       "buildingclasstypeid                 77559       0.999807\n",
       "buildingclassdesc                   77559       0.999807\n",
       "finishedsquarefeet13                77532       0.999459\n",
       "basementsqft                        77524       0.999355\n",
       "storydesc                           77524       0.999355\n",
       "storytypeid                         77524       0.999355\n",
       "yardbuildingsqft26                  77504       0.999098\n",
       "fireplaceflag                       77402       0.997783\n",
       "architecturalstyletypeid            77368       0.997344\n",
       "architecturalstyledesc              77368       0.997344\n",
       "typeconstructiontypeid              77352       0.997138\n",
       "typeconstructiondesc                77352       0.997138\n",
       "finishedsquarefeet6                 77188       0.995024\n",
       "pooltypeid10                        77109       0.994006\n",
       "decktypeid                          76960       0.992085\n",
       "poolsizesum                         76705       0.988798\n",
       "pooltypeid2                         76500       0.986155\n",
       "hashottuborspa                      76035       0.980161\n",
       "yardbuildingsqft17                  75181       0.969152\n",
       "taxdelinquencyflag                  74674       0.962616\n",
       "taxdelinquencyyear                  74674       0.962616\n",
       "finishedsquarefeet15                74547       0.960979\n",
       "finishedsquarefeet50                71539       0.922203\n",
       "finishedfloor1squarefeet            71539       0.922203\n",
       "fireplacecnt                        69287       0.893173\n",
       "threequarterbathnbr                 67469       0.869737\n",
       "pooltypeid7                         62496       0.805631\n",
       "poolcnt                             61401       0.791515\n",
       "numberofstories                     59978       0.773171\n",
       "airconditioningdesc                 52568       0.677650\n",
       "airconditioningtypeid               52568       0.677650\n",
       "garagetotalsqft                     52057       0.671062\n",
       "garagecarcnt                        52057       0.671062\n",
       "regionidneighborhood                46601       0.600730\n",
       "heatingorsystemtypeid               28005       0.361010\n",
       "heatingorsystemdesc                 28005       0.361010\n",
       "buildingqualitytypeid               27766       0.357929\n",
       "propertyzoningdesc                  27100       0.349344\n",
       "unitcnt                             26872       0.346405\n",
       "lotsizesquarefeet                    8257       0.106440\n",
       "finishedsquarefeet12                 3655       0.047116\n",
       "regionidcity                         1472       0.018975\n",
       "calculatedbathnbr                     615       0.007928\n",
       "fullbathcnt                           615       0.007928\n",
       "yearbuilt                             269       0.003468\n",
       "censustractandblock                   247       0.003184\n",
       "calculatedfinishedsquarefeet          200       0.002578\n",
       "structuretaxvaluedollarcnt            115       0.001482\n",
       "regionidzip                            50       0.000645\n",
       "taxamount                               5       0.000064"
      ]
     },
     "execution_count": 7,
     "metadata": {},
     "output_type": "execute_result"
    }
   ],
   "source": [
    "nulls.sort_values(by='pct_rows_null', ascending=False).head(50)"
   ]
  },
  {
   "cell_type": "markdown",
   "id": "dbf4d835",
   "metadata": {},
   "source": [
    "4. Write a function that takes in a dataframe and returns a dataframe with 3 columns: the number of columns missing, percent of columns missing, and number of rows with n columns missing. Run the function and document takeaways from this on how you want to handle missing values."
   ]
  },
  {
   "cell_type": "code",
   "execution_count": 8,
   "id": "436c55c2",
   "metadata": {},
   "outputs": [],
   "source": [
    "def cols_missing(df):\n",
    "    df2 = pd.DataFrame(df.isnull().sum(axis=1), columns = ['num_cols_missing']).reset_index()\\\n",
    "    .groupby('num_cols_missing').count().reset_index().\\\n",
    "    rename(columns = {'index': 'num_rows'})\n",
    "    df2['pct_cols_missing'] = df2.num_cols_missing/df.shape[1]\n",
    "    return df2"
   ]
  },
  {
   "cell_type": "code",
   "execution_count": 9,
   "id": "954b903a",
   "metadata": {},
   "outputs": [],
   "source": [
    "def cols_missing2(df):\n",
    "    df2 = pd.concat([\n",
    "    df.isna().sum(axis=1).rename('n_missing'),\n",
    "    df.isna().mean(axis=1).rename('percent_missing'),\n",
    "], axis=1).value_counts().sort_index()\n",
    "    return df2"
   ]
  },
  {
   "cell_type": "code",
   "execution_count": 10,
   "id": "c0d59655",
   "metadata": {},
   "outputs": [
    {
     "data": {
      "text/html": [
       "<div>\n",
       "<style scoped>\n",
       "    .dataframe tbody tr th:only-of-type {\n",
       "        vertical-align: middle;\n",
       "    }\n",
       "\n",
       "    .dataframe tbody tr th {\n",
       "        vertical-align: top;\n",
       "    }\n",
       "\n",
       "    .dataframe thead th {\n",
       "        text-align: right;\n",
       "    }\n",
       "</style>\n",
       "<table border=\"1\" class=\"dataframe\">\n",
       "  <thead>\n",
       "    <tr style=\"text-align: right;\">\n",
       "      <th></th>\n",
       "      <th>num_cols_missing</th>\n",
       "      <th>num_rows</th>\n",
       "      <th>pct_cols_missing</th>\n",
       "    </tr>\n",
       "  </thead>\n",
       "  <tbody>\n",
       "    <tr>\n",
       "      <th>0</th>\n",
       "      <td>23</td>\n",
       "      <td>2</td>\n",
       "      <td>0.343284</td>\n",
       "    </tr>\n",
       "    <tr>\n",
       "      <th>1</th>\n",
       "      <td>24</td>\n",
       "      <td>13</td>\n",
       "      <td>0.358209</td>\n",
       "    </tr>\n",
       "    <tr>\n",
       "      <th>2</th>\n",
       "      <td>25</td>\n",
       "      <td>24</td>\n",
       "      <td>0.373134</td>\n",
       "    </tr>\n",
       "    <tr>\n",
       "      <th>3</th>\n",
       "      <td>26</td>\n",
       "      <td>65</td>\n",
       "      <td>0.388060</td>\n",
       "    </tr>\n",
       "    <tr>\n",
       "      <th>4</th>\n",
       "      <td>27</td>\n",
       "      <td>316</td>\n",
       "      <td>0.402985</td>\n",
       "    </tr>\n",
       "    <tr>\n",
       "      <th>5</th>\n",
       "      <td>28</td>\n",
       "      <td>457</td>\n",
       "      <td>0.417910</td>\n",
       "    </tr>\n",
       "    <tr>\n",
       "      <th>6</th>\n",
       "      <td>29</td>\n",
       "      <td>5285</td>\n",
       "      <td>0.432836</td>\n",
       "    </tr>\n",
       "    <tr>\n",
       "      <th>7</th>\n",
       "      <td>30</td>\n",
       "      <td>3465</td>\n",
       "      <td>0.447761</td>\n",
       "    </tr>\n",
       "    <tr>\n",
       "      <th>8</th>\n",
       "      <td>31</td>\n",
       "      <td>9911</td>\n",
       "      <td>0.462687</td>\n",
       "    </tr>\n",
       "    <tr>\n",
       "      <th>9</th>\n",
       "      <td>32</td>\n",
       "      <td>12606</td>\n",
       "      <td>0.477612</td>\n",
       "    </tr>\n",
       "    <tr>\n",
       "      <th>10</th>\n",
       "      <td>33</td>\n",
       "      <td>14817</td>\n",
       "      <td>0.492537</td>\n",
       "    </tr>\n",
       "    <tr>\n",
       "      <th>11</th>\n",
       "      <td>34</td>\n",
       "      <td>13356</td>\n",
       "      <td>0.507463</td>\n",
       "    </tr>\n",
       "    <tr>\n",
       "      <th>12</th>\n",
       "      <td>35</td>\n",
       "      <td>5163</td>\n",
       "      <td>0.522388</td>\n",
       "    </tr>\n",
       "    <tr>\n",
       "      <th>13</th>\n",
       "      <td>36</td>\n",
       "      <td>5793</td>\n",
       "      <td>0.537313</td>\n",
       "    </tr>\n",
       "    <tr>\n",
       "      <th>14</th>\n",
       "      <td>37</td>\n",
       "      <td>3630</td>\n",
       "      <td>0.552239</td>\n",
       "    </tr>\n",
       "    <tr>\n",
       "      <th>15</th>\n",
       "      <td>38</td>\n",
       "      <td>1932</td>\n",
       "      <td>0.567164</td>\n",
       "    </tr>\n",
       "    <tr>\n",
       "      <th>16</th>\n",
       "      <td>39</td>\n",
       "      <td>285</td>\n",
       "      <td>0.582090</td>\n",
       "    </tr>\n",
       "    <tr>\n",
       "      <th>17</th>\n",
       "      <td>40</td>\n",
       "      <td>230</td>\n",
       "      <td>0.597015</td>\n",
       "    </tr>\n",
       "    <tr>\n",
       "      <th>18</th>\n",
       "      <td>41</td>\n",
       "      <td>29</td>\n",
       "      <td>0.611940</td>\n",
       "    </tr>\n",
       "    <tr>\n",
       "      <th>19</th>\n",
       "      <td>42</td>\n",
       "      <td>26</td>\n",
       "      <td>0.626866</td>\n",
       "    </tr>\n",
       "    <tr>\n",
       "      <th>20</th>\n",
       "      <td>43</td>\n",
       "      <td>29</td>\n",
       "      <td>0.641791</td>\n",
       "    </tr>\n",
       "    <tr>\n",
       "      <th>21</th>\n",
       "      <td>44</td>\n",
       "      <td>79</td>\n",
       "      <td>0.656716</td>\n",
       "    </tr>\n",
       "    <tr>\n",
       "      <th>22</th>\n",
       "      <td>45</td>\n",
       "      <td>50</td>\n",
       "      <td>0.671642</td>\n",
       "    </tr>\n",
       "    <tr>\n",
       "      <th>23</th>\n",
       "      <td>46</td>\n",
       "      <td>5</td>\n",
       "      <td>0.686567</td>\n",
       "    </tr>\n",
       "    <tr>\n",
       "      <th>24</th>\n",
       "      <td>47</td>\n",
       "      <td>3</td>\n",
       "      <td>0.701493</td>\n",
       "    </tr>\n",
       "    <tr>\n",
       "      <th>25</th>\n",
       "      <td>48</td>\n",
       "      <td>3</td>\n",
       "      <td>0.716418</td>\n",
       "    </tr>\n",
       "  </tbody>\n",
       "</table>\n",
       "</div>"
      ],
      "text/plain": [
       "    num_cols_missing  num_rows  pct_cols_missing\n",
       "0                 23         2          0.343284\n",
       "1                 24        13          0.358209\n",
       "2                 25        24          0.373134\n",
       "3                 26        65          0.388060\n",
       "4                 27       316          0.402985\n",
       "5                 28       457          0.417910\n",
       "6                 29      5285          0.432836\n",
       "7                 30      3465          0.447761\n",
       "8                 31      9911          0.462687\n",
       "9                 32     12606          0.477612\n",
       "10                33     14817          0.492537\n",
       "11                34     13356          0.507463\n",
       "12                35      5163          0.522388\n",
       "13                36      5793          0.537313\n",
       "14                37      3630          0.552239\n",
       "15                38      1932          0.567164\n",
       "16                39       285          0.582090\n",
       "17                40       230          0.597015\n",
       "18                41        29          0.611940\n",
       "19                42        26          0.626866\n",
       "20                43        29          0.641791\n",
       "21                44        79          0.656716\n",
       "22                45        50          0.671642\n",
       "23                46         5          0.686567\n",
       "24                47         3          0.701493\n",
       "25                48         3          0.716418"
      ]
     },
     "execution_count": 10,
     "metadata": {},
     "output_type": "execute_result"
    }
   ],
   "source": [
    "cols_missing(zillow)"
   ]
  },
  {
   "cell_type": "code",
   "execution_count": 11,
   "id": "96d6238c",
   "metadata": {},
   "outputs": [
    {
     "data": {
      "text/plain": [
       "n_missing  percent_missing\n",
       "23         0.343284               2\n",
       "24         0.358209              13\n",
       "25         0.373134              24\n",
       "26         0.388060              65\n",
       "27         0.402985             316\n",
       "28         0.417910             457\n",
       "29         0.432836            5285\n",
       "30         0.447761            3465\n",
       "31         0.462687            9911\n",
       "32         0.477612           12606\n",
       "33         0.492537           14817\n",
       "34         0.507463           13356\n",
       "35         0.522388            5163\n",
       "36         0.537313            5793\n",
       "37         0.552239            3630\n",
       "38         0.567164            1932\n",
       "39         0.582090             285\n",
       "40         0.597015             230\n",
       "41         0.611940              29\n",
       "42         0.626866              26\n",
       "43         0.641791              29\n",
       "44         0.656716              79\n",
       "45         0.671642              50\n",
       "46         0.686567               5\n",
       "47         0.701493               3\n",
       "48         0.716418               3\n",
       "dtype: int64"
      ]
     },
     "execution_count": 11,
     "metadata": {},
     "output_type": "execute_result"
    }
   ],
   "source": [
    "cols_missing2(zillow)"
   ]
  },
  {
   "cell_type": "markdown",
   "id": "cc402af9",
   "metadata": {},
   "source": [
    "## Prepare:\n",
    "\n",
    "1. Remove any properties that are likely to be something other than single unit properties. (e.g. no duplexes, no land/lot, ...). There are multiple ways to estimate that a property is a single unit, and there is not a single \"right\" answer. But for this exercise, do not purely filter by unitcnt as we did previously. Add some new logic that will reduce the number of properties that are falsely removed. You might want to use # bedrooms, square feet, unit type or the like to then identify those with unitcnt not defined."
   ]
  },
  {
   "cell_type": "code",
   "execution_count": 17,
   "id": "04975c6b",
   "metadata": {},
   "outputs": [
    {
     "name": "stdout",
     "output_type": "stream",
     "text": [
      "<class 'pandas.core.frame.DataFrame'>\n",
      "RangeIndex: 77574 entries, 0 to 77573\n",
      "Data columns (total 67 columns):\n",
      " #   Column                        Non-Null Count  Dtype  \n",
      "---  ------                        --------------  -----  \n",
      " 0   parcelid                      77574 non-null  int64  \n",
      " 1   airconditioningtypeid         25006 non-null  float64\n",
      " 2   architecturalstyletypeid      206 non-null    float64\n",
      " 3   basementsqft                  50 non-null     float64\n",
      " 4   bathroomcnt                   77574 non-null  float64\n",
      " 5   bedroomcnt                    77574 non-null  float64\n",
      " 6   buildingclasstypeid           15 non-null     float64\n",
      " 7   buildingqualitytypeid         49808 non-null  float64\n",
      " 8   calculatedbathnbr             76959 non-null  float64\n",
      " 9   decktypeid                    614 non-null    float64\n",
      " 10  finishedfloor1squarefeet      6035 non-null   float64\n",
      " 11  calculatedfinishedsquarefeet  77374 non-null  float64\n",
      " 12  finishedsquarefeet12          73919 non-null  float64\n",
      " 13  finishedsquarefeet13          42 non-null     float64\n",
      " 14  finishedsquarefeet15          3027 non-null   float64\n",
      " 15  finishedsquarefeet50          6035 non-null   float64\n",
      " 16  finishedsquarefeet6           386 non-null    float64\n",
      " 17  fips                          77574 non-null  float64\n",
      " 18  fireplacecnt                  8287 non-null   float64\n",
      " 19  fullbathcnt                   76959 non-null  float64\n",
      " 20  garagecarcnt                  25517 non-null  float64\n",
      " 21  garagetotalsqft               25517 non-null  float64\n",
      " 22  hashottuborspa                1539 non-null   float64\n",
      " 23  heatingorsystemtypeid         49569 non-null  float64\n",
      " 24  latitude                      77574 non-null  float64\n",
      " 25  longitude                     77574 non-null  float64\n",
      " 26  lotsizesquarefeet             69317 non-null  float64\n",
      " 27  poolcnt                       16173 non-null  float64\n",
      " 28  poolsizesum                   869 non-null    float64\n",
      " 29  pooltypeid10                  465 non-null    float64\n",
      " 30  pooltypeid2                   1074 non-null   float64\n",
      " 31  pooltypeid7                   15078 non-null  float64\n",
      " 32  propertycountylandusecode     77574 non-null  object \n",
      " 33  propertylandusetypeid         77574 non-null  float64\n",
      " 34  propertyzoningdesc            50474 non-null  object \n",
      " 35  rawcensustractandblock        77574 non-null  float64\n",
      " 36  regionidcity                  76102 non-null  float64\n",
      " 37  regionidcounty                77574 non-null  float64\n",
      " 38  regionidneighborhood          30973 non-null  float64\n",
      " 39  regionidzip                   77524 non-null  float64\n",
      " 40  roomcnt                       77574 non-null  float64\n",
      " 41  storytypeid                   50 non-null     float64\n",
      " 42  threequarterbathnbr           10105 non-null  float64\n",
      " 43  typeconstructiontypeid        222 non-null    float64\n",
      " 44  unitcnt                       50702 non-null  float64\n",
      " 45  yardbuildingsqft17            2393 non-null   float64\n",
      " 46  yardbuildingsqft26            70 non-null     float64\n",
      " 47  yearbuilt                     77305 non-null  float64\n",
      " 48  numberofstories               17596 non-null  float64\n",
      " 49  fireplaceflag                 172 non-null    float64\n",
      " 50  structuretaxvaluedollarcnt    77459 non-null  float64\n",
      " 51  taxvaluedollarcnt             77573 non-null  float64\n",
      " 52  assessmentyear                77574 non-null  float64\n",
      " 53  landtaxvaluedollarcnt         77572 non-null  float64\n",
      " 54  taxamount                     77569 non-null  float64\n",
      " 55  taxdelinquencyflag            2900 non-null   object \n",
      " 56  taxdelinquencyyear            2900 non-null   float64\n",
      " 57  censustractandblock           77327 non-null  float64\n",
      " 58  logerror                      77574 non-null  float64\n",
      " 59  transactiondate               77574 non-null  object \n",
      " 60  airconditioningdesc           25006 non-null  object \n",
      " 61  architecturalstyledesc        206 non-null    object \n",
      " 62  buildingclassdesc             15 non-null     object \n",
      " 63  heatingorsystemdesc           49569 non-null  object \n",
      " 64  propertylandusedesc           77574 non-null  object \n",
      " 65  storydesc                     50 non-null     object \n",
      " 66  typeconstructiondesc          222 non-null    object \n",
      "dtypes: float64(55), int64(1), object(11)\n",
      "memory usage: 39.7+ MB\n"
     ]
    }
   ],
   "source": [
    "zillow.info()"
   ]
  },
  {
   "cell_type": "code",
   "execution_count": 18,
   "id": "6b08e2f0",
   "metadata": {},
   "outputs": [
    {
     "data": {
      "text/plain": [
       "6.037137e+13    60\n",
       "6.037277e+13    51\n",
       "6.059032e+13    44\n",
       "6.037920e+13    41\n",
       "6.059063e+13    41\n",
       "                ..\n",
       "6.037406e+13     1\n",
       "6.037430e+13     1\n",
       "6.037604e+13     1\n",
       "6.037187e+13     1\n",
       "6.037503e+13     1\n",
       "Name: censustractandblock, Length: 39006, dtype: int64"
      ]
     },
     "execution_count": 18,
     "metadata": {},
     "output_type": "execute_result"
    }
   ],
   "source": [
    "zillow.censustractandblock.value_counts()"
   ]
  },
  {
   "cell_type": "code",
   "execution_count": 20,
   "id": "051adaf2",
   "metadata": {},
   "outputs": [
    {
     "data": {
      "text/plain": [
       "2.0     18637\n",
       "1.0      5689\n",
       "3.0       632\n",
       "4.0       256\n",
       "0.0       230\n",
       "5.0        45\n",
       "6.0        14\n",
       "7.0         4\n",
       "10.0        3\n",
       "8.0         2\n",
       "9.0         2\n",
       "11.0        1\n",
       "13.0        1\n",
       "14.0        1\n",
       "Name: garagecarcnt, dtype: int64"
      ]
     },
     "execution_count": 20,
     "metadata": {},
     "output_type": "execute_result"
    }
   ],
   "source": [
    "zillow.garagecarcnt.value_counts().head(40)"
   ]
  },
  {
   "cell_type": "code",
   "execution_count": 21,
   "id": "5b101ab4",
   "metadata": {},
   "outputs": [
    {
     "data": {
      "text/plain": [
       "1.0      47412\n",
       "NaN      26872\n",
       "2.0       2031\n",
       "4.0        726\n",
       "3.0        529\n",
       "45.0         1\n",
       "42.0         1\n",
       "6.0          1\n",
       "237.0        1\n",
       "Name: unitcnt, dtype: int64"
      ]
     },
     "execution_count": 21,
     "metadata": {},
     "output_type": "execute_result"
    }
   ],
   "source": [
    "zillow.unitcnt.value_counts(dropna = False)"
   ]
  },
  {
   "cell_type": "code",
   "execution_count": 22,
   "id": "be940e88",
   "metadata": {},
   "outputs": [
    {
     "data": {
      "text/plain": [
       "261.0    52438\n",
       "266.0    19341\n",
       "246.0     2021\n",
       "269.0     1947\n",
       "248.0      729\n",
       "247.0      539\n",
       "265.0      335\n",
       "263.0       74\n",
       "275.0       59\n",
       "260.0       41\n",
       "267.0       29\n",
       "31.0        15\n",
       "264.0        6\n",
       "Name: propertylandusetypeid, dtype: int64"
      ]
     },
     "execution_count": 22,
     "metadata": {},
     "output_type": "execute_result"
    }
   ],
   "source": [
    "zillow.propertylandusetypeid.value_counts()"
   ]
  },
  {
   "cell_type": "code",
   "execution_count": 5,
   "id": "a6652471",
   "metadata": {},
   "outputs": [],
   "source": [
    "# Identifying which landusetypeid are not single units\n",
    "not_single = [246, 248, 247, 267, 31]"
   ]
  },
  {
   "cell_type": "code",
   "execution_count": 6,
   "id": "3e2156d5",
   "metadata": {},
   "outputs": [],
   "source": [
    "zillow2 = zillow.copy()"
   ]
  },
  {
   "cell_type": "code",
   "execution_count": 19,
   "id": "86830916",
   "metadata": {},
   "outputs": [],
   "source": [
    "zillow2 = zillow2[~zillow.propertylandusetypeid.isin(not_single)] "
   ]
  },
  {
   "cell_type": "code",
   "execution_count": 21,
   "id": "0469d77f",
   "metadata": {},
   "outputs": [
    {
     "data": {
      "text/plain": [
       "261.0    52438\n",
       "266.0    19341\n",
       "269.0     1947\n",
       "265.0      335\n",
       "263.0       74\n",
       "275.0       59\n",
       "260.0       41\n",
       "264.0        6\n",
       "Name: propertylandusetypeid, dtype: int64"
      ]
     },
     "execution_count": 21,
     "metadata": {},
     "output_type": "execute_result"
    }
   ],
   "source": [
    "zillow2.propertylandusetypeid.value_counts()"
   ]
  },
  {
   "cell_type": "code",
   "execution_count": 7,
   "id": "20a095f2",
   "metadata": {},
   "outputs": [],
   "source": [
    "# Making sure properties has at least one bathroom, one bedroom, unitcnt\n",
    "zillow2 = zillow2[(zillow2.bedroomcnt > 0) & (zillow2.bathroomcnt > 0) & ((zillow2.unitcnt <= 1) | zillow2.unitcnt.isnull())]"
   ]
  },
  {
   "cell_type": "code",
   "execution_count": 20,
   "id": "43b85094",
   "metadata": {},
   "outputs": [
    {
     "data": {
      "text/plain": [
       "(45931, 30)"
      ]
     },
     "execution_count": 20,
     "metadata": {},
     "output_type": "execute_result"
    }
   ],
   "source": [
    "zillow2.shape"
   ]
  },
  {
   "cell_type": "code",
   "execution_count": 9,
   "id": "6480fd0c",
   "metadata": {},
   "outputs": [
    {
     "data": {
      "text/plain": [
       "360.0    4\n",
       "380.0    2\n",
       "300.0    1\n",
       "242.0    1\n",
       "326.0    1\n",
       "384.0    1\n",
       "372.0    1\n",
       "378.0    1\n",
       "152.0    1\n",
       "Name: calculatedfinishedsquarefeet, dtype: int64"
      ]
     },
     "execution_count": 9,
     "metadata": {},
     "output_type": "execute_result"
    }
   ],
   "source": [
    "zillow2.calculatedfinishedsquarefeet[zillow.calculatedfinishedsquarefeet < 400].value_counts(ascending = False, dropna=False).head(50)"
   ]
  },
  {
   "cell_type": "code",
   "execution_count": 10,
   "id": "df42d0d7",
   "metadata": {},
   "outputs": [],
   "source": [
    "# Dropping insanely low sqft \n",
    "zillow2 = zillow2[zillow2.calculatedfinishedsquarefeet > 300]"
   ]
  },
  {
   "cell_type": "code",
   "execution_count": 11,
   "id": "216b2c86",
   "metadata": {},
   "outputs": [
    {
     "data": {
      "text/plain": [
       "(73736, 67)"
      ]
     },
     "execution_count": 11,
     "metadata": {},
     "output_type": "execute_result"
    }
   ],
   "source": [
    "zillow2.shape"
   ]
  },
  {
   "cell_type": "code",
   "execution_count": 12,
   "id": "6cab0c7e",
   "metadata": {},
   "outputs": [
    {
     "ename": "IndexingError",
     "evalue": "Unalignable boolean Series provided as indexer (index of the boolean Series and of the indexed object do not match).",
     "output_type": "error",
     "traceback": [
      "\u001b[0;31m---------------------------------------------------------------------------\u001b[0m",
      "\u001b[0;31mIndexingError\u001b[0m                             Traceback (most recent call last)",
      "\u001b[0;32m/var/folders/pt/3m3r1rq55pdgzpmnqzkdjb240000gn/T/ipykernel_22829/1032258684.py\u001b[0m in \u001b[0;36m<module>\u001b[0;34m\u001b[0m\n\u001b[0;32m----> 1\u001b[0;31m \u001b[0mzil_dupes\u001b[0m \u001b[0;34m=\u001b[0m \u001b[0mzillow2\u001b[0m\u001b[0;34m[\u001b[0m\u001b[0mzillow2\u001b[0m\u001b[0;34m.\u001b[0m\u001b[0mparcelid\u001b[0m\u001b[0;34m.\u001b[0m\u001b[0mvalue_counts\u001b[0m\u001b[0;34m(\u001b[0m\u001b[0;34m)\u001b[0m \u001b[0;34m>\u001b[0m \u001b[0;36m1\u001b[0m\u001b[0;34m]\u001b[0m\u001b[0;34m\u001b[0m\u001b[0;34m\u001b[0m\u001b[0m\n\u001b[0m",
      "\u001b[0;32m/opt/homebrew/anaconda3/lib/python3.9/site-packages/pandas/core/frame.py\u001b[0m in \u001b[0;36m__getitem__\u001b[0;34m(self, key)\u001b[0m\n\u001b[1;32m   3447\u001b[0m         \u001b[0;31m# Do we have a (boolean) 1d indexer?\u001b[0m\u001b[0;34m\u001b[0m\u001b[0;34m\u001b[0m\u001b[0m\n\u001b[1;32m   3448\u001b[0m         \u001b[0;32mif\u001b[0m \u001b[0mcom\u001b[0m\u001b[0;34m.\u001b[0m\u001b[0mis_bool_indexer\u001b[0m\u001b[0;34m(\u001b[0m\u001b[0mkey\u001b[0m\u001b[0;34m)\u001b[0m\u001b[0;34m:\u001b[0m\u001b[0;34m\u001b[0m\u001b[0;34m\u001b[0m\u001b[0m\n\u001b[0;32m-> 3449\u001b[0;31m             \u001b[0;32mreturn\u001b[0m \u001b[0mself\u001b[0m\u001b[0;34m.\u001b[0m\u001b[0m_getitem_bool_array\u001b[0m\u001b[0;34m(\u001b[0m\u001b[0mkey\u001b[0m\u001b[0;34m)\u001b[0m\u001b[0;34m\u001b[0m\u001b[0;34m\u001b[0m\u001b[0m\n\u001b[0m\u001b[1;32m   3450\u001b[0m \u001b[0;34m\u001b[0m\u001b[0m\n\u001b[1;32m   3451\u001b[0m         \u001b[0;31m# We are left with two options: a single key, and a collection of keys,\u001b[0m\u001b[0;34m\u001b[0m\u001b[0;34m\u001b[0m\u001b[0m\n",
      "\u001b[0;32m/opt/homebrew/anaconda3/lib/python3.9/site-packages/pandas/core/frame.py\u001b[0m in \u001b[0;36m_getitem_bool_array\u001b[0;34m(self, key)\u001b[0m\n\u001b[1;32m   3500\u001b[0m         \u001b[0;31m# check_bool_indexer will throw exception if Series key cannot\u001b[0m\u001b[0;34m\u001b[0m\u001b[0;34m\u001b[0m\u001b[0m\n\u001b[1;32m   3501\u001b[0m         \u001b[0;31m# be reindexed to match DataFrame rows\u001b[0m\u001b[0;34m\u001b[0m\u001b[0;34m\u001b[0m\u001b[0m\n\u001b[0;32m-> 3502\u001b[0;31m         \u001b[0mkey\u001b[0m \u001b[0;34m=\u001b[0m \u001b[0mcheck_bool_indexer\u001b[0m\u001b[0;34m(\u001b[0m\u001b[0mself\u001b[0m\u001b[0;34m.\u001b[0m\u001b[0mindex\u001b[0m\u001b[0;34m,\u001b[0m \u001b[0mkey\u001b[0m\u001b[0;34m)\u001b[0m\u001b[0;34m\u001b[0m\u001b[0;34m\u001b[0m\u001b[0m\n\u001b[0m\u001b[1;32m   3503\u001b[0m         \u001b[0mindexer\u001b[0m \u001b[0;34m=\u001b[0m \u001b[0mkey\u001b[0m\u001b[0;34m.\u001b[0m\u001b[0mnonzero\u001b[0m\u001b[0;34m(\u001b[0m\u001b[0;34m)\u001b[0m\u001b[0;34m[\u001b[0m\u001b[0;36m0\u001b[0m\u001b[0;34m]\u001b[0m\u001b[0;34m\u001b[0m\u001b[0;34m\u001b[0m\u001b[0m\n\u001b[1;32m   3504\u001b[0m         \u001b[0;32mreturn\u001b[0m \u001b[0mself\u001b[0m\u001b[0;34m.\u001b[0m\u001b[0m_take_with_is_copy\u001b[0m\u001b[0;34m(\u001b[0m\u001b[0mindexer\u001b[0m\u001b[0;34m,\u001b[0m \u001b[0maxis\u001b[0m\u001b[0;34m=\u001b[0m\u001b[0;36m0\u001b[0m\u001b[0;34m)\u001b[0m\u001b[0;34m\u001b[0m\u001b[0;34m\u001b[0m\u001b[0m\n",
      "\u001b[0;32m/opt/homebrew/anaconda3/lib/python3.9/site-packages/pandas/core/indexing.py\u001b[0m in \u001b[0;36mcheck_bool_indexer\u001b[0;34m(index, key)\u001b[0m\n\u001b[1;32m   2386\u001b[0m         \u001b[0mmask\u001b[0m \u001b[0;34m=\u001b[0m \u001b[0misna\u001b[0m\u001b[0;34m(\u001b[0m\u001b[0mresult\u001b[0m\u001b[0;34m.\u001b[0m\u001b[0m_values\u001b[0m\u001b[0;34m)\u001b[0m\u001b[0;34m\u001b[0m\u001b[0;34m\u001b[0m\u001b[0m\n\u001b[1;32m   2387\u001b[0m         \u001b[0;32mif\u001b[0m \u001b[0mmask\u001b[0m\u001b[0;34m.\u001b[0m\u001b[0many\u001b[0m\u001b[0;34m(\u001b[0m\u001b[0;34m)\u001b[0m\u001b[0;34m:\u001b[0m\u001b[0;34m\u001b[0m\u001b[0;34m\u001b[0m\u001b[0m\n\u001b[0;32m-> 2388\u001b[0;31m             raise IndexingError(\n\u001b[0m\u001b[1;32m   2389\u001b[0m                 \u001b[0;34m\"Unalignable boolean Series provided as \"\u001b[0m\u001b[0;34m\u001b[0m\u001b[0;34m\u001b[0m\u001b[0m\n\u001b[1;32m   2390\u001b[0m                 \u001b[0;34m\"indexer (index of the boolean Series and of \"\u001b[0m\u001b[0;34m\u001b[0m\u001b[0;34m\u001b[0m\u001b[0m\n",
      "\u001b[0;31mIndexingError\u001b[0m: Unalignable boolean Series provided as indexer (index of the boolean Series and of the indexed object do not match)."
     ]
    }
   ],
   "source": [
    "zil_dupes = zillow2[zillow2.parcelid.value_counts() > 1]"
   ]
  },
  {
   "cell_type": "code",
   "execution_count": 13,
   "id": "8cbbcb50",
   "metadata": {},
   "outputs": [
    {
     "data": {
      "text/plain": [
       "(73736, 67)"
      ]
     },
     "execution_count": 13,
     "metadata": {},
     "output_type": "execute_result"
    }
   ],
   "source": [
    "zillow2.shape"
   ]
  },
  {
   "cell_type": "code",
   "execution_count": 14,
   "id": "950688e5",
   "metadata": {},
   "outputs": [],
   "source": [
    "# Have duplicate parcelids\n",
    "zillow2.drop_duplicates(subset = 'parcelid', inplace=True)"
   ]
  },
  {
   "cell_type": "code",
   "execution_count": 15,
   "id": "7e59cf2c",
   "metadata": {},
   "outputs": [
    {
     "data": {
      "text/plain": [
       "(73569, 67)"
      ]
     },
     "execution_count": 15,
     "metadata": {},
     "output_type": "execute_result"
    }
   ],
   "source": [
    "zillow2.shape"
   ]
  },
  {
   "cell_type": "code",
   "execution_count": 16,
   "id": "f64a231a",
   "metadata": {},
   "outputs": [],
   "source": [
    "def handle_missing_values(df, prop_required_column, prop_required_row):\n",
    "    n_required_column = round(df.shape[0] * prop_required_column)\n",
    "    n_required_row = round(df.shape[1] * prop_required_row)\n",
    "    df = df.dropna(axis=0, thresh=n_required_row)\n",
    "    df = df.dropna(axis=1, thresh=n_required_column)\n",
    "    return df"
   ]
  },
  {
   "cell_type": "code",
   "execution_count": 17,
   "id": "6c037604",
   "metadata": {},
   "outputs": [],
   "source": [
    "zillow2 = handle_missing_values(zillow2, prop_required_column=.5, prop_required_row=.5)"
   ]
  },
  {
   "cell_type": "code",
   "execution_count": 18,
   "id": "28dae771",
   "metadata": {},
   "outputs": [
    {
     "data": {
      "text/plain": [
       "(45971, 30)"
      ]
     },
     "execution_count": 18,
     "metadata": {},
     "output_type": "execute_result"
    }
   ],
   "source": [
    "zillow2.shape"
   ]
  },
  {
   "cell_type": "markdown",
   "id": "51c00808",
   "metadata": {},
   "source": [
    "^^^ The above done after initial null culling will result in losing more of the data than necessarily intended bc you are now trimming already trimmed data with a 50% metric. (That 50% is now applied to already pruned, meaning you are now causing over-pruning than if 'handle-missing-values()' was done first. "
   ]
  },
  {
   "cell_type": "code",
   "execution_count": 25,
   "id": "6938647a",
   "metadata": {},
   "outputs": [
    {
     "data": {
      "text/html": [
       "<div>\n",
       "<style scoped>\n",
       "    .dataframe tbody tr th:only-of-type {\n",
       "        vertical-align: middle;\n",
       "    }\n",
       "\n",
       "    .dataframe tbody tr th {\n",
       "        vertical-align: top;\n",
       "    }\n",
       "\n",
       "    .dataframe thead th {\n",
       "        text-align: right;\n",
       "    }\n",
       "</style>\n",
       "<table border=\"1\" class=\"dataframe\">\n",
       "  <thead>\n",
       "    <tr style=\"text-align: right;\">\n",
       "      <th></th>\n",
       "      <th>parcelid</th>\n",
       "      <th>bathroomcnt</th>\n",
       "      <th>bedroomcnt</th>\n",
       "      <th>calculatedbathnbr</th>\n",
       "      <th>calculatedfinishedsquarefeet</th>\n",
       "      <th>finishedsquarefeet12</th>\n",
       "      <th>fips</th>\n",
       "      <th>fullbathcnt</th>\n",
       "      <th>heatingorsystemtypeid</th>\n",
       "      <th>latitude</th>\n",
       "      <th>...</th>\n",
       "      <th>structuretaxvaluedollarcnt</th>\n",
       "      <th>taxvaluedollarcnt</th>\n",
       "      <th>assessmentyear</th>\n",
       "      <th>landtaxvaluedollarcnt</th>\n",
       "      <th>taxamount</th>\n",
       "      <th>censustractandblock</th>\n",
       "      <th>logerror</th>\n",
       "      <th>transactiondate</th>\n",
       "      <th>heatingorsystemdesc</th>\n",
       "      <th>propertylandusedesc</th>\n",
       "    </tr>\n",
       "  </thead>\n",
       "  <tbody>\n",
       "    <tr>\n",
       "      <th>3</th>\n",
       "      <td>12177905</td>\n",
       "      <td>3.0</td>\n",
       "      <td>4.0</td>\n",
       "      <td>3.0</td>\n",
       "      <td>2376.0</td>\n",
       "      <td>2376.0</td>\n",
       "      <td>6037.0</td>\n",
       "      <td>3.0</td>\n",
       "      <td>2.0</td>\n",
       "      <td>34245180.0</td>\n",
       "      <td>...</td>\n",
       "      <td>108918.0</td>\n",
       "      <td>145143.0</td>\n",
       "      <td>2016.0</td>\n",
       "      <td>36225.0</td>\n",
       "      <td>1777.51</td>\n",
       "      <td>6.037300e+13</td>\n",
       "      <td>-0.103410</td>\n",
       "      <td>2017-01-01</td>\n",
       "      <td>Central</td>\n",
       "      <td>Single Family Residential</td>\n",
       "    </tr>\n",
       "    <tr>\n",
       "      <th>4</th>\n",
       "      <td>10887214</td>\n",
       "      <td>3.0</td>\n",
       "      <td>3.0</td>\n",
       "      <td>3.0</td>\n",
       "      <td>1312.0</td>\n",
       "      <td>1312.0</td>\n",
       "      <td>6037.0</td>\n",
       "      <td>3.0</td>\n",
       "      <td>2.0</td>\n",
       "      <td>34185120.0</td>\n",
       "      <td>...</td>\n",
       "      <td>73681.0</td>\n",
       "      <td>119407.0</td>\n",
       "      <td>2016.0</td>\n",
       "      <td>45726.0</td>\n",
       "      <td>1533.89</td>\n",
       "      <td>6.037124e+13</td>\n",
       "      <td>0.006940</td>\n",
       "      <td>2017-01-01</td>\n",
       "      <td>Central</td>\n",
       "      <td>Condominium</td>\n",
       "    </tr>\n",
       "    <tr>\n",
       "      <th>6</th>\n",
       "      <td>12095076</td>\n",
       "      <td>3.0</td>\n",
       "      <td>4.0</td>\n",
       "      <td>3.0</td>\n",
       "      <td>2962.0</td>\n",
       "      <td>2962.0</td>\n",
       "      <td>6037.0</td>\n",
       "      <td>3.0</td>\n",
       "      <td>2.0</td>\n",
       "      <td>34145202.0</td>\n",
       "      <td>...</td>\n",
       "      <td>276684.0</td>\n",
       "      <td>773303.0</td>\n",
       "      <td>2016.0</td>\n",
       "      <td>496619.0</td>\n",
       "      <td>9516.26</td>\n",
       "      <td>6.037461e+13</td>\n",
       "      <td>-0.001011</td>\n",
       "      <td>2017-01-01</td>\n",
       "      <td>Central</td>\n",
       "      <td>Single Family Residential</td>\n",
       "    </tr>\n",
       "    <tr>\n",
       "      <th>9</th>\n",
       "      <td>11542646</td>\n",
       "      <td>3.0</td>\n",
       "      <td>2.0</td>\n",
       "      <td>3.0</td>\n",
       "      <td>1290.0</td>\n",
       "      <td>1290.0</td>\n",
       "      <td>6037.0</td>\n",
       "      <td>3.0</td>\n",
       "      <td>2.0</td>\n",
       "      <td>33998800.0</td>\n",
       "      <td>...</td>\n",
       "      <td>151303.0</td>\n",
       "      <td>371361.0</td>\n",
       "      <td>2016.0</td>\n",
       "      <td>220058.0</td>\n",
       "      <td>4557.32</td>\n",
       "      <td>6.037275e+13</td>\n",
       "      <td>-0.036763</td>\n",
       "      <td>2017-01-02</td>\n",
       "      <td>Central</td>\n",
       "      <td>Condominium</td>\n",
       "    </tr>\n",
       "    <tr>\n",
       "      <th>10</th>\n",
       "      <td>11104527</td>\n",
       "      <td>3.0</td>\n",
       "      <td>4.0</td>\n",
       "      <td>3.0</td>\n",
       "      <td>2540.0</td>\n",
       "      <td>2540.0</td>\n",
       "      <td>6037.0</td>\n",
       "      <td>3.0</td>\n",
       "      <td>2.0</td>\n",
       "      <td>34434971.0</td>\n",
       "      <td>...</td>\n",
       "      <td>271715.0</td>\n",
       "      <td>430108.0</td>\n",
       "      <td>2016.0</td>\n",
       "      <td>158393.0</td>\n",
       "      <td>6103.36</td>\n",
       "      <td>6.037920e+13</td>\n",
       "      <td>0.005963</td>\n",
       "      <td>2017-01-02</td>\n",
       "      <td>Central</td>\n",
       "      <td>Single Family Residential</td>\n",
       "    </tr>\n",
       "  </tbody>\n",
       "</table>\n",
       "<p>5 rows × 30 columns</p>\n",
       "</div>"
      ],
      "text/plain": [
       "    parcelid  bathroomcnt  bedroomcnt  calculatedbathnbr  \\\n",
       "3   12177905          3.0         4.0                3.0   \n",
       "4   10887214          3.0         3.0                3.0   \n",
       "6   12095076          3.0         4.0                3.0   \n",
       "9   11542646          3.0         2.0                3.0   \n",
       "10  11104527          3.0         4.0                3.0   \n",
       "\n",
       "    calculatedfinishedsquarefeet  finishedsquarefeet12    fips  fullbathcnt  \\\n",
       "3                         2376.0                2376.0  6037.0          3.0   \n",
       "4                         1312.0                1312.0  6037.0          3.0   \n",
       "6                         2962.0                2962.0  6037.0          3.0   \n",
       "9                         1290.0                1290.0  6037.0          3.0   \n",
       "10                        2540.0                2540.0  6037.0          3.0   \n",
       "\n",
       "    heatingorsystemtypeid    latitude  ...  structuretaxvaluedollarcnt  \\\n",
       "3                     2.0  34245180.0  ...                    108918.0   \n",
       "4                     2.0  34185120.0  ...                     73681.0   \n",
       "6                     2.0  34145202.0  ...                    276684.0   \n",
       "9                     2.0  33998800.0  ...                    151303.0   \n",
       "10                    2.0  34434971.0  ...                    271715.0   \n",
       "\n",
       "    taxvaluedollarcnt assessmentyear  landtaxvaluedollarcnt  taxamount  \\\n",
       "3            145143.0         2016.0                36225.0    1777.51   \n",
       "4            119407.0         2016.0                45726.0    1533.89   \n",
       "6            773303.0         2016.0               496619.0    9516.26   \n",
       "9            371361.0         2016.0               220058.0    4557.32   \n",
       "10           430108.0         2016.0               158393.0    6103.36   \n",
       "\n",
       "    censustractandblock  logerror  transactiondate  heatingorsystemdesc  \\\n",
       "3          6.037300e+13 -0.103410       2017-01-01              Central   \n",
       "4          6.037124e+13  0.006940       2017-01-01              Central   \n",
       "6          6.037461e+13 -0.001011       2017-01-01              Central   \n",
       "9          6.037275e+13 -0.036763       2017-01-02              Central   \n",
       "10         6.037920e+13  0.005963       2017-01-02              Central   \n",
       "\n",
       "          propertylandusedesc  \n",
       "3   Single Family Residential  \n",
       "4                 Condominium  \n",
       "6   Single Family Residential  \n",
       "9                 Condominium  \n",
       "10  Single Family Residential  \n",
       "\n",
       "[5 rows x 30 columns]"
      ]
     },
     "execution_count": 25,
     "metadata": {},
     "output_type": "execute_result"
    }
   ],
   "source": [
    "zillow_trim.head()"
   ]
  },
  {
   "cell_type": "code",
   "execution_count": 22,
   "id": "b8595978",
   "metadata": {},
   "outputs": [],
   "source": [
    "zillow_trim = zillow2.dropna()"
   ]
  },
  {
   "cell_type": "code",
   "execution_count": 23,
   "id": "baec0508",
   "metadata": {},
   "outputs": [
    {
     "data": {
      "text/plain": [
       "(35214, 30)"
      ]
     },
     "execution_count": 23,
     "metadata": {},
     "output_type": "execute_result"
    }
   ],
   "source": [
    "zillow_trim.shape"
   ]
  },
  {
   "cell_type": "code",
   "execution_count": 26,
   "id": "7c0a8af9",
   "metadata": {},
   "outputs": [],
   "source": [
    "zillow_trim = zillow_trim[['fips', 'taxvaluedollarcnt', 'logerror']]"
   ]
  },
  {
   "cell_type": "code",
   "execution_count": 27,
   "id": "20b46e4a",
   "metadata": {},
   "outputs": [
    {
     "data": {
      "text/plain": [
       "6037.0    34648\n",
       "6059.0      566\n",
       "Name: fips, dtype: int64"
      ]
     },
     "execution_count": 27,
     "metadata": {},
     "output_type": "execute_result"
    }
   ],
   "source": [
    "zillow_trim.fips.value_counts()"
   ]
  },
  {
   "cell_type": "code",
   "execution_count": 31,
   "id": "b121c711",
   "metadata": {},
   "outputs": [],
   "source": [
    "zillow_trim_6307 = zillow_trim[zillow_trim.fips == 6037]"
   ]
  },
  {
   "cell_type": "code",
   "execution_count": 32,
   "id": "c10b11e3",
   "metadata": {},
   "outputs": [
    {
     "data": {
      "text/plain": [
       "(34648, 3)"
      ]
     },
     "execution_count": 32,
     "metadata": {},
     "output_type": "execute_result"
    }
   ],
   "source": [
    "zillow_trim_6307.shape"
   ]
  },
  {
   "cell_type": "code",
   "execution_count": 33,
   "id": "f7e37475",
   "metadata": {},
   "outputs": [
    {
     "data": {
      "text/html": [
       "<div>\n",
       "<style scoped>\n",
       "    .dataframe tbody tr th:only-of-type {\n",
       "        vertical-align: middle;\n",
       "    }\n",
       "\n",
       "    .dataframe tbody tr th {\n",
       "        vertical-align: top;\n",
       "    }\n",
       "\n",
       "    .dataframe thead th {\n",
       "        text-align: right;\n",
       "    }\n",
       "</style>\n",
       "<table border=\"1\" class=\"dataframe\">\n",
       "  <thead>\n",
       "    <tr style=\"text-align: right;\">\n",
       "      <th></th>\n",
       "      <th>fips</th>\n",
       "      <th>taxvaluedollarcnt</th>\n",
       "      <th>logerror</th>\n",
       "    </tr>\n",
       "  </thead>\n",
       "  <tbody>\n",
       "    <tr>\n",
       "      <th>3</th>\n",
       "      <td>6037.0</td>\n",
       "      <td>145143.0</td>\n",
       "      <td>-0.103410</td>\n",
       "    </tr>\n",
       "    <tr>\n",
       "      <th>4</th>\n",
       "      <td>6037.0</td>\n",
       "      <td>119407.0</td>\n",
       "      <td>0.006940</td>\n",
       "    </tr>\n",
       "    <tr>\n",
       "      <th>6</th>\n",
       "      <td>6037.0</td>\n",
       "      <td>773303.0</td>\n",
       "      <td>-0.001011</td>\n",
       "    </tr>\n",
       "    <tr>\n",
       "      <th>9</th>\n",
       "      <td>6037.0</td>\n",
       "      <td>371361.0</td>\n",
       "      <td>-0.036763</td>\n",
       "    </tr>\n",
       "    <tr>\n",
       "      <th>10</th>\n",
       "      <td>6037.0</td>\n",
       "      <td>430108.0</td>\n",
       "      <td>0.005963</td>\n",
       "    </tr>\n",
       "  </tbody>\n",
       "</table>\n",
       "</div>"
      ],
      "text/plain": [
       "      fips  taxvaluedollarcnt  logerror\n",
       "3   6037.0           145143.0 -0.103410\n",
       "4   6037.0           119407.0  0.006940\n",
       "6   6037.0           773303.0 -0.001011\n",
       "9   6037.0           371361.0 -0.036763\n",
       "10  6037.0           430108.0  0.005963"
      ]
     },
     "execution_count": 33,
     "metadata": {},
     "output_type": "execute_result"
    }
   ],
   "source": [
    "zillow_trim_6307.head()"
   ]
  },
  {
   "cell_type": "code",
   "execution_count": 34,
   "id": "5fc0971a",
   "metadata": {},
   "outputs": [
    {
     "data": {
      "text/plain": [
       "array([[<AxesSubplot:title={'center':'fips'}>,\n",
       "        <AxesSubplot:title={'center':'taxvaluedollarcnt'}>],\n",
       "       [<AxesSubplot:title={'center':'logerror'}>, <AxesSubplot:>]],\n",
       "      dtype=object)"
      ]
     },
     "execution_count": 34,
     "metadata": {},
     "output_type": "execute_result"
    },
    {
     "data": {
      "image/png": "[encoded data removed]",
      "text/plain": [
       "<Figure size 432x288 with 4 Axes>"
      ]
     },
     "metadata": {
      "needs_background": "light"
     },
     "output_type": "display_data"
    }
   ],
   "source": [
    "zillow_trim_6307.hist()"
   ]
  },
  {
   "cell_type": "code",
   "execution_count": 35,
   "id": "f013d0e9",
   "metadata": {},
   "outputs": [
    {
     "name": "stdout",
     "output_type": "stream",
     "text": [
      "<class 'pandas.core.frame.DataFrame'>\n",
      "Int64Index: 35214 entries, 3 to 77572\n",
      "Data columns (total 3 columns):\n",
      " #   Column             Non-Null Count  Dtype  \n",
      "---  ------             --------------  -----  \n",
      " 0   fips               35214 non-null  float64\n",
      " 1   taxvaluedollarcnt  35214 non-null  float64\n",
      " 2   logerror           35214 non-null  float64\n",
      "dtypes: float64(3)\n",
      "memory usage: 1.1 MB\n"
     ]
    }
   ],
   "source": [
    "zillow_trim.info()"
   ]
  },
  {
   "cell_type": "code",
   "execution_count": 118,
   "id": "49adfdea",
   "metadata": {},
   "outputs": [
    {
     "data": {
      "text/plain": [
       "<seaborn.axisgrid.JointGrid at 0x7fa22ec8ec10>"
      ]
     },
     "execution_count": 118,
     "metadata": {},
     "output_type": "execute_result"
    },
    {
     "data": {
      "image/png": "[encoded data removed]",
      "text/plain": [
       "<Figure size 432x432 with 3 Axes>"
      ]
     },
     "metadata": {
      "needs_background": "light"
     },
     "output_type": "display_data"
    }
   ],
   "source": [
    "sns.jointplot(x='taxvaluedollarcnt', y='logerror', data=(zillow_2[zillow_2.taxvaluedollarcnt > 500000]), hue='fips')"
   ]
  },
  {
   "cell_type": "code",
   "execution_count": 117,
   "id": "291d2f3a",
   "metadata": {},
   "outputs": [
    {
     "data": {
      "text/plain": [
       "<seaborn.axisgrid.JointGrid at 0x7fa23faa0d00>"
      ]
     },
     "execution_count": 117,
     "metadata": {},
     "output_type": "execute_result"
    },
    {
     "data": {
      "image/png": "[encoded data removed]",
      "text/plain": [
       "<Figure size 432x432 with 3 Axes>"
      ]
     },
     "metadata": {
      "needs_background": "light"
     },
     "output_type": "display_data"
    }
   ],
   "source": [
    "sns.jointplot(x='taxvaluedollarcnt', y='logerror', data=(zillow_2[zillow_2.taxvaluedollarcnt < 500000]), hue='fips')"
   ]
  },
  {
   "cell_type": "code",
   "execution_count": 41,
   "id": "c79a8a95",
   "metadata": {},
   "outputs": [
    {
     "data": {
      "text/html": [
       "<div>\n",
       "<style scoped>\n",
       "    .dataframe tbody tr th:only-of-type {\n",
       "        vertical-align: middle;\n",
       "    }\n",
       "\n",
       "    .dataframe tbody tr th {\n",
       "        vertical-align: top;\n",
       "    }\n",
       "\n",
       "    .dataframe thead th {\n",
       "        text-align: right;\n",
       "    }\n",
       "</style>\n",
       "<table border=\"1\" class=\"dataframe\">\n",
       "  <thead>\n",
       "    <tr style=\"text-align: right;\">\n",
       "      <th></th>\n",
       "      <th>fips</th>\n",
       "      <th>taxvaluedollarcnt</th>\n",
       "      <th>logerror</th>\n",
       "    </tr>\n",
       "  </thead>\n",
       "  <tbody>\n",
       "    <tr>\n",
       "      <th>3</th>\n",
       "      <td>6037.0</td>\n",
       "      <td>145143.0</td>\n",
       "      <td>-0.103410</td>\n",
       "    </tr>\n",
       "    <tr>\n",
       "      <th>4</th>\n",
       "      <td>6037.0</td>\n",
       "      <td>119407.0</td>\n",
       "      <td>0.006940</td>\n",
       "    </tr>\n",
       "    <tr>\n",
       "      <th>6</th>\n",
       "      <td>6037.0</td>\n",
       "      <td>773303.0</td>\n",
       "      <td>-0.001011</td>\n",
       "    </tr>\n",
       "    <tr>\n",
       "      <th>9</th>\n",
       "      <td>6037.0</td>\n",
       "      <td>371361.0</td>\n",
       "      <td>-0.036763</td>\n",
       "    </tr>\n",
       "    <tr>\n",
       "      <th>10</th>\n",
       "      <td>6037.0</td>\n",
       "      <td>430108.0</td>\n",
       "      <td>0.005963</td>\n",
       "    </tr>\n",
       "  </tbody>\n",
       "</table>\n",
       "</div>"
      ],
      "text/plain": [
       "      fips  taxvaluedollarcnt  logerror\n",
       "3   6037.0           145143.0 -0.103410\n",
       "4   6037.0           119407.0  0.006940\n",
       "6   6037.0           773303.0 -0.001011\n",
       "9   6037.0           371361.0 -0.036763\n",
       "10  6037.0           430108.0  0.005963"
      ]
     },
     "execution_count": 41,
     "metadata": {},
     "output_type": "execute_result"
    }
   ],
   "source": []
  },
  {
   "cell_type": "code",
   "execution_count": 42,
   "id": "27a033b5",
   "metadata": {},
   "outputs": [],
   "source": [
    "zillow_trim = zillow2.dropna()"
   ]
  },
  {
   "cell_type": "code",
   "execution_count": 43,
   "id": "8e1a75bd",
   "metadata": {},
   "outputs": [
    {
     "data": {
      "text/plain": [
       "(35214, 30)"
      ]
     },
     "execution_count": 43,
     "metadata": {},
     "output_type": "execute_result"
    }
   ],
   "source": [
    "zillow_trim.shape"
   ]
  },
  {
   "cell_type": "code",
   "execution_count": 46,
   "id": "93cff9fb",
   "metadata": {},
   "outputs": [
    {
     "name": "stdout",
     "output_type": "stream",
     "text": [
      "<class 'pandas.core.frame.DataFrame'>\n",
      "Int64Index: 35214 entries, 3 to 77572\n",
      "Data columns (total 30 columns):\n",
      " #   Column                        Non-Null Count  Dtype  \n",
      "---  ------                        --------------  -----  \n",
      " 0   parcelid                      35214 non-null  int64  \n",
      " 1   bathroomcnt                   35214 non-null  float64\n",
      " 2   bedroomcnt                    35214 non-null  float64\n",
      " 3   calculatedbathnbr             35214 non-null  float64\n",
      " 4   calculatedfinishedsquarefeet  35214 non-null  float64\n",
      " 5   finishedsquarefeet12          35214 non-null  float64\n",
      " 6   fips                          35214 non-null  float64\n",
      " 7   fullbathcnt                   35214 non-null  float64\n",
      " 8   heatingorsystemtypeid         35214 non-null  float64\n",
      " 9   latitude                      35214 non-null  float64\n",
      " 10  longitude                     35214 non-null  float64\n",
      " 11  lotsizesquarefeet             35214 non-null  float64\n",
      " 12  propertycountylandusecode     35214 non-null  object \n",
      " 13  propertylandusetypeid         35214 non-null  float64\n",
      " 14  rawcensustractandblock        35214 non-null  float64\n",
      " 15  regionidcity                  35214 non-null  float64\n",
      " 16  regionidcounty                35214 non-null  float64\n",
      " 17  regionidzip                   35214 non-null  float64\n",
      " 18  roomcnt                       35214 non-null  float64\n",
      " 19  yearbuilt                     35214 non-null  float64\n",
      " 20  structuretaxvaluedollarcnt    35214 non-null  float64\n",
      " 21  taxvaluedollarcnt             35214 non-null  float64\n",
      " 22  assessmentyear                35214 non-null  float64\n",
      " 23  landtaxvaluedollarcnt         35214 non-null  float64\n",
      " 24  taxamount                     35214 non-null  float64\n",
      " 25  censustractandblock           35214 non-null  float64\n",
      " 26  logerror                      35214 non-null  float64\n",
      " 27  transactiondate               35214 non-null  object \n",
      " 28  heatingorsystemdesc           35214 non-null  object \n",
      " 29  propertylandusedesc           35214 non-null  object \n",
      "dtypes: float64(25), int64(1), object(4)\n",
      "memory usage: 8.3+ MB\n"
     ]
    }
   ],
   "source": [
    "zillow_trim.info()"
   ]
  },
  {
   "cell_type": "code",
   "execution_count": 110,
   "id": "f3cfde50",
   "metadata": {},
   "outputs": [
    {
     "ename": "AttributeError",
     "evalue": "'DataFrame' object has no attribute 'reigionidzip'",
     "output_type": "error",
     "traceback": [
      "\u001b[0;31m---------------------------------------------------------------------------\u001b[0m",
      "\u001b[0;31mAttributeError\u001b[0m                            Traceback (most recent call last)",
      "\u001b[0;32m/var/folders/pt/3m3r1rq55pdgzpmnqzkdjb240000gn/T/ipykernel_22829/1465921721.py\u001b[0m in \u001b[0;36m<module>\u001b[0;34m\u001b[0m\n\u001b[0;32m----> 1\u001b[0;31m \u001b[0mzillow_2\u001b[0m\u001b[0;34m.\u001b[0m\u001b[0mreigionidzip\u001b[0m\u001b[0;34m.\u001b[0m\u001b[0mhead\u001b[0m\u001b[0;34m(\u001b[0m\u001b[0;34m)\u001b[0m\u001b[0;34m\u001b[0m\u001b[0;34m\u001b[0m\u001b[0m\n\u001b[0m",
      "\u001b[0;32m/opt/homebrew/anaconda3/lib/python3.9/site-packages/pandas/core/generic.py\u001b[0m in \u001b[0;36m__getattr__\u001b[0;34m(self, name)\u001b[0m\n\u001b[1;32m   5485\u001b[0m         ):\n\u001b[1;32m   5486\u001b[0m             \u001b[0;32mreturn\u001b[0m \u001b[0mself\u001b[0m\u001b[0;34m[\u001b[0m\u001b[0mname\u001b[0m\u001b[0;34m]\u001b[0m\u001b[0;34m\u001b[0m\u001b[0;34m\u001b[0m\u001b[0m\n\u001b[0;32m-> 5487\u001b[0;31m         \u001b[0;32mreturn\u001b[0m \u001b[0mobject\u001b[0m\u001b[0;34m.\u001b[0m\u001b[0m__getattribute__\u001b[0m\u001b[0;34m(\u001b[0m\u001b[0mself\u001b[0m\u001b[0;34m,\u001b[0m \u001b[0mname\u001b[0m\u001b[0;34m)\u001b[0m\u001b[0;34m\u001b[0m\u001b[0;34m\u001b[0m\u001b[0m\n\u001b[0m\u001b[1;32m   5488\u001b[0m \u001b[0;34m\u001b[0m\u001b[0m\n\u001b[1;32m   5489\u001b[0m     \u001b[0;32mdef\u001b[0m \u001b[0m__setattr__\u001b[0m\u001b[0;34m(\u001b[0m\u001b[0mself\u001b[0m\u001b[0;34m,\u001b[0m \u001b[0mname\u001b[0m\u001b[0;34m:\u001b[0m \u001b[0mstr\u001b[0m\u001b[0;34m,\u001b[0m \u001b[0mvalue\u001b[0m\u001b[0;34m)\u001b[0m \u001b[0;34m->\u001b[0m \u001b[0;32mNone\u001b[0m\u001b[0;34m:\u001b[0m\u001b[0;34m\u001b[0m\u001b[0;34m\u001b[0m\u001b[0m\n",
      "\u001b[0;31mAttributeError\u001b[0m: 'DataFrame' object has no attribute 'reigionidzip'"
     ]
    }
   ],
   "source": [
    "zillow_2.reigionidzip.head()"
   ]
  },
  {
   "cell_type": "code",
   "execution_count": 74,
   "id": "efe75bd8",
   "metadata": {},
   "outputs": [
    {
     "data": {
      "text/plain": [
       "97319.0    709\n",
       "97318.0    585\n",
       "97329.0    551\n",
       "97328.0    458\n",
       "96368.0    423\n",
       "96389.0    399\n",
       "96378.0    385\n",
       "96370.0    372\n",
       "96364.0    372\n",
       "96401.0    371\n",
       "96505.0    354\n",
       "96030.0    354\n",
       "97330.0    352\n",
       "96236.0    332\n",
       "96242.0    318\n",
       "96349.0    313\n",
       "96369.0    300\n",
       "96346.0    292\n",
       "96247.0    291\n",
       "96379.0    290\n",
       "96050.0    286\n",
       "96023.0    286\n",
       "96361.0    283\n",
       "96374.0    283\n",
       "96339.0    282\n",
       "96449.0    279\n",
       "96352.0    278\n",
       "96387.0    276\n",
       "96237.0    270\n",
       "96027.0    265\n",
       "96341.0    263\n",
       "96424.0    263\n",
       "96356.0    261\n",
       "96239.0    257\n",
       "96412.0    257\n",
       "96415.0    250\n",
       "96398.0    247\n",
       "96222.0    247\n",
       "96049.0    247\n",
       "96120.0    244\n",
       "96047.0    237\n",
       "96377.0    228\n",
       "96373.0    227\n",
       "96336.0    227\n",
       "96005.0    223\n",
       "96469.0    223\n",
       "96241.0    220\n",
       "96163.0    218\n",
       "96342.0    217\n",
       "96221.0    215\n",
       "96026.0    215\n",
       "96522.0    214\n",
       "97317.0    214\n",
       "96337.0    213\n",
       "96410.0    206\n",
       "96045.0    204\n",
       "96086.0    201\n",
       "96513.0    193\n",
       "96006.0    192\n",
       "96494.0    189\n",
       "Name: regionidzip, dtype: int64"
      ]
     },
     "execution_count": 74,
     "metadata": {},
     "output_type": "execute_result"
    }
   ],
   "source": [
    "zillow_trim.regionidzip.value_counts(ascending = False).head(60)"
   ]
  },
  {
   "cell_type": "code",
   "execution_count": 58,
   "id": "5a325ee9",
   "metadata": {},
   "outputs": [
    {
     "data": {
      "text/plain": [
       "<seaborn.axisgrid.JointGrid at 0x7fa568fbd6d0>"
      ]
     },
     "execution_count": 58,
     "metadata": {},
     "output_type": "execute_result"
    },
    {
     "data": {
      "image/png": "[encoded data removed]",
      "text/plain": [
       "<Figure size 432x432 with 3 Axes>"
      ]
     },
     "metadata": {
      "needs_background": "light"
     },
     "output_type": "display_data"
    }
   ],
   "source": [
    "sns.jointplot(x='regionidzip', y='logerror', data=zillow_trim)"
   ]
  },
  {
   "cell_type": "code",
   "execution_count": 59,
   "id": "44b31d77",
   "metadata": {},
   "outputs": [],
   "source": [
    "zillow_trim_highzip = zillow_trim[zillow_trim.regionidzip > 350000]"
   ]
  },
  {
   "cell_type": "code",
   "execution_count": 64,
   "id": "dda36941",
   "metadata": {},
   "outputs": [
    {
     "data": {
      "text/plain": [
       "707659.0     1\n",
       "924794.0     1\n",
       "4535969.0    1\n",
       "4548320.0    1\n",
       "753001.0     1\n",
       "719700.0     1\n",
       "3084328.0    1\n",
       "150916.0     1\n",
       "524894.0     1\n",
       "1591558.0    1\n",
       "Name: taxvaluedollarcnt, dtype: int64"
      ]
     },
     "execution_count": 64,
     "metadata": {},
     "output_type": "execute_result"
    }
   ],
   "source": [
    "zillow_trim_highzip.taxvaluedollarcnt.value_counts()"
   ]
  },
  {
   "cell_type": "code",
   "execution_count": 66,
   "id": "28051e17",
   "metadata": {},
   "outputs": [
    {
     "data": {
      "text/plain": [
       "450000.0    28\n",
       "315000.0    25\n",
       "300000.0    24\n",
       "355000.0    23\n",
       "270000.0    22\n",
       "            ..\n",
       "270042.0     1\n",
       "740405.0     1\n",
       "88890.0      1\n",
       "262587.0     1\n",
       "49546.0      1\n",
       "Name: taxvaluedollarcnt, Length: 25594, dtype: int64"
      ]
     },
     "execution_count": 66,
     "metadata": {},
     "output_type": "execute_result"
    }
   ],
   "source": [
    "zillow_trim[zillow_trim.regionidzip < 300000].taxvaluedollarcnt.value_counts()"
   ]
  },
  {
   "cell_type": "code",
   "execution_count": 67,
   "id": "66d4354a",
   "metadata": {},
   "outputs": [
    {
     "data": {
      "text/plain": [
       "2017-06-30    549\n",
       "2017-04-28    442\n",
       "2017-05-31    395\n",
       "2017-07-28    386\n",
       "2017-03-31    383\n",
       "             ... \n",
       "2017-04-16      1\n",
       "2017-08-12      1\n",
       "2017-06-04      1\n",
       "2017-07-22      1\n",
       "2017-09-21      1\n",
       "Name: transactiondate, Length: 246, dtype: int64"
      ]
     },
     "execution_count": 67,
     "metadata": {},
     "output_type": "execute_result"
    }
   ],
   "source": [
    "zillow_trim.transactiondate.value_counts()"
   ]
  },
  {
   "cell_type": "code",
   "execution_count": null,
   "id": "3928ef8c",
   "metadata": {
    "scrolled": true
   },
   "outputs": [],
   "source": [
    "sns.jointplot(x='transactiondate', y='logerror', data=zillow_trim)"
   ]
  },
  {
   "cell_type": "code",
   "execution_count": null,
   "id": "65d7506f",
   "metadata": {},
   "outputs": [],
   "source": [
    "sns.jointplot(x='transactiondate', y='logerror', data=zillow_2)"
   ]
  },
  {
   "cell_type": "code",
   "execution_count": 104,
   "id": "43f23f33",
   "metadata": {},
   "outputs": [
    {
     "data": {
      "text/plain": [
       "<AxesSubplot:xlabel='fips', ylabel='logerror'>"
      ]
     },
     "execution_count": 104,
     "metadata": {},
     "output_type": "execute_result"
    },
    {
     "data": {
      "image/png": "[encoded data removed]",
      "text/plain": [
       "<Figure size 432x288 with 1 Axes>"
      ]
     },
     "metadata": {
      "needs_background": "light"
     },
     "output_type": "display_data"
    }
   ],
   "source": [
    "sns.boxplot(x='fips', y='logerror', data=zillow_2)"
   ]
  },
  {
   "cell_type": "code",
   "execution_count": null,
   "id": "07411937",
   "metadata": {},
   "outputs": [],
   "source": [
    "sns.boxplot(x='fips', y='taxvaluedollarcnt', data=zillow_2)"
   ]
  },
  {
   "cell_type": "code",
   "execution_count": 83,
   "id": "d61d8159",
   "metadata": {},
   "outputs": [],
   "source": [
    "zillow_trim_zips = zillow_trim[(zillow_trim.regionidzip > 95000) & (zillow_trim.regionidzip < 98000)]"
   ]
  },
  {
   "cell_type": "code",
   "execution_count": 84,
   "id": "d6fbd47f",
   "metadata": {},
   "outputs": [
    {
     "data": {
      "text/plain": [
       "<seaborn.axisgrid.JointGrid at 0x7fa52f2b5190>"
      ]
     },
     "execution_count": 84,
     "metadata": {},
     "output_type": "execute_result"
    },
    {
     "data": {
      "image/png": "[encoded data removed]",
      "text/plain": [
       "<Figure size 432x432 with 3 Axes>"
      ]
     },
     "metadata": {
      "needs_background": "light"
     },
     "output_type": "display_data"
    }
   ],
   "source": [
    "sns.jointplot(x='regionidzip', y='logerror', data=zillow_trim_zips)"
   ]
  },
  {
   "cell_type": "code",
   "execution_count": 85,
   "id": "35fba9fc",
   "metadata": {},
   "outputs": [
    {
     "data": {
      "text/plain": [
       "<seaborn.axisgrid.JointGrid at 0x7fa55ac4dc70>"
      ]
     },
     "execution_count": 85,
     "metadata": {},
     "output_type": "execute_result"
    },
    {
     "data": {
      "image/png": "[encoded data removed]",
      "text/plain": [
       "<Figure size 432x432 with 3 Axes>"
      ]
     },
     "metadata": {
      "needs_background": "light"
     },
     "output_type": "display_data"
    }
   ],
   "source": [
    "sns.jointplot(x='taxvaluedollarcnt', y='logerror', data=zillow_trim_zips, hue='regionidzip')"
   ]
  },
  {
   "cell_type": "code",
   "execution_count": 115,
   "id": "0570f50e",
   "metadata": {},
   "outputs": [
    {
     "data": {
      "text/plain": [
       "<seaborn.axisgrid.JointGrid at 0x7fa21c2572b0>"
      ]
     },
     "execution_count": 115,
     "metadata": {},
     "output_type": "execute_result"
    },
    {
     "data": {
      "image/png": "[encoded data removed]",
      "text/plain": [
       "<Figure size 432x432 with 3 Axes>"
      ]
     },
     "metadata": {
      "needs_background": "light"
     },
     "output_type": "display_data"
    }
   ],
   "source": [
    "sns.jointplot(x='regionidzip', y='taxvaluedollarcnt', data=zillow_2)"
   ]
  },
  {
   "cell_type": "code",
   "execution_count": 92,
   "id": "d059bbe9",
   "metadata": {},
   "outputs": [],
   "source": [
    "zillow_2 = zillow[['fips', 'logerror', 'taxvaluedollarcnt', 'transactiondate', 'regionidzip']]"
   ]
  },
  {
   "cell_type": "code",
   "execution_count": 93,
   "id": "3ca6189d",
   "metadata": {},
   "outputs": [
    {
     "data": {
      "text/html": [
       "<div>\n",
       "<style scoped>\n",
       "    .dataframe tbody tr th:only-of-type {\n",
       "        vertical-align: middle;\n",
       "    }\n",
       "\n",
       "    .dataframe tbody tr th {\n",
       "        vertical-align: top;\n",
       "    }\n",
       "\n",
       "    .dataframe thead th {\n",
       "        text-align: right;\n",
       "    }\n",
       "</style>\n",
       "<table border=\"1\" class=\"dataframe\">\n",
       "  <thead>\n",
       "    <tr style=\"text-align: right;\">\n",
       "      <th></th>\n",
       "      <th>fips</th>\n",
       "      <th>logerror</th>\n",
       "      <th>taxvaluedollarcnt</th>\n",
       "      <th>transactiondate</th>\n",
       "      <th>regionidzip</th>\n",
       "    </tr>\n",
       "  </thead>\n",
       "  <tbody>\n",
       "    <tr>\n",
       "      <th>0</th>\n",
       "      <td>6059.0</td>\n",
       "      <td>0.025595</td>\n",
       "      <td>1023282.0</td>\n",
       "      <td>2017-01-01</td>\n",
       "      <td>96978.0</td>\n",
       "    </tr>\n",
       "    <tr>\n",
       "      <th>1</th>\n",
       "      <td>6111.0</td>\n",
       "      <td>0.055619</td>\n",
       "      <td>464000.0</td>\n",
       "      <td>2017-01-01</td>\n",
       "      <td>97099.0</td>\n",
       "    </tr>\n",
       "    <tr>\n",
       "      <th>2</th>\n",
       "      <td>6059.0</td>\n",
       "      <td>0.005383</td>\n",
       "      <td>564778.0</td>\n",
       "      <td>2017-01-01</td>\n",
       "      <td>97078.0</td>\n",
       "    </tr>\n",
       "    <tr>\n",
       "      <th>3</th>\n",
       "      <td>6037.0</td>\n",
       "      <td>-0.103410</td>\n",
       "      <td>145143.0</td>\n",
       "      <td>2017-01-01</td>\n",
       "      <td>96330.0</td>\n",
       "    </tr>\n",
       "    <tr>\n",
       "      <th>4</th>\n",
       "      <td>6037.0</td>\n",
       "      <td>0.006940</td>\n",
       "      <td>119407.0</td>\n",
       "      <td>2017-01-01</td>\n",
       "      <td>96451.0</td>\n",
       "    </tr>\n",
       "  </tbody>\n",
       "</table>\n",
       "</div>"
      ],
      "text/plain": [
       "     fips  logerror  taxvaluedollarcnt transactiondate  regionidzip\n",
       "0  6059.0  0.025595          1023282.0      2017-01-01      96978.0\n",
       "1  6111.0  0.055619           464000.0      2017-01-01      97099.0\n",
       "2  6059.0  0.005383           564778.0      2017-01-01      97078.0\n",
       "3  6037.0 -0.103410           145143.0      2017-01-01      96330.0\n",
       "4  6037.0  0.006940           119407.0      2017-01-01      96451.0"
      ]
     },
     "execution_count": 93,
     "metadata": {},
     "output_type": "execute_result"
    }
   ],
   "source": [
    "zillow_2.head()"
   ]
  },
  {
   "cell_type": "code",
   "execution_count": 88,
   "id": "cd7c1126",
   "metadata": {},
   "outputs": [
    {
     "data": {
      "text/plain": [
       "fips                 0\n",
       "logerror             0\n",
       "taxvaluedollarcnt    1\n",
       "transactiondate      0\n",
       "dtype: int64"
      ]
     },
     "execution_count": 88,
     "metadata": {},
     "output_type": "execute_result"
    }
   ],
   "source": [
    "zillow_2.isnull().sum()"
   ]
  },
  {
   "cell_type": "code",
   "execution_count": 90,
   "id": "29696948",
   "metadata": {},
   "outputs": [],
   "source": [
    "zillow_2 = zillow_2.dropna()"
   ]
  },
  {
   "cell_type": "code",
   "execution_count": 91,
   "id": "350d88cf",
   "metadata": {},
   "outputs": [
    {
     "data": {
      "text/plain": [
       "<seaborn.axisgrid.JointGrid at 0x7fa550a92fa0>"
      ]
     },
     "execution_count": 91,
     "metadata": {},
     "output_type": "execute_result"
    },
    {
     "data": {
      "image/png": "[encoded data removed]",
      "text/plain": [
       "<Figure size 432x432 with 3 Axes>"
      ]
     },
     "metadata": {
      "needs_background": "light"
     },
     "output_type": "display_data"
    }
   ],
   "source": [
    "sns.jointplot(x='taxvaluedollarcnt', y='logerror', data=zillow_2, hue='fips')"
   ]
  },
  {
   "cell_type": "code",
   "execution_count": 97,
   "id": "1d1fef26",
   "metadata": {},
   "outputs": [
    {
     "data": {
      "text/plain": [
       "2017-06-30    1194\n",
       "2017-04-28     917\n",
       "2017-05-31     868\n",
       "2017-07-28     815\n",
       "2017-08-31     782\n",
       "              ... \n",
       "2017-03-12       1\n",
       "2017-07-22       1\n",
       "2017-08-05       1\n",
       "2017-08-06       1\n",
       "2017-09-25       1\n",
       "Name: transactiondate, Length: 264, dtype: int64"
      ]
     },
     "execution_count": 97,
     "metadata": {},
     "output_type": "execute_result"
    }
   ],
   "source": [
    "zillow_2.transactiondate.value_counts()"
   ]
  },
  {
   "cell_type": "code",
   "execution_count": 103,
   "id": "416f70dd",
   "metadata": {},
   "outputs": [
    {
     "ename": "TypeError",
     "evalue": "The x variable is categorical, but one of ['numeric', 'datetime'] is required",
     "output_type": "error",
     "traceback": [
      "\u001b[0;31m---------------------------------------------------------------------------\u001b[0m",
      "\u001b[0;31mTypeError\u001b[0m                                 Traceback (most recent call last)",
      "\u001b[0;32m/var/folders/pt/3m3r1rq55pdgzpmnqzkdjb240000gn/T/ipykernel_22829/1358825137.py\u001b[0m in \u001b[0;36m<module>\u001b[0;34m\u001b[0m\n\u001b[0;32m----> 1\u001b[0;31m \u001b[0msns\u001b[0m\u001b[0;34m.\u001b[0m\u001b[0mjointplot\u001b[0m\u001b[0;34m(\u001b[0m\u001b[0mx\u001b[0m\u001b[0;34m=\u001b[0m\u001b[0;34m'transactiondate'\u001b[0m\u001b[0;34m,\u001b[0m \u001b[0my\u001b[0m\u001b[0;34m=\u001b[0m\u001b[0;34m'logerror'\u001b[0m\u001b[0;34m,\u001b[0m \u001b[0mdata\u001b[0m\u001b[0;34m=\u001b[0m\u001b[0mzillow_2\u001b[0m\u001b[0;34m,\u001b[0m \u001b[0mhue\u001b[0m\u001b[0;34m=\u001b[0m\u001b[0;34m'fips'\u001b[0m\u001b[0;34m)\u001b[0m\u001b[0;34m\u001b[0m\u001b[0;34m\u001b[0m\u001b[0m\n\u001b[0m",
      "\u001b[0;32m/opt/homebrew/anaconda3/lib/python3.9/site-packages/seaborn/_decorators.py\u001b[0m in \u001b[0;36minner_f\u001b[0;34m(*args, **kwargs)\u001b[0m\n\u001b[1;32m     44\u001b[0m             )\n\u001b[1;32m     45\u001b[0m         \u001b[0mkwargs\u001b[0m\u001b[0;34m.\u001b[0m\u001b[0mupdate\u001b[0m\u001b[0;34m(\u001b[0m\u001b[0;34m{\u001b[0m\u001b[0mk\u001b[0m\u001b[0;34m:\u001b[0m \u001b[0marg\u001b[0m \u001b[0;32mfor\u001b[0m \u001b[0mk\u001b[0m\u001b[0;34m,\u001b[0m \u001b[0marg\u001b[0m \u001b[0;32min\u001b[0m \u001b[0mzip\u001b[0m\u001b[0;34m(\u001b[0m\u001b[0msig\u001b[0m\u001b[0;34m.\u001b[0m\u001b[0mparameters\u001b[0m\u001b[0;34m,\u001b[0m \u001b[0margs\u001b[0m\u001b[0;34m)\u001b[0m\u001b[0;34m}\u001b[0m\u001b[0;34m)\u001b[0m\u001b[0;34m\u001b[0m\u001b[0;34m\u001b[0m\u001b[0m\n\u001b[0;32m---> 46\u001b[0;31m         \u001b[0;32mreturn\u001b[0m \u001b[0mf\u001b[0m\u001b[0;34m(\u001b[0m\u001b[0;34m**\u001b[0m\u001b[0mkwargs\u001b[0m\u001b[0;34m)\u001b[0m\u001b[0;34m\u001b[0m\u001b[0;34m\u001b[0m\u001b[0m\n\u001b[0m\u001b[1;32m     47\u001b[0m     \u001b[0;32mreturn\u001b[0m \u001b[0minner_f\u001b[0m\u001b[0;34m\u001b[0m\u001b[0;34m\u001b[0m\u001b[0m\n\u001b[1;32m     48\u001b[0m \u001b[0;34m\u001b[0m\u001b[0m\n",
      "\u001b[0;32m/opt/homebrew/anaconda3/lib/python3.9/site-packages/seaborn/axisgrid.py\u001b[0m in \u001b[0;36mjointplot\u001b[0;34m(x, y, data, kind, color, height, ratio, space, dropna, xlim, ylim, marginal_ticks, joint_kws, marginal_kws, hue, palette, hue_order, hue_norm, **kwargs)\u001b[0m\n\u001b[1;32m   2252\u001b[0m \u001b[0;34m\u001b[0m\u001b[0m\n\u001b[1;32m   2253\u001b[0m         \u001b[0mmarginal_kws\u001b[0m\u001b[0;34m.\u001b[0m\u001b[0msetdefault\u001b[0m\u001b[0;34m(\u001b[0m\u001b[0;34m\"color\"\u001b[0m\u001b[0;34m,\u001b[0m \u001b[0mcolor\u001b[0m\u001b[0;34m)\u001b[0m\u001b[0;34m\u001b[0m\u001b[0;34m\u001b[0m\u001b[0m\n\u001b[0;32m-> 2254\u001b[0;31m         \u001b[0mgrid\u001b[0m\u001b[0;34m.\u001b[0m\u001b[0mplot_marginals\u001b[0m\u001b[0;34m(\u001b[0m\u001b[0mmarg_func\u001b[0m\u001b[0;34m,\u001b[0m \u001b[0;34m**\u001b[0m\u001b[0mmarginal_kws\u001b[0m\u001b[0;34m)\u001b[0m\u001b[0;34m\u001b[0m\u001b[0;34m\u001b[0m\u001b[0m\n\u001b[0m\u001b[1;32m   2255\u001b[0m \u001b[0;34m\u001b[0m\u001b[0m\n\u001b[1;32m   2256\u001b[0m     \u001b[0;32melif\u001b[0m \u001b[0mkind\u001b[0m\u001b[0;34m.\u001b[0m\u001b[0mstartswith\u001b[0m\u001b[0;34m(\u001b[0m\u001b[0;34m\"hist\"\u001b[0m\u001b[0;34m)\u001b[0m\u001b[0;34m:\u001b[0m\u001b[0;34m\u001b[0m\u001b[0;34m\u001b[0m\u001b[0m\n",
      "\u001b[0;32m/opt/homebrew/anaconda3/lib/python3.9/site-packages/seaborn/axisgrid.py\u001b[0m in \u001b[0;36mplot_marginals\u001b[0;34m(self, func, **kwargs)\u001b[0m\n\u001b[1;32m   1855\u001b[0m \u001b[0;34m\u001b[0m\u001b[0m\n\u001b[1;32m   1856\u001b[0m         \u001b[0;32mif\u001b[0m \u001b[0mseaborn_func\u001b[0m\u001b[0;34m:\u001b[0m\u001b[0;34m\u001b[0m\u001b[0;34m\u001b[0m\u001b[0m\n\u001b[0;32m-> 1857\u001b[0;31m             \u001b[0mfunc\u001b[0m\u001b[0;34m(\u001b[0m\u001b[0mx\u001b[0m\u001b[0;34m=\u001b[0m\u001b[0mself\u001b[0m\u001b[0;34m.\u001b[0m\u001b[0mx\u001b[0m\u001b[0;34m,\u001b[0m \u001b[0max\u001b[0m\u001b[0;34m=\u001b[0m\u001b[0mself\u001b[0m\u001b[0;34m.\u001b[0m\u001b[0max_marg_x\u001b[0m\u001b[0;34m,\u001b[0m \u001b[0;34m**\u001b[0m\u001b[0mkwargs\u001b[0m\u001b[0;34m)\u001b[0m\u001b[0;34m\u001b[0m\u001b[0;34m\u001b[0m\u001b[0m\n\u001b[0m\u001b[1;32m   1858\u001b[0m         \u001b[0;32melse\u001b[0m\u001b[0;34m:\u001b[0m\u001b[0;34m\u001b[0m\u001b[0;34m\u001b[0m\u001b[0m\n\u001b[1;32m   1859\u001b[0m             \u001b[0mplt\u001b[0m\u001b[0;34m.\u001b[0m\u001b[0msca\u001b[0m\u001b[0;34m(\u001b[0m\u001b[0mself\u001b[0m\u001b[0;34m.\u001b[0m\u001b[0max_marg_x\u001b[0m\u001b[0;34m)\u001b[0m\u001b[0;34m\u001b[0m\u001b[0;34m\u001b[0m\u001b[0m\n",
      "\u001b[0;32m/opt/homebrew/anaconda3/lib/python3.9/site-packages/seaborn/_decorators.py\u001b[0m in \u001b[0;36minner_f\u001b[0;34m(*args, **kwargs)\u001b[0m\n\u001b[1;32m     44\u001b[0m             )\n\u001b[1;32m     45\u001b[0m         \u001b[0mkwargs\u001b[0m\u001b[0;34m.\u001b[0m\u001b[0mupdate\u001b[0m\u001b[0;34m(\u001b[0m\u001b[0;34m{\u001b[0m\u001b[0mk\u001b[0m\u001b[0;34m:\u001b[0m \u001b[0marg\u001b[0m \u001b[0;32mfor\u001b[0m \u001b[0mk\u001b[0m\u001b[0;34m,\u001b[0m \u001b[0marg\u001b[0m \u001b[0;32min\u001b[0m \u001b[0mzip\u001b[0m\u001b[0;34m(\u001b[0m\u001b[0msig\u001b[0m\u001b[0;34m.\u001b[0m\u001b[0mparameters\u001b[0m\u001b[0;34m,\u001b[0m \u001b[0margs\u001b[0m\u001b[0;34m)\u001b[0m\u001b[0;34m}\u001b[0m\u001b[0;34m)\u001b[0m\u001b[0;34m\u001b[0m\u001b[0;34m\u001b[0m\u001b[0m\n\u001b[0;32m---> 46\u001b[0;31m         \u001b[0;32mreturn\u001b[0m \u001b[0mf\u001b[0m\u001b[0;34m(\u001b[0m\u001b[0;34m**\u001b[0m\u001b[0mkwargs\u001b[0m\u001b[0;34m)\u001b[0m\u001b[0;34m\u001b[0m\u001b[0;34m\u001b[0m\u001b[0m\n\u001b[0m\u001b[1;32m     47\u001b[0m     \u001b[0;32mreturn\u001b[0m \u001b[0minner_f\u001b[0m\u001b[0;34m\u001b[0m\u001b[0;34m\u001b[0m\u001b[0m\n\u001b[1;32m     48\u001b[0m \u001b[0;34m\u001b[0m\u001b[0m\n",
      "\u001b[0;32m/opt/homebrew/anaconda3/lib/python3.9/site-packages/seaborn/distributions.py\u001b[0m in \u001b[0;36mkdeplot\u001b[0;34m(x, y, shade, vertical, kernel, bw, gridsize, cut, clip, legend, cumulative, shade_lowest, cbar, cbar_ax, cbar_kws, ax, weights, hue, palette, hue_order, hue_norm, multiple, common_norm, common_grid, levels, thresh, bw_method, bw_adjust, log_scale, color, fill, data, data2, warn_singular, **kwargs)\u001b[0m\n\u001b[1;32m   1760\u001b[0m     )\n\u001b[1;32m   1761\u001b[0m \u001b[0;34m\u001b[0m\u001b[0m\n\u001b[0;32m-> 1762\u001b[0;31m     \u001b[0mp\u001b[0m\u001b[0;34m.\u001b[0m\u001b[0m_attach\u001b[0m\u001b[0;34m(\u001b[0m\u001b[0max\u001b[0m\u001b[0;34m,\u001b[0m \u001b[0mallowed_types\u001b[0m\u001b[0;34m=\u001b[0m\u001b[0;34m[\u001b[0m\u001b[0;34m\"numeric\"\u001b[0m\u001b[0;34m,\u001b[0m \u001b[0;34m\"datetime\"\u001b[0m\u001b[0;34m]\u001b[0m\u001b[0;34m,\u001b[0m \u001b[0mlog_scale\u001b[0m\u001b[0;34m=\u001b[0m\u001b[0mlog_scale\u001b[0m\u001b[0;34m)\u001b[0m\u001b[0;34m\u001b[0m\u001b[0;34m\u001b[0m\u001b[0m\n\u001b[0m\u001b[1;32m   1763\u001b[0m \u001b[0;34m\u001b[0m\u001b[0m\n\u001b[1;32m   1764\u001b[0m     \u001b[0;32mif\u001b[0m \u001b[0mp\u001b[0m\u001b[0;34m.\u001b[0m\u001b[0munivariate\u001b[0m\u001b[0;34m:\u001b[0m\u001b[0;34m\u001b[0m\u001b[0;34m\u001b[0m\u001b[0m\n",
      "\u001b[0;32m/opt/homebrew/anaconda3/lib/python3.9/site-packages/seaborn/_core.py\u001b[0m in \u001b[0;36m_attach\u001b[0;34m(self, obj, allowed_types, log_scale)\u001b[0m\n\u001b[1;32m   1123\u001b[0m                     \u001b[0;34mf\"{allowed_types} is required\"\u001b[0m\u001b[0;34m\u001b[0m\u001b[0;34m\u001b[0m\u001b[0m\n\u001b[1;32m   1124\u001b[0m                 )\n\u001b[0;32m-> 1125\u001b[0;31m                 \u001b[0;32mraise\u001b[0m \u001b[0mTypeError\u001b[0m\u001b[0;34m(\u001b[0m\u001b[0merr\u001b[0m\u001b[0;34m)\u001b[0m\u001b[0;34m\u001b[0m\u001b[0;34m\u001b[0m\u001b[0m\n\u001b[0m\u001b[1;32m   1126\u001b[0m \u001b[0;34m\u001b[0m\u001b[0m\n\u001b[1;32m   1127\u001b[0m             \u001b[0;31m# Register with the matplotlib unit conversion machinery\u001b[0m\u001b[0;34m\u001b[0m\u001b[0;34m\u001b[0m\u001b[0m\n",
      "\u001b[0;31mTypeError\u001b[0m: The x variable is categorical, but one of ['numeric', 'datetime'] is required"
     ]
    },
    {
     "data": {
      "image/png": "[encoded data removed]",
      "text/plain": [
       "<Figure size 432x432 with 3 Axes>"
      ]
     },
     "metadata": {
      "needs_background": "light"
     },
     "output_type": "display_data"
    }
   ],
   "source": [
    "sns.jointplot(x='transactiondate', y='logerror', data=zillow_2, hue='fips')"
   ]
  },
  {
   "cell_type": "code",
   "execution_count": 108,
   "id": "b3d4cadc",
   "metadata": {},
   "outputs": [
    {
     "data": {
      "text/plain": [
       "<seaborn.axisgrid.JointGrid at 0x7fa23db0c460>"
      ]
     },
     "execution_count": 108,
     "metadata": {},
     "output_type": "execute_result"
    },
    {
     "data": {
      "image/png": "[encoded data removed]",
      "text/plain": [
       "<Figure size 432x432 with 3 Axes>"
      ]
     },
     "metadata": {
      "needs_background": "light"
     },
     "output_type": "display_data"
    }
   ],
   "source": [
    "sns.jointplot(x='logerror', y='regionidzip', data=zillow_2, hue='fips')"
   ]
  },
  {
   "cell_type": "code",
   "execution_count": 111,
   "id": "2a2e15b8",
   "metadata": {},
   "outputs": [
    {
     "data": {
      "text/plain": [
       "0        6059.0\n",
       "1        6111.0\n",
       "2        6059.0\n",
       "3        6037.0\n",
       "4        6037.0\n",
       "          ...  \n",
       "77569    6037.0\n",
       "77570    6037.0\n",
       "77571    6111.0\n",
       "77572    6037.0\n",
       "77573    6037.0\n",
       "Name: fips, Length: 77574, dtype: float64"
      ]
     },
     "execution_count": 111,
     "metadata": {},
     "output_type": "execute_result"
    }
   ],
   "source": [
    "zillow_2.fips"
   ]
  },
  {
   "cell_type": "code",
   "execution_count": 113,
   "id": "36ca9330",
   "metadata": {},
   "outputs": [
    {
     "data": {
      "image/png": "[encoded data removed]",
      "text/plain": [
       "<Figure size 432x288 with 1 Axes>"
      ]
     },
     "metadata": {
      "needs_background": "light"
     },
     "output_type": "display_data"
    }
   ],
   "source": [
    "sns.boxplot(data=zillow_2, x='fips', y='logerror')\n",
    "plt.show()"
   ]
  },
  {
   "cell_type": "code",
   "execution_count": null,
   "id": "5442dbfc",
   "metadata": {},
   "outputs": [],
   "source": []
  }
 ],
 "metadata": {
  "kernelspec": {
   "display_name": "Python 3.9.7 64-bit ('base': conda)",
   "language": "python",
   "name": "python397jvsc74a57bd038cca0c38332a56087b24af0bc80247f4fced29cb4f7f437d91dc159adec9c4e"
  },
  "language_info": {
   "codemirror_mode": {
    "name": "ipython",
    "version": 3
   },
   "file_extension": ".py",
   "mimetype": "text/x-python",
   "name": "python",
   "nbconvert_exporter": "python",
   "pygments_lexer": "ipython3",
   "version": "3.9.7"
  }
 },
 "nbformat": 4,
 "nbformat_minor": 5
}
