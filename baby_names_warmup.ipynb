{
 "cells": [
  {
   "cell_type": "markdown",
   "id": "491db769",
   "metadata": {},
   "source": [
    "# Baby Names\n",
    "\n",
    "This dataset contains information on how many babies were born with each name. Both the raw number and proportion of births for the year are included."
   ]
  },
  {
   "cell_type": "code",
   "execution_count": 1,
   "id": "e8a5856f",
   "metadata": {},
   "outputs": [
    {
     "data": {
      "text/html": [
       "<div>\n",
       "<style scoped>\n",
       "    .dataframe tbody tr th:only-of-type {\n",
       "        vertical-align: middle;\n",
       "    }\n",
       "\n",
       "    .dataframe tbody tr th {\n",
       "        vertical-align: top;\n",
       "    }\n",
       "\n",
       "    .dataframe thead th {\n",
       "        text-align: right;\n",
       "    }\n",
       "</style>\n",
       "<table border=\"1\" class=\"dataframe\">\n",
       "  <thead>\n",
       "    <tr style=\"text-align: right;\">\n",
       "      <th></th>\n",
       "      <th>year</th>\n",
       "      <th>sex</th>\n",
       "      <th>name</th>\n",
       "      <th>n</th>\n",
       "      <th>prop</th>\n",
       "    </tr>\n",
       "  </thead>\n",
       "  <tbody>\n",
       "    <tr>\n",
       "      <th>0</th>\n",
       "      <td>1880</td>\n",
       "      <td>F</td>\n",
       "      <td>Mary</td>\n",
       "      <td>7065</td>\n",
       "      <td>0.072384</td>\n",
       "    </tr>\n",
       "    <tr>\n",
       "      <th>1</th>\n",
       "      <td>1880</td>\n",
       "      <td>F</td>\n",
       "      <td>Anna</td>\n",
       "      <td>2604</td>\n",
       "      <td>0.026679</td>\n",
       "    </tr>\n",
       "    <tr>\n",
       "      <th>2</th>\n",
       "      <td>1880</td>\n",
       "      <td>F</td>\n",
       "      <td>Emma</td>\n",
       "      <td>2003</td>\n",
       "      <td>0.020521</td>\n",
       "    </tr>\n",
       "    <tr>\n",
       "      <th>3</th>\n",
       "      <td>1880</td>\n",
       "      <td>F</td>\n",
       "      <td>Elizabeth</td>\n",
       "      <td>1939</td>\n",
       "      <td>0.019866</td>\n",
       "    </tr>\n",
       "    <tr>\n",
       "      <th>4</th>\n",
       "      <td>1880</td>\n",
       "      <td>F</td>\n",
       "      <td>Minnie</td>\n",
       "      <td>1746</td>\n",
       "      <td>0.017888</td>\n",
       "    </tr>\n",
       "  </tbody>\n",
       "</table>\n",
       "</div>"
      ],
      "text/plain": [
       "   year sex       name     n      prop\n",
       "0  1880   F       Mary  7065  0.072384\n",
       "1  1880   F       Anna  2604  0.026679\n",
       "2  1880   F       Emma  2003  0.020521\n",
       "3  1880   F  Elizabeth  1939  0.019866\n",
       "4  1880   F     Minnie  1746  0.017888"
      ]
     },
     "execution_count": 1,
     "metadata": {},
     "output_type": "execute_result"
    }
   ],
   "source": [
    "import matplotlib.pyplot as plt\n",
    "import seaborn as sns\n",
    "import numpy as np\n",
    "import pandas as pd\n",
    "\n",
    "url = 'https://raw.githubusercontent.com/zgulde/tidytuesday/master/data/2022/2022-03-22/babynames.csv'\n",
    "df = pd.read_csv(url)\n",
    "df.head()"
   ]
  },
  {
   "cell_type": "markdown",
   "id": "0b8fa8e9",
   "metadata": {},
   "source": [
    "- What were the 10 most popular names the year you were born?\n",
    "- What year was your name the most popular?\n",
    "- Where does your name rank for the year that you were born?\n",
    "- Does your name increase or decrease in popularity compared to the year after the year you were born? The year before? What about 5 years before/after?\n",
    "- Visualize your name's popularity over time."
   ]
  },
  {
   "cell_type": "code",
   "execution_count": 25,
   "id": "bacfd04d",
   "metadata": {},
   "outputs": [
    {
     "data": {
      "text/html": [
       "<div>\n",
       "<style scoped>\n",
       "    .dataframe tbody tr th:only-of-type {\n",
       "        vertical-align: middle;\n",
       "    }\n",
       "\n",
       "    .dataframe tbody tr th {\n",
       "        vertical-align: top;\n",
       "    }\n",
       "\n",
       "    .dataframe thead th {\n",
       "        text-align: right;\n",
       "    }\n",
       "</style>\n",
       "<table border=\"1\" class=\"dataframe\">\n",
       "  <thead>\n",
       "    <tr style=\"text-align: right;\">\n",
       "      <th></th>\n",
       "      <th>name</th>\n",
       "      <th>n</th>\n",
       "      <th>prop</th>\n",
       "      <th>year</th>\n",
       "    </tr>\n",
       "  </thead>\n",
       "  <tbody>\n",
       "    <tr>\n",
       "      <th>1135047</th>\n",
       "      <td>Tyler</td>\n",
       "      <td>28793</td>\n",
       "      <td>0.013720</td>\n",
       "      <td>1992</td>\n",
       "    </tr>\n",
       "    <tr>\n",
       "      <th>1135046</th>\n",
       "      <td>Daniel</td>\n",
       "      <td>29146</td>\n",
       "      <td>0.013888</td>\n",
       "      <td>1992</td>\n",
       "    </tr>\n",
       "    <tr>\n",
       "      <th>1135045</th>\n",
       "      <td>Brandon</td>\n",
       "      <td>29620</td>\n",
       "      <td>0.014114</td>\n",
       "      <td>1992</td>\n",
       "    </tr>\n",
       "    <tr>\n",
       "      <th>1135044</th>\n",
       "      <td>Andrew</td>\n",
       "      <td>30535</td>\n",
       "      <td>0.014550</td>\n",
       "      <td>1992</td>\n",
       "    </tr>\n",
       "    <tr>\n",
       "      <th>1135043</th>\n",
       "      <td>Joshua</td>\n",
       "      <td>36216</td>\n",
       "      <td>0.017257</td>\n",
       "      <td>1992</td>\n",
       "    </tr>\n",
       "    <tr>\n",
       "      <th>1135042</th>\n",
       "      <td>Matthew</td>\n",
       "      <td>37736</td>\n",
       "      <td>0.017981</td>\n",
       "      <td>1992</td>\n",
       "    </tr>\n",
       "    <tr>\n",
       "      <th>1119430</th>\n",
       "      <td>Jessica</td>\n",
       "      <td>38354</td>\n",
       "      <td>0.019136</td>\n",
       "      <td>1992</td>\n",
       "    </tr>\n",
       "    <tr>\n",
       "      <th>1119429</th>\n",
       "      <td>Ashley</td>\n",
       "      <td>38452</td>\n",
       "      <td>0.019185</td>\n",
       "      <td>1992</td>\n",
       "    </tr>\n",
       "    <tr>\n",
       "      <th>1135041</th>\n",
       "      <td>Christopher</td>\n",
       "      <td>42461</td>\n",
       "      <td>0.020233</td>\n",
       "      <td>1992</td>\n",
       "    </tr>\n",
       "    <tr>\n",
       "      <th>1135040</th>\n",
       "      <td>Michael</td>\n",
       "      <td>54386</td>\n",
       "      <td>0.025915</td>\n",
       "      <td>1992</td>\n",
       "    </tr>\n",
       "  </tbody>\n",
       "</table>\n",
       "</div>"
      ],
      "text/plain": [
       "                name      n      prop  year\n",
       "1135047        Tyler  28793  0.013720  1992\n",
       "1135046       Daniel  29146  0.013888  1992\n",
       "1135045      Brandon  29620  0.014114  1992\n",
       "1135044       Andrew  30535  0.014550  1992\n",
       "1135043       Joshua  36216  0.017257  1992\n",
       "1135042      Matthew  37736  0.017981  1992\n",
       "1119430      Jessica  38354  0.019136  1992\n",
       "1119429       Ashley  38452  0.019185  1992\n",
       "1135041  Christopher  42461  0.020233  1992\n",
       "1135040      Michael  54386  0.025915  1992"
      ]
     },
     "execution_count": 25,
     "metadata": {},
     "output_type": "execute_result"
    }
   ],
   "source": [
    "# 10 most popular names year I was born (1992)\n",
    "df[['name', 'n', 'prop', 'year']][df.year == 1992].sort_values('n').tail(10)"
   ]
  },
  {
   "cell_type": "code",
   "execution_count": 28,
   "id": "14974603",
   "metadata": {},
   "outputs": [
    {
     "data": {
      "text/plain": [
       "year\n",
       "1989    173\n",
       "1997    181\n",
       "1999    182\n",
       "1998    200\n",
       "1996    202\n",
       "1991    207\n",
       "1995    227\n",
       "1994    232\n",
       "1993    240\n",
       "1992    269\n",
       "Name: n, dtype: int64"
      ]
     },
     "execution_count": 28,
     "metadata": {},
     "output_type": "execute_result"
    }
   ],
   "source": [
    "# What year was my name the most popular\n",
    "df[df.name == 'Brandyn'].sort_values('n', ascending=False)\n",
    "# 1992. woah.\n",
    "df[df.name == 'Brandyn'].groupby('year').n.sum().sort_values().tail(10)"
   ]
  },
  {
   "cell_type": "code",
   "execution_count": 32,
   "id": "4771cca9",
   "metadata": {},
   "outputs": [
    {
     "data": {
      "text/html": [
       "<div>\n",
       "<style scoped>\n",
       "    .dataframe tbody tr th:only-of-type {\n",
       "        vertical-align: middle;\n",
       "    }\n",
       "\n",
       "    .dataframe tbody tr th {\n",
       "        vertical-align: top;\n",
       "    }\n",
       "\n",
       "    .dataframe thead th {\n",
       "        text-align: right;\n",
       "    }\n",
       "</style>\n",
       "<table border=\"1\" class=\"dataframe\">\n",
       "  <thead>\n",
       "    <tr style=\"text-align: right;\">\n",
       "      <th></th>\n",
       "      <th>year</th>\n",
       "      <th>sex</th>\n",
       "      <th>name</th>\n",
       "      <th>n</th>\n",
       "      <th>prop</th>\n",
       "      <th>rank</th>\n",
       "    </tr>\n",
       "  </thead>\n",
       "  <tbody>\n",
       "    <tr>\n",
       "      <th>1127571</th>\n",
       "      <td>1992</td>\n",
       "      <td>F</td>\n",
       "      <td>Brandyn</td>\n",
       "      <td>10</td>\n",
       "      <td>0.000005</td>\n",
       "      <td>13844.0</td>\n",
       "    </tr>\n",
       "    <tr>\n",
       "      <th>1135679</th>\n",
       "      <td>1992</td>\n",
       "      <td>M</td>\n",
       "      <td>Brandyn</td>\n",
       "      <td>259</td>\n",
       "      <td>0.000123</td>\n",
       "      <td>1426.0</td>\n",
       "    </tr>\n",
       "  </tbody>\n",
       "</table>\n",
       "</div>"
      ],
      "text/plain": [
       "         year sex     name    n      prop     rank\n",
       "1127571  1992   F  Brandyn   10  0.000005  13844.0\n",
       "1135679  1992   M  Brandyn  259  0.000123   1426.0"
      ]
     },
     "execution_count": 32,
     "metadata": {},
     "output_type": "execute_result"
    }
   ],
   "source": [
    "# How does my name rank for the year I was born\n",
    "year_1992 = df[df.year == 1992].copy()\n",
    "year_1992['rank'] = year_1992.n.rank(ascending=False)\n",
    "year_1992[year_1992.name == 'Brandyn']"
   ]
  },
  {
   "cell_type": "code",
   "execution_count": 15,
   "id": "3378b75f",
   "metadata": {},
   "outputs": [],
   "source": [
    "# Does your name increase or decrease in popularity compared to the year after the year you were born? \n",
    "# The year before? What about 5 years before/after?\n",
    "B_year = df[df.name == 'Brandyn'].sort_values('year', ascending = False)"
   ]
  },
  {
   "cell_type": "code",
   "execution_count": 18,
   "id": "59527bd9",
   "metadata": {},
   "outputs": [
    {
     "data": {
      "text/html": [
       "<div>\n",
       "<style scoped>\n",
       "    .dataframe tbody tr th:only-of-type {\n",
       "        vertical-align: middle;\n",
       "    }\n",
       "\n",
       "    .dataframe tbody tr th {\n",
       "        vertical-align: top;\n",
       "    }\n",
       "\n",
       "    .dataframe thead th {\n",
       "        text-align: right;\n",
       "    }\n",
       "</style>\n",
       "<table border=\"1\" class=\"dataframe\">\n",
       "  <thead>\n",
       "    <tr style=\"text-align: right;\">\n",
       "      <th></th>\n",
       "      <th>year</th>\n",
       "      <th>sex</th>\n",
       "      <th>name</th>\n",
       "      <th>n</th>\n",
       "      <th>prop</th>\n",
       "    </tr>\n",
       "  </thead>\n",
       "  <tbody>\n",
       "    <tr>\n",
       "      <th>1266306</th>\n",
       "      <td>1997</td>\n",
       "      <td>M</td>\n",
       "      <td>Brandyn</td>\n",
       "      <td>175</td>\n",
       "      <td>0.000088</td>\n",
       "    </tr>\n",
       "    <tr>\n",
       "      <th>1261606</th>\n",
       "      <td>1997</td>\n",
       "      <td>F</td>\n",
       "      <td>Brandyn</td>\n",
       "      <td>6</td>\n",
       "      <td>0.000003</td>\n",
       "    </tr>\n",
       "    <tr>\n",
       "      <th>1233622</th>\n",
       "      <td>1996</td>\n",
       "      <td>F</td>\n",
       "      <td>Brandyn</td>\n",
       "      <td>7</td>\n",
       "      <td>0.000004</td>\n",
       "    </tr>\n",
       "    <tr>\n",
       "      <th>1239544</th>\n",
       "      <td>1996</td>\n",
       "      <td>M</td>\n",
       "      <td>Brandyn</td>\n",
       "      <td>195</td>\n",
       "      <td>0.000097</td>\n",
       "    </tr>\n",
       "    <tr>\n",
       "      <th>1213296</th>\n",
       "      <td>1995</td>\n",
       "      <td>M</td>\n",
       "      <td>Brandyn</td>\n",
       "      <td>216</td>\n",
       "      <td>0.000107</td>\n",
       "    </tr>\n",
       "    <tr>\n",
       "      <th>1204393</th>\n",
       "      <td>1995</td>\n",
       "      <td>F</td>\n",
       "      <td>Brandyn</td>\n",
       "      <td>11</td>\n",
       "      <td>0.000006</td>\n",
       "    </tr>\n",
       "    <tr>\n",
       "      <th>1187253</th>\n",
       "      <td>1994</td>\n",
       "      <td>M</td>\n",
       "      <td>Brandyn</td>\n",
       "      <td>232</td>\n",
       "      <td>0.000114</td>\n",
       "    </tr>\n",
       "    <tr>\n",
       "      <th>1161327</th>\n",
       "      <td>1993</td>\n",
       "      <td>M</td>\n",
       "      <td>Brandyn</td>\n",
       "      <td>231</td>\n",
       "      <td>0.000112</td>\n",
       "    </tr>\n",
       "    <tr>\n",
       "      <th>1153662</th>\n",
       "      <td>1993</td>\n",
       "      <td>F</td>\n",
       "      <td>Brandyn</td>\n",
       "      <td>9</td>\n",
       "      <td>0.000005</td>\n",
       "    </tr>\n",
       "    <tr>\n",
       "      <th>1135679</th>\n",
       "      <td>1992</td>\n",
       "      <td>M</td>\n",
       "      <td>Brandyn</td>\n",
       "      <td>259</td>\n",
       "      <td>0.000123</td>\n",
       "    </tr>\n",
       "    <tr>\n",
       "      <th>1127571</th>\n",
       "      <td>1992</td>\n",
       "      <td>F</td>\n",
       "      <td>Brandyn</td>\n",
       "      <td>10</td>\n",
       "      <td>0.000005</td>\n",
       "    </tr>\n",
       "    <tr>\n",
       "      <th>1110485</th>\n",
       "      <td>1991</td>\n",
       "      <td>M</td>\n",
       "      <td>Brandyn</td>\n",
       "      <td>207</td>\n",
       "      <td>0.000098</td>\n",
       "    </tr>\n",
       "    <tr>\n",
       "      <th>1081177</th>\n",
       "      <td>1990</td>\n",
       "      <td>F</td>\n",
       "      <td>Brandyn</td>\n",
       "      <td>6</td>\n",
       "      <td>0.000003</td>\n",
       "    </tr>\n",
       "    <tr>\n",
       "      <th>1085649</th>\n",
       "      <td>1990</td>\n",
       "      <td>M</td>\n",
       "      <td>Brandyn</td>\n",
       "      <td>158</td>\n",
       "      <td>0.000073</td>\n",
       "    </tr>\n",
       "    <tr>\n",
       "      <th>1061149</th>\n",
       "      <td>1989</td>\n",
       "      <td>M</td>\n",
       "      <td>Brandyn</td>\n",
       "      <td>165</td>\n",
       "      <td>0.000079</td>\n",
       "    </tr>\n",
       "    <tr>\n",
       "      <th>1054679</th>\n",
       "      <td>1989</td>\n",
       "      <td>F</td>\n",
       "      <td>Brandyn</td>\n",
       "      <td>8</td>\n",
       "      <td>0.000004</td>\n",
       "    </tr>\n",
       "    <tr>\n",
       "      <th>1038110</th>\n",
       "      <td>1988</td>\n",
       "      <td>M</td>\n",
       "      <td>Brandyn</td>\n",
       "      <td>151</td>\n",
       "      <td>0.000075</td>\n",
       "    </tr>\n",
       "    <tr>\n",
       "      <th>1030650</th>\n",
       "      <td>1988</td>\n",
       "      <td>F</td>\n",
       "      <td>Brandyn</td>\n",
       "      <td>10</td>\n",
       "      <td>0.000005</td>\n",
       "    </tr>\n",
       "    <tr>\n",
       "      <th>1016156</th>\n",
       "      <td>1987</td>\n",
       "      <td>M</td>\n",
       "      <td>Brandyn</td>\n",
       "      <td>124</td>\n",
       "      <td>0.000064</td>\n",
       "    </tr>\n",
       "    <tr>\n",
       "      <th>1007401</th>\n",
       "      <td>1987</td>\n",
       "      <td>F</td>\n",
       "      <td>Brandyn</td>\n",
       "      <td>14</td>\n",
       "      <td>0.000007</td>\n",
       "    </tr>\n",
       "  </tbody>\n",
       "</table>\n",
       "</div>"
      ],
      "text/plain": [
       "         year sex     name    n      prop\n",
       "1266306  1997   M  Brandyn  175  0.000088\n",
       "1261606  1997   F  Brandyn    6  0.000003\n",
       "1233622  1996   F  Brandyn    7  0.000004\n",
       "1239544  1996   M  Brandyn  195  0.000097\n",
       "1213296  1995   M  Brandyn  216  0.000107\n",
       "1204393  1995   F  Brandyn   11  0.000006\n",
       "1187253  1994   M  Brandyn  232  0.000114\n",
       "1161327  1993   M  Brandyn  231  0.000112\n",
       "1153662  1993   F  Brandyn    9  0.000005\n",
       "1135679  1992   M  Brandyn  259  0.000123\n",
       "1127571  1992   F  Brandyn   10  0.000005\n",
       "1110485  1991   M  Brandyn  207  0.000098\n",
       "1081177  1990   F  Brandyn    6  0.000003\n",
       "1085649  1990   M  Brandyn  158  0.000073\n",
       "1061149  1989   M  Brandyn  165  0.000079\n",
       "1054679  1989   F  Brandyn    8  0.000004\n",
       "1038110  1988   M  Brandyn  151  0.000075\n",
       "1030650  1988   F  Brandyn   10  0.000005\n",
       "1016156  1987   M  Brandyn  124  0.000064\n",
       "1007401  1987   F  Brandyn   14  0.000007"
      ]
     },
     "execution_count": 18,
     "metadata": {},
     "output_type": "execute_result"
    }
   ],
   "source": [
    "B_year[B_year.year.between(1987, 1997)]"
   ]
  },
  {
   "cell_type": "code",
   "execution_count": 20,
   "id": "f2cc8b75",
   "metadata": {},
   "outputs": [
    {
     "data": {
      "text/plain": [
       "array([[<AxesSubplot:title={'center':'year'}>,\n",
       "        <AxesSubplot:title={'center':'n'}>],\n",
       "       [<AxesSubplot:title={'center':'prop'}>, <AxesSubplot:>]],\n",
       "      dtype=object)"
      ]
     },
     "execution_count": 20,
     "metadata": {},
     "output_type": "execute_result"
    },
    {
     "data": {
      "image/png": "[encoded data removed]",
      "text/plain": [
       "<Figure size 432x288 with 4 Axes>"
      ]
     },
     "metadata": {
      "needs_background": "light"
     },
     "output_type": "display_data"
    }
   ],
   "source": [
    "# Visualize name's popularity over time\n",
    "B_year.hist()"
   ]
  },
  {
   "cell_type": "code",
   "execution_count": 38,
   "id": "d60dc77b",
   "metadata": {},
   "outputs": [
    {
     "data": {
      "image/png": "[encoded data removed]",
      "text/plain": [
       "<Figure size 1080x360 with 1 Axes>"
      ]
     },
     "metadata": {
      "needs_background": "light"
     },
     "output_type": "display_data"
    }
   ],
   "source": [
    "plt.figure(figsize=(15,5))\n",
    "B_year = B_year.groupby('year').n.sum()\n",
    "plt.plot(B_year.index, B_year.values)\n",
    "plt.gca().yaxis.set_major_formatter('{:,.0f}'.format)"
   ]
  },
  {
   "cell_type": "code",
   "execution_count": 24,
   "id": "f99dac45",
   "metadata": {},
   "outputs": [
    {
     "data": {
      "text/plain": [
       "<seaborn.axisgrid.JointGrid at 0x7fb142080190>"
      ]
     },
     "execution_count": 24,
     "metadata": {},
     "output_type": "execute_result"
    },
    {
     "data": {
      "image/png": "[encoded data removed]",
      "text/plain": [
       "<Figure size 432x432 with 3 Axes>"
      ]
     },
     "metadata": {
      "needs_background": "light"
     },
     "output_type": "display_data"
    }
   ],
   "source": [
    "sns.jointplot(x='year', y='n', data=B_year, hue='sex')"
   ]
  },
  {
   "cell_type": "code",
   "execution_count": null,
   "id": "ce530f54",
   "metadata": {},
   "outputs": [],
   "source": []
  }
 ],
 "metadata": {
  "kernelspec": {
   "display_name": "Python 3 (ipykernel)",
   "language": "python",
   "name": "python3"
  },
  "language_info": {
   "codemirror_mode": {
    "name": "ipython",
    "version": 3
   },
   "file_extension": ".py",
   "mimetype": "text/x-python",
   "name": "python",
   "nbconvert_exporter": "python",
   "pygments_lexer": "ipython3",
   "version": "3.9.7"
  }
 },
 "nbformat": 4,
 "nbformat_minor": 5
}
